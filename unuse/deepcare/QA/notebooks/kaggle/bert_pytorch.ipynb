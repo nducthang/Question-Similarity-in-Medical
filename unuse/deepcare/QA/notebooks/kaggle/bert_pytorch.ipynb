{
  "nbformat": 4,
  "nbformat_minor": 0,
  "metadata": {
    "language_info": {
      "codemirror_mode": {
        "name": "ipython",
        "version": 3
      },
      "file_extension": ".py",
      "mimetype": "text/x-python",
      "name": "python",
      "nbconvert_exporter": "python",
      "pygments_lexer": "ipython3",
      "version": "3.6.9-final"
    },
    "orig_nbformat": 2,
    "kernelspec": {
      "name": "python3",
      "display_name": "Python 3",
      "language": "python"
    },
    "colab": {
      "name": "bert_pytorch.ipynb",
      "provenance": []
    },
    "accelerator": "GPU"
  },
  "cells": [
    {
      "cell_type": "code",
      "metadata": {
        "colab": {
          "base_uri": "https://localhost:8080/"
        },
        "id": "9IhqMFFAVPZh",
        "outputId": "5fe8b9d6-6395-4411-d0bb-58c15228b4a7"
      },
      "source": [
        "from google.colab import drive\n",
        "drive.mount('/content/drive')\n",
        "import os\n",
        "os.chdir('/content/drive/My Drive/AI/DEEPCARE/KAGGLE')"
      ],
      "execution_count": 1,
      "outputs": [
        {
          "output_type": "stream",
          "text": [
            "Drive already mounted at /content/drive; to attempt to forcibly remount, call drive.mount(\"/content/drive\", force_remount=True).\n"
          ],
          "name": "stdout"
        }
      ]
    },
    {
      "cell_type": "code",
      "metadata": {
        "colab": {
          "base_uri": "https://localhost:8080/"
        },
        "id": "3dJTN2q3VqS1",
        "outputId": "2f9c66ea-8306-48d1-f94d-517838bb226b"
      },
      "source": [
        "!pip3 install tokenizers==0.8.1rc2\n",
        "!pip3 install transformers==3.3.1"
      ],
      "execution_count": 2,
      "outputs": [
        {
          "output_type": "stream",
          "text": [
            "Requirement already satisfied: tokenizers==0.8.1rc2 in /usr/local/lib/python3.7/dist-packages (0.8.1rc2)\n",
            "Requirement already satisfied: transformers==3.3.1 in /usr/local/lib/python3.7/dist-packages (3.3.1)\n",
            "Requirement already satisfied: requests in /usr/local/lib/python3.7/dist-packages (from transformers==3.3.1) (2.23.0)\n",
            "Requirement already satisfied: regex!=2019.12.17 in /usr/local/lib/python3.7/dist-packages (from transformers==3.3.1) (2019.12.20)\n",
            "Requirement already satisfied: sacremoses in /usr/local/lib/python3.7/dist-packages (from transformers==3.3.1) (0.0.43)\n",
            "Requirement already satisfied: numpy in /usr/local/lib/python3.7/dist-packages (from transformers==3.3.1) (1.19.5)\n",
            "Requirement already satisfied: tokenizers==0.8.1.rc2 in /usr/local/lib/python3.7/dist-packages (from transformers==3.3.1) (0.8.1rc2)\n",
            "Requirement already satisfied: sentencepiece!=0.1.92 in /usr/local/lib/python3.7/dist-packages (from transformers==3.3.1) (0.1.95)\n",
            "Requirement already satisfied: filelock in /usr/local/lib/python3.7/dist-packages (from transformers==3.3.1) (3.0.12)\n",
            "Requirement already satisfied: tqdm>=4.27 in /usr/local/lib/python3.7/dist-packages (from transformers==3.3.1) (4.41.1)\n",
            "Requirement already satisfied: packaging in /usr/local/lib/python3.7/dist-packages (from transformers==3.3.1) (20.9)\n",
            "Requirement already satisfied: urllib3!=1.25.0,!=1.25.1,<1.26,>=1.21.1 in /usr/local/lib/python3.7/dist-packages (from requests->transformers==3.3.1) (1.24.3)\n",
            "Requirement already satisfied: chardet<4,>=3.0.2 in /usr/local/lib/python3.7/dist-packages (from requests->transformers==3.3.1) (3.0.4)\n",
            "Requirement already satisfied: certifi>=2017.4.17 in /usr/local/lib/python3.7/dist-packages (from requests->transformers==3.3.1) (2020.12.5)\n",
            "Requirement already satisfied: idna<3,>=2.5 in /usr/local/lib/python3.7/dist-packages (from requests->transformers==3.3.1) (2.10)\n",
            "Requirement already satisfied: click in /usr/local/lib/python3.7/dist-packages (from sacremoses->transformers==3.3.1) (7.1.2)\n",
            "Requirement already satisfied: six in /usr/local/lib/python3.7/dist-packages (from sacremoses->transformers==3.3.1) (1.15.0)\n",
            "Requirement already satisfied: joblib in /usr/local/lib/python3.7/dist-packages (from sacremoses->transformers==3.3.1) (1.0.1)\n",
            "Requirement already satisfied: pyparsing>=2.0.2 in /usr/local/lib/python3.7/dist-packages (from packaging->transformers==3.3.1) (2.4.7)\n"
          ],
          "name": "stdout"
        }
      ]
    },
    {
      "cell_type": "code",
      "metadata": {
        "id": "xJHsCmPrVNPS"
      },
      "source": [
        "import torch\n",
        "import torch.nn as nn\n",
        "\n",
        "import seaborn as sns\n",
        "import matplotlib.pyplot as plt\n",
        "\n",
        "from tqdm import tqdm\n",
        "\n",
        "from sklearn.model_selection import train_test_split\n",
        "\n",
        "import transformers\n",
        "from transformers import BertModel, BertTokenizer, AdamW, get_linear_schedule_with_warmup\n",
        "\n",
        "import numpy as np\n",
        "import pandas as pd"
      ],
      "execution_count": 3,
      "outputs": []
    },
    {
      "cell_type": "code",
      "metadata": {
        "id": "P9IBeYa7VNPY"
      },
      "source": [
        "device = torch.device(\"cuda\" if torch.cuda.is_available() else \"cpu\")"
      ],
      "execution_count": 4,
      "outputs": []
    },
    {
      "cell_type": "code",
      "metadata": {
        "id": "yY48CaVWVNPY"
      },
      "source": [
        "SEED = 28091997\n",
        "\n",
        "np.random.seed(SEED)\n",
        "torch.manual_seed(SEED)\n",
        "torch.cuda.manual_seed(SEED)\n",
        "torch.backends.cudnn.deterministic = True\n"
      ],
      "execution_count": 5,
      "outputs": []
    },
    {
      "cell_type": "markdown",
      "metadata": {
        "id": "O2eiMr7kVNPZ"
      },
      "source": [
        "# Phân tích dữ liệu"
      ]
    },
    {
      "cell_type": "code",
      "metadata": {
        "colab": {
          "base_uri": "https://localhost:8080/"
        },
        "id": "H3o916rNVNPZ",
        "outputId": "1dcde288-8245-422c-d07a-e5123d1bd9c5"
      },
      "source": [
        "train_df = pd.read_csv(\"./data/kaggle/train.csv\")\n",
        "train_df.info()"
      ],
      "execution_count": 6,
      "outputs": [
        {
          "output_type": "stream",
          "text": [
            "<class 'pandas.core.frame.DataFrame'>\n",
            "RangeIndex: 404290 entries, 0 to 404289\n",
            "Data columns (total 6 columns):\n",
            " #   Column        Non-Null Count   Dtype \n",
            "---  ------        --------------   ----- \n",
            " 0   id            404290 non-null  int64 \n",
            " 1   qid1          404290 non-null  int64 \n",
            " 2   qid2          404290 non-null  int64 \n",
            " 3   question1     404289 non-null  object\n",
            " 4   question2     404288 non-null  object\n",
            " 5   is_duplicate  404290 non-null  int64 \n",
            "dtypes: int64(4), object(2)\n",
            "memory usage: 18.5+ MB\n"
          ],
          "name": "stdout"
        }
      ]
    },
    {
      "cell_type": "code",
      "metadata": {
        "id": "PS5qfB1zVNPa"
      },
      "source": [
        "# Xóa nan\n",
        "train_df.dropna(inplace=True)"
      ],
      "execution_count": 7,
      "outputs": []
    },
    {
      "cell_type": "markdown",
      "metadata": {
        "id": "qAQSHa4oVNPa"
      },
      "source": [
        "Vẽ đồ thị số từ của cả 2 câu hỏi"
      ]
    },
    {
      "cell_type": "code",
      "metadata": {
        "id": "USO0YjtJVNPa"
      },
      "source": [
        "train_sentences_lens = train_df['question1'].apply(lambda x: len(x.split(' '))).tolist()\n",
        "\n",
        "train_sentences_lens.extend(train_df['question2'].apply(lambda x: len(x.split(' '))).tolist())"
      ],
      "execution_count": 8,
      "outputs": []
    },
    {
      "cell_type": "code",
      "metadata": {
        "colab": {
          "base_uri": "https://localhost:8080/",
          "height": 336
        },
        "id": "W5tX7THCVNPb",
        "outputId": "f49ac604-7281-4997-b9f9-feac1584f78b"
      },
      "source": [
        "sns.distplot(train_sentences_lens)"
      ],
      "execution_count": 9,
      "outputs": [
        {
          "output_type": "stream",
          "text": [
            "/usr/local/lib/python3.7/dist-packages/seaborn/distributions.py:2557: FutureWarning: `distplot` is a deprecated function and will be removed in a future version. Please adapt your code to use either `displot` (a figure-level function with similar flexibility) or `histplot` (an axes-level function for histograms).\n",
            "  warnings.warn(msg, FutureWarning)\n"
          ],
          "name": "stderr"
        },
        {
          "output_type": "execute_result",
          "data": {
            "text/plain": [
              "<matplotlib.axes._subplots.AxesSubplot at 0x7f31e62e7910>"
            ]
          },
          "metadata": {
            "tags": []
          },
          "execution_count": 9
        },
        {
          "output_type": "display_data",
          "data": {
            "image/png": "[encoded data removed]",
            "text/plain": [
              "<Figure size 432x288 with 1 Axes>"
            ]
          },
          "metadata": {
            "tags": [],
            "needs_background": "light"
          }
        }
      ]
    },
    {
      "cell_type": "code",
      "metadata": {
        "id": "y4hB92ObVNPb"
      },
      "source": [
        "MAX_LEN = 40"
      ],
      "execution_count": 10,
      "outputs": []
    },
    {
      "cell_type": "code",
      "metadata": {
        "colab": {
          "base_uri": "https://localhost:8080/"
        },
        "id": "Q85Z_-3qVNPb",
        "outputId": "9efb9248-cb26-47a0-b0be-281a0572a668"
      },
      "source": [
        "train_df.columns"
      ],
      "execution_count": 11,
      "outputs": [
        {
          "output_type": "execute_result",
          "data": {
            "text/plain": [
              "Index(['id', 'qid1', 'qid2', 'question1', 'question2', 'is_duplicate'], dtype='object')"
            ]
          },
          "metadata": {
            "tags": []
          },
          "execution_count": 11
        }
      ]
    },
    {
      "cell_type": "code",
      "metadata": {
        "colab": {
          "base_uri": "https://localhost:8080/",
          "height": 282
        },
        "id": "lJjC1MvOVNPc",
        "outputId": "b22a1629-168b-4f0d-83c4-aee268da86a3"
      },
      "source": [
        "# Xem phân phối pos và neg\n",
        "train_df.is_duplicate.plot.hist()"
      ],
      "execution_count": 12,
      "outputs": [
        {
          "output_type": "execute_result",
          "data": {
            "text/plain": [
              "<matplotlib.axes._subplots.AxesSubplot at 0x7f31e21e64d0>"
            ]
          },
          "metadata": {
            "tags": []
          },
          "execution_count": 12
        },
        {
          "output_type": "display_data",
          "data": {
            "image/png": "[encoded data removed]",
            "text/plain": [
              "<Figure size 432x288 with 1 Axes>"
            ]
          },
          "metadata": {
            "tags": [],
            "needs_background": "light"
          }
        }
      ]
    },
    {
      "cell_type": "code",
      "metadata": {
        "colab": {
          "base_uri": "https://localhost:8080/"
        },
        "id": "sW8e0YjvVNPc",
        "outputId": "532b1a2a-76a7-49b3-c2d6-e313f29ae4d7"
      },
      "source": [
        "# Kiểm tra xem có cặp câu hỏi nào bị trùng trong dữ liệu không\n",
        "duplicate_rows = train_df[train_df.duplicated(['qid1', 'qid2'])]\n",
        "print(\"Number of duplicate questions:\", len(duplicate_rows))"
      ],
      "execution_count": 13,
      "outputs": [
        {
          "output_type": "stream",
          "text": [
            "Number of duplicate questions: 0\n"
          ],
          "name": "stdout"
        }
      ]
    },
    {
      "cell_type": "code",
      "metadata": {
        "id": "pBOdzBJKVNPd"
      },
      "source": [
        "# Số từ chung giữa question1 và question2 chia cho tổng số từ cả 2 câu\n",
        "def shared_words(row):\n",
        "    q1_word_set = set(map(lambda word: word.lower().strip(), row['question1'].split(\" \")))\n",
        "    q2_word_set = set(map(lambda word: word.lower().strip(), row['question2'].split(\" \")))\n",
        "    return 1.0*len(q1_word_set & q2_word_set)/(len(q1_word_set)+len(q2_word_set))"
      ],
      "execution_count": 14,
      "outputs": []
    },
    {
      "cell_type": "code",
      "metadata": {
        "id": "pj9DTTFsVNPd"
      },
      "source": [
        "train_df['shared_words'] = train_df.apply(shared_words, axis=1)"
      ],
      "execution_count": 15,
      "outputs": []
    },
    {
      "cell_type": "code",
      "metadata": {
        "colab": {
          "base_uri": "https://localhost:8080/",
          "height": 204
        },
        "id": "96WVgb6-VNPe",
        "outputId": "dd3b25b2-d7be-4644-e389-112ef0f2d243"
      },
      "source": [
        "train_df.head()"
      ],
      "execution_count": 16,
      "outputs": [
        {
          "output_type": "execute_result",
          "data": {
            "text/html": [
              "<div>\n",
              "<style scoped>\n",
              "    .dataframe tbody tr th:only-of-type {\n",
              "        vertical-align: middle;\n",
              "    }\n",
              "\n",
              "    .dataframe tbody tr th {\n",
              "        vertical-align: top;\n",
              "    }\n",
              "\n",
              "    .dataframe thead th {\n",
              "        text-align: right;\n",
              "    }\n",
              "</style>\n",
              "<table border=\"1\" class=\"dataframe\">\n",
              "  <thead>\n",
              "    <tr style=\"text-align: right;\">\n",
              "      <th></th>\n",
              "      <th>id</th>\n",
              "      <th>qid1</th>\n",
              "      <th>qid2</th>\n",
              "      <th>question1</th>\n",
              "      <th>question2</th>\n",
              "      <th>is_duplicate</th>\n",
              "      <th>shared_words</th>\n",
              "    </tr>\n",
              "  </thead>\n",
              "  <tbody>\n",
              "    <tr>\n",
              "      <th>0</th>\n",
              "      <td>0</td>\n",
              "      <td>1</td>\n",
              "      <td>2</td>\n",
              "      <td>What is the step by step guide to invest in sh...</td>\n",
              "      <td>What is the step by step guide to invest in sh...</td>\n",
              "      <td>0</td>\n",
              "      <td>0.434783</td>\n",
              "    </tr>\n",
              "    <tr>\n",
              "      <th>1</th>\n",
              "      <td>1</td>\n",
              "      <td>3</td>\n",
              "      <td>4</td>\n",
              "      <td>What is the story of Kohinoor (Koh-i-Noor) Dia...</td>\n",
              "      <td>What would happen if the Indian government sto...</td>\n",
              "      <td>0</td>\n",
              "      <td>0.200000</td>\n",
              "    </tr>\n",
              "    <tr>\n",
              "      <th>2</th>\n",
              "      <td>2</td>\n",
              "      <td>5</td>\n",
              "      <td>6</td>\n",
              "      <td>How can I increase the speed of my internet co...</td>\n",
              "      <td>How can Internet speed be increased by hacking...</td>\n",
              "      <td>0</td>\n",
              "      <td>0.166667</td>\n",
              "    </tr>\n",
              "    <tr>\n",
              "      <th>3</th>\n",
              "      <td>3</td>\n",
              "      <td>7</td>\n",
              "      <td>8</td>\n",
              "      <td>Why am I mentally very lonely? How can I solve...</td>\n",
              "      <td>Find the remainder when [math]23^{24}[/math] i...</td>\n",
              "      <td>0</td>\n",
              "      <td>0.000000</td>\n",
              "    </tr>\n",
              "    <tr>\n",
              "      <th>4</th>\n",
              "      <td>4</td>\n",
              "      <td>9</td>\n",
              "      <td>10</td>\n",
              "      <td>Which one dissolve in water quikly sugar, salt...</td>\n",
              "      <td>Which fish would survive in salt water?</td>\n",
              "      <td>0</td>\n",
              "      <td>0.100000</td>\n",
              "    </tr>\n",
              "  </tbody>\n",
              "</table>\n",
              "</div>"
            ],
            "text/plain": [
              "   id  qid1  ...  is_duplicate shared_words\n",
              "0   0     1  ...             0     0.434783\n",
              "1   1     3  ...             0     0.200000\n",
              "2   2     5  ...             0     0.166667\n",
              "3   3     7  ...             0     0.000000\n",
              "4   4     9  ...             0     0.100000\n",
              "\n",
              "[5 rows x 7 columns]"
            ]
          },
          "metadata": {
            "tags": []
          },
          "execution_count": 16
        }
      ]
    },
    {
      "cell_type": "code",
      "metadata": {
        "colab": {
          "base_uri": "https://localhost:8080/",
          "height": 694
        },
        "id": "fY9qhjxmVNPe",
        "outputId": "2ddb9613-1e5c-45d7-e37f-dd62a8dd6e9d"
      },
      "source": [
        "plt.figure(figsize=(15, 10))\n",
        "\n",
        "plt.subplot(1,2,2)\n",
        "sns.distplot(train_df[train_df['is_duplicate'] == 1]['shared_words'][0:] , label = \"1\", color = 'red')\n",
        "sns.distplot(train_df[train_df['is_duplicate'] == 0]['shared_words'][0:] , label = \"0\" , color = 'green' )\n",
        "\n",
        "plt.subplot(1,2,1)\n",
        "sns.violinplot(x = 'is_duplicate', y = 'shared_words', data = train_df[0:])\n",
        "\n",
        "plt.show()"
      ],
      "execution_count": 17,
      "outputs": [
        {
          "output_type": "stream",
          "text": [
            "/usr/local/lib/python3.7/dist-packages/seaborn/distributions.py:2557: FutureWarning: `distplot` is a deprecated function and will be removed in a future version. Please adapt your code to use either `displot` (a figure-level function with similar flexibility) or `histplot` (an axes-level function for histograms).\n",
            "  warnings.warn(msg, FutureWarning)\n",
            "/usr/local/lib/python3.7/dist-packages/seaborn/distributions.py:2557: FutureWarning: `distplot` is a deprecated function and will be removed in a future version. Please adapt your code to use either `displot` (a figure-level function with similar flexibility) or `histplot` (an axes-level function for histograms).\n",
            "  warnings.warn(msg, FutureWarning)\n"
          ],
          "name": "stderr"
        },
        {
          "output_type": "display_data",
          "data": {
            "image/png": "[encoded data removed]",
            "text/plain": [
              "<Figure size 1080x720 with 2 Axes>"
            ]
          },
          "metadata": {
            "tags": [],
            "needs_background": "light"
          }
        }
      ]
    },
    {
      "cell_type": "markdown",
      "metadata": {
        "id": "4tUVrCYlVNPe"
      },
      "source": [
        "# Chuẩn bị dữ liệu"
      ]
    },
    {
      "cell_type": "code",
      "metadata": {
        "id": "h5MnPCE1VNPf"
      },
      "source": [
        "BERT_VERSION = 'bert-base-uncased'\n",
        "POOLED_OUTPUT_DIM = 768"
      ],
      "execution_count": 18,
      "outputs": []
    },
    {
      "cell_type": "code",
      "metadata": {
        "id": "SeKuLG4-VNPf"
      },
      "source": [
        "tokenizer = BertTokenizer.from_pretrained(BERT_VERSION)"
      ],
      "execution_count": 19,
      "outputs": []
    },
    {
      "cell_type": "code",
      "metadata": {
        "id": "wlfPfOklVNPf"
      },
      "source": [
        "# split train and validation set\n",
        "train_df, val_df = train_test_split(train_df, test_size=0.1)\n",
        "train_df = train_df.reset_index(drop=True)\n",
        "val_df = val_df.reset_index(drop=True)"
      ],
      "execution_count": 20,
      "outputs": []
    },
    {
      "cell_type": "code",
      "metadata": {
        "id": "qr7G3a6cVNPf"
      },
      "source": [
        "class BertDataSet:\n",
        "    def __init__(self, first_questions, second_questions, targets, tokenizer):\n",
        "        self.first_questions = first_questions\n",
        "        self.second_questions = second_questions\n",
        "        self.targets = targets\n",
        "        self.tokenizer = tokenizer\n",
        "        self.length = len(first_questions)\n",
        "\n",
        "    def __len__(self):\n",
        "        return self.length\n",
        "\n",
        "    def __getitem__(self, item):\n",
        "        first_questions = str(self.first_questions[item])\n",
        "        second_questions = str(self.second_questions[item])\n",
        "\n",
        "        # remove extra white spaces from questions\n",
        "        first_questions = \" \".join(first_questions.split())\n",
        "        second_questions = \" \".join(second_questions.split())\n",
        "\n",
        "        ### [CLS] question1 [SEP] question2 [SEP] ... [PAD]\n",
        "        inputs = self.tokenizer.encode_plus(\n",
        "            first_questions,\n",
        "            second_questions,\n",
        "            add_special_tokens=True,\n",
        "            padding='max_length',\n",
        "            max_length=2*MAX_LEN+3, # max length of 2 questions and 3 spectial tokens\n",
        "            truncation=True\n",
        "        )\n",
        "\n",
        "        # return targets 0, when using data set in testing and targets are none\n",
        "        return {\n",
        "            \"ids\": torch.tensor(inputs[\"input_ids\"], dtype=torch.long),\n",
        "            \"mask\": torch.tensor(inputs[\"attention_mask\"], dtype=torch.long),\n",
        "            \"token_type_ids\": torch.tensor(inputs[\"token_type_ids\"], dtype=torch.long),\n",
        "            \"targets\": torch.tensor(int(self.targets[item]), dtype=torch.long) if self.targets is not None else 0\n",
        "        }"
      ],
      "execution_count": 21,
      "outputs": []
    },
    {
      "cell_type": "code",
      "metadata": {
        "id": "JvJq4EEVVNPg"
      },
      "source": [
        "# creates dataset and returns dataloader of it\n",
        "def get_data_loader(df, targets, batch_size, shuffle, tokenizer):\n",
        "    dataset = BertDataSet(\n",
        "        first_questions=df[\"question1\"].values,\n",
        "        second_questions=df[\"question2\"].values,\n",
        "        targets=targets,\n",
        "        tokenizer=tokenizer\n",
        "    )\n",
        "\n",
        "    data_loader = torch.utils.data.DataLoader(\n",
        "        dataset,\n",
        "        batch_size = batch_size,\n",
        "        shuffle=shuffle\n",
        "    )\n",
        "\n",
        "    return data_loader"
      ],
      "execution_count": 22,
      "outputs": []
    },
    {
      "cell_type": "code",
      "metadata": {
        "id": "OPklW3k7VNPg"
      },
      "source": [
        "BATCH_SIZE = 128"
      ],
      "execution_count": 23,
      "outputs": []
    },
    {
      "cell_type": "code",
      "metadata": {
        "id": "oWm_BlTLVNPg"
      },
      "source": [
        "# create data loaders of training and validation data\n",
        "train_data_loader = get_data_loader(\n",
        "    df=train_df,\n",
        "    targets=train_df[\"is_duplicate\"].values,\n",
        "    batch_size=BATCH_SIZE,\n",
        "    shuffle=True,\n",
        "    tokenizer=tokenizer\n",
        ")\n",
        "\n",
        "val_data_loader = get_data_loader(\n",
        "    df=val_df,\n",
        "    targets=val_df[\"is_duplicate\"].values,\n",
        "    batch_size=4*BATCH_SIZE,\n",
        "    shuffle=True,\n",
        "    tokenizer=tokenizer\n",
        ")\n"
      ],
      "execution_count": 24,
      "outputs": []
    },
    {
      "cell_type": "markdown",
      "metadata": {
        "id": "__i8-JcWVNPh"
      },
      "source": [
        "# Model"
      ]
    },
    {
      "cell_type": "code",
      "metadata": {
        "id": "SIzKHK2-VNPh"
      },
      "source": [
        "class BertModel(nn.Module):\n",
        "    def __init__(self, bert_path):\n",
        "        super(BertModel, self).__init__()\n",
        "        self.bert_path = bert_path\n",
        "        self.bert = transformers.BertModel.from_pretrained(self.bert_path)\n",
        "        self.dropout = nn.Dropout(0.3)\n",
        "        self.out = nn.Linear(POOLED_OUTPUT_DIM, 1) # (768, 1)\n",
        "\n",
        "\n",
        "    def forward(self, ids, mask, token_type_ids):\n",
        "        _, pooled = self.bert(ids, attention_mask=mask, token_type_ids=token_type_ids)\n",
        "\n",
        "        # add dropout to prevent overfitting\n",
        "        pooled = self.dropout(pooled)\n",
        "        return self.out(pooled)"
      ],
      "execution_count": 25,
      "outputs": []
    },
    {
      "cell_type": "code",
      "metadata": {
        "id": "DdA6hbw5VNPh"
      },
      "source": [
        "model = BertModel(BERT_VERSION).to(device)"
      ],
      "execution_count": 26,
      "outputs": []
    },
    {
      "cell_type": "markdown",
      "metadata": {
        "id": "G3NxMiiBVNPi"
      },
      "source": [
        "# Training"
      ]
    },
    {
      "cell_type": "code",
      "metadata": {
        "id": "paBTORAuVNPi"
      },
      "source": [
        "# Loss function = binary cross entropy loss\n",
        "# using sigmoid to put probabilities in [0,1] interval\n",
        "def loss_fn(outputs, targets):\n",
        "    outputs = torch.squeeze(outputs)\n",
        "    return nn.BCELoss()(nn.Sigmoid()(outputs), targets)"
      ],
      "execution_count": 27,
      "outputs": []
    },
    {
      "cell_type": "code",
      "metadata": {
        "id": "UuzAgNjdVNPi"
      },
      "source": [
        "def calculate_perplexity(data_loader, model, device):\n",
        "    model.eval()\n",
        "    # tells Pytorch not to store values of intermediate computations for backward pass because we not gonna need gradients\n",
        "    with torch.no_grad():\n",
        "        total_loss = 0\n",
        "        for batch in data_loader:\n",
        "            ids = batch[\"ids\"].to(device, dtype=torch.long)\n",
        "            mask = batch[\"mask\"].to(device, dtype=torch.long)\n",
        "            token_type_ids = batch[\"token_type_ids\"].to(device, dtype=torch.long)\n",
        "            targets = batch[\"targets\"].to(device, dtype=torch.float)\n",
        "\n",
        "            outputs = model(ids=ids, mask=mask, token_type_ids=token_type_ids)\n",
        "            total_loss += loss_fn(outputs, targets).item()\n",
        "\n",
        "    model.train()\n",
        "\n",
        "    return np.exp(total_loss/len(data_loader)) "
      ],
      "execution_count": 28,
      "outputs": []
    },
    {
      "cell_type": "code",
      "metadata": {
        "id": "LautYCscVNPi"
      },
      "source": [
        "def train_loop(epochs, train_data_loader, val_data_loader, model, optimizer, device, scheduler=None):\n",
        "    it = 1\n",
        "    total_loss = 0\n",
        "    curr_perplexity = None\n",
        "    perplexity = None\n",
        "    \n",
        "    model.train()\n",
        "    for epoch in range(epochs):\n",
        "        print('Epoch: ', epoch + 1)\n",
        "        for batch in train_data_loader:\n",
        "            ids = batch[\"ids\"].to(device, dtype=torch.long)\n",
        "            mask = batch[\"mask\"].to(device, dtype=torch.long)\n",
        "            token_type_ids = batch[\"token_type_ids\"].to(device, dtype=torch.long)\n",
        "            targets = batch[\"targets\"].to(device, dtype=torch.float)\n",
        "\n",
        "            optimizer.zero_grad()\n",
        "            \n",
        "            # do forward pass, will save intermediate computations of the graph for later backprop use.\n",
        "            outputs = model(ids, mask=mask, token_type_ids=token_type_ids)\n",
        "            \n",
        "            loss = loss_fn(outputs, targets)\n",
        "            total_loss += loss.item()\n",
        "            \n",
        "            # running backprop.\n",
        "            loss.backward()\n",
        "            \n",
        "            # doing gradient descent step.\n",
        "            optimizer.step()\n",
        "            \n",
        "            # we are logging current loss/perplexity in every 100 iteration\n",
        "            if it % 100 == 0:\n",
        "                \n",
        "                # computing validation set perplexity in every 500 iteration.\n",
        "                if it % 500 == 0:\n",
        "                    curr_perplexity = calculate_perplexity(val_data_loader, model, device)\n",
        "                    \n",
        "                    if scheduler is not None:\n",
        "                        scheduler.step()\n",
        "\n",
        "                    # making checkpoint of best model weights.\n",
        "                    if not perplexity or curr_perplexity < perplexity:\n",
        "                        torch.save(model.state_dict(), 'saved_model')\n",
        "                        perplexity = curr_perplexity\n",
        "\n",
        "                print('| Iter', it, '| Avg Train Loss', total_loss / 100, '| Dev Perplexity', curr_perplexity)\n",
        "                total_loss = 0\n",
        "\n",
        "            it += 1\n",
        "   "
      ],
      "execution_count": 29,
      "outputs": []
    },
    {
      "cell_type": "code",
      "metadata": {
        "id": "mfatKTbbVNPj"
      },
      "source": [
        "def run(model, train_df, device, train_data_loader, val_data_loader):\n",
        "    EPOCHS = 1\n",
        "    \n",
        "    lr = 3e-5\n",
        "    num_training_steps = int(len(train_data_loader) * EPOCHS)\n",
        "    optimizer = AdamW(model.parameters(), lr=lr)\n",
        "    scheduler = get_linear_schedule_with_warmup(\n",
        "        optimizer,\n",
        "        num_warmup_steps=0,\n",
        "        num_training_steps=num_training_steps\n",
        "    )\n",
        "    \n",
        "    \n",
        "    train_loop(EPOCHS, train_data_loader, val_data_loader,  model, optimizer, device, scheduler)"
      ],
      "execution_count": 30,
      "outputs": []
    },
    {
      "cell_type": "code",
      "metadata": {
        "colab": {
          "base_uri": "https://localhost:8080/"
        },
        "id": "I3O9_YCPVNPk",
        "outputId": "a5c64708-feed-464a-aa88-1aa3dc10cc38"
      },
      "source": [
        "run(model, train_df, device, train_data_loader, val_data_loader)"
      ],
      "execution_count": 31,
      "outputs": [
        {
          "output_type": "stream",
          "text": [
            "Epoch:  1\n",
            "| Iter 100 | Avg Train Loss 0.5138779935240746 | Dev Perplexity None\n",
            "| Iter 200 | Avg Train Loss 0.3998408567905426 | Dev Perplexity None\n",
            "| Iter 300 | Avg Train Loss 0.3897804516553879 | Dev Perplexity None\n",
            "| Iter 400 | Avg Train Loss 0.370374793112278 | Dev Perplexity None\n",
            "| Iter 500 | Avg Train Loss 0.3536560210585594 | Dev Perplexity 1.4108407306268251\n",
            "| Iter 600 | Avg Train Loss 0.34142212629318236 | Dev Perplexity 1.4108407306268251\n",
            "| Iter 700 | Avg Train Loss 0.33549211129546164 | Dev Perplexity 1.4108407306268251\n",
            "| Iter 800 | Avg Train Loss 0.3202443255484104 | Dev Perplexity 1.4108407306268251\n",
            "| Iter 900 | Avg Train Loss 0.32382161289453504 | Dev Perplexity 1.4108407306268251\n",
            "| Iter 1000 | Avg Train Loss 0.33033544674515725 | Dev Perplexity 1.3561903275191163\n",
            "| Iter 1100 | Avg Train Loss 0.3163604265451431 | Dev Perplexity 1.3561903275191163\n",
            "| Iter 1200 | Avg Train Loss 0.3073545305430889 | Dev Perplexity 1.3561903275191163\n",
            "| Iter 1300 | Avg Train Loss 0.3171470884978771 | Dev Perplexity 1.3561903275191163\n",
            "| Iter 1400 | Avg Train Loss 0.29159959226846693 | Dev Perplexity 1.3561903275191163\n",
            "| Iter 1500 | Avg Train Loss 0.2942673009634018 | Dev Perplexity 1.3374813519656157\n",
            "| Iter 1600 | Avg Train Loss 0.29194717094302175 | Dev Perplexity 1.3374813519656157\n",
            "| Iter 1700 | Avg Train Loss 0.2895752790570259 | Dev Perplexity 1.3374813519656157\n",
            "| Iter 1800 | Avg Train Loss 0.28493970409035685 | Dev Perplexity 1.3374813519656157\n",
            "| Iter 1900 | Avg Train Loss 0.2824496841430664 | Dev Perplexity 1.3374813519656157\n",
            "| Iter 2000 | Avg Train Loss 0.2781932565569878 | Dev Perplexity 1.3160738501779914\n",
            "| Iter 2100 | Avg Train Loss 0.2831201389431953 | Dev Perplexity 1.3160738501779914\n",
            "| Iter 2200 | Avg Train Loss 0.2926499038934708 | Dev Perplexity 1.3160738501779914\n",
            "| Iter 2300 | Avg Train Loss 0.28038844525814055 | Dev Perplexity 1.3160738501779914\n",
            "| Iter 2400 | Avg Train Loss 0.2762697955965996 | Dev Perplexity 1.3160738501779914\n",
            "| Iter 2500 | Avg Train Loss 0.27602212369441986 | Dev Perplexity 1.3020565417840566\n",
            "| Iter 2600 | Avg Train Loss 0.2652333953976631 | Dev Perplexity 1.3020565417840566\n",
            "| Iter 2700 | Avg Train Loss 0.2684070999920368 | Dev Perplexity 1.3020565417840566\n",
            "| Iter 2800 | Avg Train Loss 0.27300371527671813 | Dev Perplexity 1.3020565417840566\n"
          ],
          "name": "stdout"
        }
      ]
    },
    {
      "cell_type": "markdown",
      "metadata": {
        "id": "w47vwbr1VNPk"
      },
      "source": [
        "# Testing"
      ]
    },
    {
      "cell_type": "code",
      "metadata": {
        "colab": {
          "base_uri": "https://localhost:8080/",
          "height": 204
        },
        "id": "W1dUFQDXVNPk",
        "outputId": "3e08bb1d-22df-42e4-a7c2-03cd7ee45e74"
      },
      "source": [
        "test_df = pd.read_csv(\"./data/kaggle/test.csv\")\n",
        "test_df.head()"
      ],
      "execution_count": 32,
      "outputs": [
        {
          "output_type": "execute_result",
          "data": {
            "text/html": [
              "<div>\n",
              "<style scoped>\n",
              "    .dataframe tbody tr th:only-of-type {\n",
              "        vertical-align: middle;\n",
              "    }\n",
              "\n",
              "    .dataframe tbody tr th {\n",
              "        vertical-align: top;\n",
              "    }\n",
              "\n",
              "    .dataframe thead th {\n",
              "        text-align: right;\n",
              "    }\n",
              "</style>\n",
              "<table border=\"1\" class=\"dataframe\">\n",
              "  <thead>\n",
              "    <tr style=\"text-align: right;\">\n",
              "      <th></th>\n",
              "      <th>test_id</th>\n",
              "      <th>question1</th>\n",
              "      <th>question2</th>\n",
              "    </tr>\n",
              "  </thead>\n",
              "  <tbody>\n",
              "    <tr>\n",
              "      <th>0</th>\n",
              "      <td>0</td>\n",
              "      <td>How does the Surface Pro himself 4 compare wit...</td>\n",
              "      <td>Why did Microsoft choose core m3 and not core ...</td>\n",
              "    </tr>\n",
              "    <tr>\n",
              "      <th>1</th>\n",
              "      <td>1</td>\n",
              "      <td>Should I have a hair transplant at age 24? How...</td>\n",
              "      <td>How much cost does hair transplant require?</td>\n",
              "    </tr>\n",
              "    <tr>\n",
              "      <th>2</th>\n",
              "      <td>2</td>\n",
              "      <td>What but is the best way to send money from Ch...</td>\n",
              "      <td>What you send money to China?</td>\n",
              "    </tr>\n",
              "    <tr>\n",
              "      <th>3</th>\n",
              "      <td>3</td>\n",
              "      <td>Which food not emulsifiers?</td>\n",
              "      <td>What foods fibre?</td>\n",
              "    </tr>\n",
              "    <tr>\n",
              "      <th>4</th>\n",
              "      <td>4</td>\n",
              "      <td>How \"aberystwyth\" start reading?</td>\n",
              "      <td>How their can I start reading?</td>\n",
              "    </tr>\n",
              "  </tbody>\n",
              "</table>\n",
              "</div>"
            ],
            "text/plain": [
              "   test_id  ...                                          question2\n",
              "0        0  ...  Why did Microsoft choose core m3 and not core ...\n",
              "1        1  ...        How much cost does hair transplant require?\n",
              "2        2  ...                      What you send money to China?\n",
              "3        3  ...                                  What foods fibre?\n",
              "4        4  ...                     How their can I start reading?\n",
              "\n",
              "[5 rows x 3 columns]"
            ]
          },
          "metadata": {
            "tags": []
          },
          "execution_count": 32
        }
      ]
    },
    {
      "cell_type": "code",
      "metadata": {
        "colab": {
          "base_uri": "https://localhost:8080/"
        },
        "id": "lFmTGjnxVNPk",
        "outputId": "08701f0c-5dec-46c3-e220-fedbdd78452b"
      },
      "source": [
        "def test(model, test_df, device):\n",
        "    predictions = torch.empty(0).to(device, dtype=torch.float)\n",
        "    \n",
        "    test_dataset = BertDataSet(\n",
        "        first_questions=test_df[\"question1\"].values,\n",
        "        second_questions=test_df[\"question2\"].values,\n",
        "        targets=None,\n",
        "        tokenizer=tokenizer\n",
        "    )\n",
        "    \n",
        "    test_data_loader = torch.utils.data.DataLoader(\n",
        "        test_dataset,\n",
        "        batch_size=512\n",
        "    )\n",
        "    \n",
        "    with torch.no_grad():\n",
        "        model.eval()\n",
        "        for batch in tqdm(test_data_loader):\n",
        "            ids = batch[\"ids\"]\n",
        "            mask = batch[\"mask\"]\n",
        "            token_type_ids = batch[\"token_type_ids\"]\n",
        "\n",
        "            ids = ids.to(device, dtype=torch.long)\n",
        "            mask = mask.to(device, dtype=torch.long)\n",
        "            token_type_ids = token_type_ids.to(device, dtype=torch.long)\n",
        "\n",
        "            outputs = model(ids=ids, mask=mask, token_type_ids=token_type_ids)\n",
        "            predictions = torch.cat((predictions, nn.Sigmoid()(outputs)))\n",
        "    \n",
        "    return predictions.cpu().numpy().squeeze()\n",
        "\n",
        "predictions = test(model, test_df, device)\n",
        "len(predictions)"
      ],
      "execution_count": 33,
      "outputs": [
        {
          "output_type": "stream",
          "text": [
            "100%|██████████| 4582/4582 [3:25:13<00:00,  2.69s/it]\n"
          ],
          "name": "stderr"
        },
        {
          "output_type": "execute_result",
          "data": {
            "text/plain": [
              "2345796"
            ]
          },
          "metadata": {
            "tags": []
          },
          "execution_count": 33
        }
      ]
    },
    {
      "cell_type": "code",
      "metadata": {
        "id": "h3kHdvyLVNPl"
      },
      "source": [
        "# write down answers in is_duplicate column.\n",
        "test_df['is_duplicate'] = predictions"
      ],
      "execution_count": 34,
      "outputs": []
    },
    {
      "cell_type": "code",
      "metadata": {
        "id": "wixs0zyGVNPl"
      },
      "source": [
        "# save results to submission.csv."
      ],
      "execution_count": 35,
      "outputs": []
    },
    {
      "cell_type": "markdown",
      "metadata": {
        "id": "Wz7cIzUJVNPm"
      },
      "source": [
        "# Evaluation"
      ]
    },
    {
      "cell_type": "code",
      "metadata": {
        "id": "WosOcpkHVNPm"
      },
      "source": [
        "# prints if two questions is similar and score of confidence\n",
        "def eval(model, tokenizer, first_question, second_question, device):\n",
        "    inputs = tokenizer.encode_plus(\n",
        "        first_question,\n",
        "        second_question,\n",
        "        add_special_tokens=True,\n",
        "    )\n",
        "\n",
        "    ids = torch.tensor([inputs[\"input_ids\"]], dtype=torch.long).to(device, dtype=torch.long)\n",
        "    mask = torch.tensor([inputs[\"attention_mask\"]], dtype=torch.long).to(device, dtype=torch.long)\n",
        "    token_type_ids = torch.tensor([inputs[\"token_type_ids\"]], dtype=torch.long).to(device, dtype=torch.long)\n",
        "\n",
        "    with torch.no_grad():\n",
        "        model.eval()\n",
        "        output = model(ids=ids, mask=mask, token_type_ids=token_type_ids)\n",
        "        prob = nn.Sigmoid()(output).item()\n",
        "\n",
        "        print(\"questions [{}] and [{}] are {} with score {}\".format(first_question, second_question, 'similar' if prob > 0.5 else 'not similar', prob))"
      ],
      "execution_count": 36,
      "outputs": []
    },
    {
      "cell_type": "code",
      "metadata": {
        "id": "WUORLrE7VNPm"
      },
      "source": [
        "# change questions to test model\n",
        "first_question = \"how to register on hackerrank with google account?\"\n",
        "second_question = \"Can I sign using google account on hackerrank?\""
      ],
      "execution_count": 37,
      "outputs": []
    },
    {
      "cell_type": "code",
      "metadata": {
        "colab": {
          "base_uri": "https://localhost:8080/"
        },
        "id": "_6gUxKk6VNPn",
        "outputId": "4ee3669a-eb05-4d96-8d69-cd9762776851"
      },
      "source": [
        "eval(model, tokenizer, first_question, second_question, device)"
      ],
      "execution_count": 38,
      "outputs": [
        {
          "output_type": "stream",
          "text": [
            "questions [how to register on hackerrank with google account?] and [Can I sign using google account on hackerrank?] are not similar with score 0.09211262315511703\n"
          ],
          "name": "stdout"
        }
      ]
    },
    {
      "cell_type": "code",
      "metadata": {
        "id": "H0rc-uFvVNPn"
      },
      "source": [
        ""
      ],
      "execution_count": 38,
      "outputs": []
    }
  ]
}