{
 "metadata": {
  "language_info": {
   "codemirror_mode": {
    "name": "ipython",
    "version": 3
   },
   "file_extension": ".py",
   "mimetype": "text/x-python",
   "name": "python",
   "nbconvert_exporter": "python",
   "pygments_lexer": "ipython3",
   "version": "3.6.9-final"
  },
  "orig_nbformat": 2,
  "kernelspec": {
   "name": "python3",
   "display_name": "Python 3",
   "language": "python"
  }
 },
 "nbformat": 4,
 "nbformat_minor": 2,
 "cells": [
  {
   "cell_type": "code",
   "execution_count": 1,
   "metadata": {},
   "outputs": [],
   "source": [
    "from googlesearch import search"
   ]
  },
  {
   "cell_type": "code",
   "execution_count": 2,
   "metadata": {},
   "outputs": [],
   "source": [
    "query = \"Cách khỏi đau bụng\""
   ]
  },
  {
   "cell_type": "code",
   "execution_count": 4,
   "metadata": {},
   "outputs": [
    {
     "output_type": "stream",
     "name": "stdout",
     "text": [
      "https://www.thuocdantoc.org/cach-giam-dau-bung.html\nhttps://hellobacsi.com/benh-tieu-hoa/van-de-tieu-hoa-khac/cach-het-dau-bung/\nhttps://www.wikihow.vn/Xoa-d%E1%BB%8Bu-C%C6%A1n-%C4%91au-b%E1%BB%A5ng\nhttps://daitrangonglac.com/cach-tri-dau-bung-quan-tung-con-tai-nha-nhanh-chong.html\nhttps://www307.regione.toscana.it/web/bacsisungsuong/home/-/blogs/13-cach-giam-dau-bung-kinh-nhanh-nhat-lam-sao-giam-dau-bung-kinh-hieu-qua-\nhttps://www.chuyenkhoadaday.com/cach-chua-dau-bung-hieu-qua-nhanh-tai-nha.html\nhttps://socialforestry.org.vn/cach-lam-het-dau-bung/\nhttps://2bacsi.webflow.io/bai-viet/cach-giam-dau-bung-kinh-tuc-thi-tai-nha\nhttps://www.vinmec.com/vi/tin-tuc/thong-tin-suc-khoe/nhung-cach-giup-ban-giam-dau-bung-kinh/\nhttps://viendaitrangcolmin.com/Danh-muc/5-cach-chua-dau-bung-tai-nha-don-gian/\n"
     ]
    }
   ],
   "source": [
    "for j in search(query, num=10, stop=10, pause=2):\n",
    "    print(j)"
   ]
  },
  {
   "cell_type": "code",
   "execution_count": null,
   "metadata": {},
   "outputs": [],
   "source": []
  }
 ]
}