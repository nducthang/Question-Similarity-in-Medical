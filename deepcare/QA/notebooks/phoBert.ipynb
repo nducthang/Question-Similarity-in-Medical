{
 "metadata": {
  "language_info": {
   "codemirror_mode": {
    "name": "ipython",
    "version": 3
   },
   "file_extension": ".py",
   "mimetype": "text/x-python",
   "name": "python",
   "nbconvert_exporter": "python",
   "pygments_lexer": "ipython3",
   "version": "3.6.9-final"
  },
  "orig_nbformat": 2,
  "kernelspec": {
   "name": "python3",
   "display_name": "Python 3",
   "language": "python"
  }
 },
 "nbformat": 4,
 "nbformat_minor": 2,
 "cells": [
  {
   "cell_type": "code",
   "execution_count": 1,
   "metadata": {},
   "outputs": [],
   "source": [
    "import pandas as pd"
   ]
  },
  {
   "cell_type": "code",
   "execution_count": 2,
   "metadata": {},
   "outputs": [],
   "source": [
    "data = pd.read_csv(\"./data/processed/final.csv\")"
   ]
  },
  {
   "cell_type": "code",
   "execution_count": 3,
   "metadata": {},
   "outputs": [
    {
     "output_type": "execute_result",
     "data": {
      "text/plain": [
       "                                           question  \\\n",
       "0                   Chỉ số xét nghiệm ca 125 là gì?   \n",
       "1  3 món ăn đơn giản giúp ngực to một cách tự nhiên   \n",
       "2                        Giá khám tổng quát định kì   \n",
       "3   Đừng để bị giảm thị lực vĩnh viễn do viêm bờ mi   \n",
       "4             5 thời điểm vàng bạn nên uống mật ong   \n",
       "\n",
       "                                              answer  \\\n",
       "0  Xét nghiệm CA 125 chính là chỉ số kháng nguyên...   \n",
       "1  Có thể bạn không biết những món ăn đơn giản th...   \n",
       "2  Như các bạn biết thì chi phí khám sức khỏe tổn...   \n",
       "3  Bạn có thể gặp nhiều phiền toái, mất thẩm mĩ v...   \n",
       "4  Bạn dùng mật ong vào buổi sáng để lọc sạch cặn...   \n",
       "\n",
       "                         question_clean  \\\n",
       "0              chỉ_số xét_nghiệm ca 125   \n",
       "1  3 món đơn_giản giúp ngực to tự_nhiên   \n",
       "2            giá khám tổng_quát định_kì   \n",
       "3     đừng thị_lực vĩnh_viễn viêm bờ mi   \n",
       "4                   5 vàng uống mật_ong   \n",
       "\n",
       "                                        answer_clean  \n",
       "0  xét_nghiệm ca 125 chỉ_số kháng_nguyên ung_thư ...  \n",
       "1  món đơn_giản thường_ngày công_dụng ngực to căn...  \n",
       "2  chi_phí khám sức_khỏe tổng_quát khoản khám sức...  \n",
       "3  phiền_toái thẩm_mĩ mắt viêm bờ mi có_thể bị th...  \n",
       "4  mật_ong lọc sạch cặn bẩn đêm detox detox mật_o...  "
      ],
      "text/html": "<div>\n<style scoped>\n    .dataframe tbody tr th:only-of-type {\n        vertical-align: middle;\n    }\n\n    .dataframe tbody tr th {\n        vertical-align: top;\n    }\n\n    .dataframe thead th {\n        text-align: right;\n    }\n</style>\n<table border=\"1\" class=\"dataframe\">\n  <thead>\n    <tr style=\"text-align: right;\">\n      <th></th>\n      <th>question</th>\n      <th>answer</th>\n      <th>question_clean</th>\n      <th>answer_clean</th>\n    </tr>\n  </thead>\n  <tbody>\n    <tr>\n      <th>0</th>\n      <td>Chỉ số xét nghiệm ca 125 là gì?</td>\n      <td>Xét nghiệm CA 125 chính là chỉ số kháng nguyên...</td>\n      <td>chỉ_số xét_nghiệm ca 125</td>\n      <td>xét_nghiệm ca 125 chỉ_số kháng_nguyên ung_thư ...</td>\n    </tr>\n    <tr>\n      <th>1</th>\n      <td>3 món ăn đơn giản giúp ngực to một cách tự nhiên</td>\n      <td>Có thể bạn không biết những món ăn đơn giản th...</td>\n      <td>3 món đơn_giản giúp ngực to tự_nhiên</td>\n      <td>món đơn_giản thường_ngày công_dụng ngực to căn...</td>\n    </tr>\n    <tr>\n      <th>2</th>\n      <td>Giá khám tổng quát định kì</td>\n      <td>Như các bạn biết thì chi phí khám sức khỏe tổn...</td>\n      <td>giá khám tổng_quát định_kì</td>\n      <td>chi_phí khám sức_khỏe tổng_quát khoản khám sức...</td>\n    </tr>\n    <tr>\n      <th>3</th>\n      <td>Đừng để bị giảm thị lực vĩnh viễn do viêm bờ mi</td>\n      <td>Bạn có thể gặp nhiều phiền toái, mất thẩm mĩ v...</td>\n      <td>đừng thị_lực vĩnh_viễn viêm bờ mi</td>\n      <td>phiền_toái thẩm_mĩ mắt viêm bờ mi có_thể bị th...</td>\n    </tr>\n    <tr>\n      <th>4</th>\n      <td>5 thời điểm vàng bạn nên uống mật ong</td>\n      <td>Bạn dùng mật ong vào buổi sáng để lọc sạch cặn...</td>\n      <td>5 vàng uống mật_ong</td>\n      <td>mật_ong lọc sạch cặn bẩn đêm detox detox mật_o...</td>\n    </tr>\n  </tbody>\n</table>\n</div>"
     },
     "metadata": {},
     "execution_count": 3
    }
   ],
   "source": [
    "data.head()"
   ]
  },
  {
   "cell_type": "code",
   "execution_count": 4,
   "metadata": {},
   "outputs": [],
   "source": [
    "import torch\n",
    "from transformers import AutoModel, AutoTokenizer"
   ]
  },
  {
   "cell_type": "code",
   "execution_count": 5,
   "metadata": {},
   "outputs": [
    {
     "output_type": "stream",
     "name": "stderr",
     "text": [
      "Special tokens have been added in the vocabulary, make sure the associated word embedding are fine-tuned or trained.\n"
     ]
    }
   ],
   "source": [
    "phobert = AutoModel.from_pretrained(\"vinai/phobert-base\")\n",
    "tokenizer = AutoTokenizer.from_pretrained(\"vinai/phobert-base\", use_fast=False)"
   ]
  },
  {
   "cell_type": "code",
   "execution_count": 6,
   "metadata": {},
   "outputs": [],
   "source": [
    "def embed(text):\n",
    "    input_ids = torch.tensor([tokenizer.encode(text)])\n",
    "    with torch.no_grad():\n",
    "        features = phobert(input_ids)\n",
    "    return features[1][0]"
   ]
  },
  {
   "cell_type": "code",
   "execution_count": 7,
   "metadata": {},
   "outputs": [
    {
     "output_type": "execute_result",
     "data": {
      "text/plain": [
       "Empty DataFrame\n",
       "Columns: [question, answer, question_clean, answer_clean]\n",
       "Index: []"
      ],
      "text/html": "<div>\n<style scoped>\n    .dataframe tbody tr th:only-of-type {\n        vertical-align: middle;\n    }\n\n    .dataframe tbody tr th {\n        vertical-align: top;\n    }\n\n    .dataframe thead th {\n        text-align: right;\n    }\n</style>\n<table border=\"1\" class=\"dataframe\">\n  <thead>\n    <tr style=\"text-align: right;\">\n      <th></th>\n      <th>question</th>\n      <th>answer</th>\n      <th>question_clean</th>\n      <th>answer_clean</th>\n    </tr>\n  </thead>\n  <tbody>\n  </tbody>\n</table>\n</div>"
     },
     "metadata": {},
     "execution_count": 7
    }
   ],
   "source": [
    "data[data['question_clean'].isnull()]"
   ]
  },
  {
   "cell_type": "code",
   "execution_count": 8,
   "metadata": {},
   "outputs": [],
   "source": [
    "import numpy as np\n",
    "def consine(x,y):\n",
    "    x = np.array(x)\n",
    "    y = np.array(y)\n",
    "    return x.dot(y)/(np.linalg.norm(x)*np.linalg.norm(y))"
   ]
  },
  {
   "cell_type": "code",
   "execution_count": 9,
   "metadata": {},
   "outputs": [],
   "source": [
    "from src.cleaner import Cleaner\n",
    "clean = Cleaner()"
   ]
  },
  {
   "cell_type": "code",
   "execution_count": 10,
   "metadata": {},
   "outputs": [],
   "source": [
    "# Đánh đổi bộ nhớ\n",
    "data['question_embed'] = data['question_clean'].apply(lambda t: embed(t))"
   ]
  },
  {
   "cell_type": "code",
   "execution_count": 11,
   "metadata": {},
   "outputs": [],
   "source": [
    "def get_similary(text, n):\n",
    "    \"\"\" Select n question that similary with text \"\"\"\n",
    "    text = clean.run(text)\n",
    "    input_embed = embed(text)\n",
    "    result = {}\n",
    "    for q, v in zip(data['question'], data['question_embed']):\n",
    "        result[q] = consine(input_embed, v)\n",
    "    return sorted(result.items(), key=lambda x: x[1], reverse=True)[:n]"
   ]
  },
  {
   "cell_type": "code",
   "execution_count": 12,
   "metadata": {},
   "outputs": [
    {
     "output_type": "stream",
     "name": "stdout",
     "text": [
      "CPU times: user 449 ms, sys: 4.02 ms, total: 453 ms\nWall time: 246 ms\n"
     ]
    },
    {
     "output_type": "execute_result",
     "data": {
      "text/plain": [
       "[('Chữa viêm gan B mất bao nhiêu thời gian?', 0.9280161),\n",
       " ('Khi nào thì nên dừng điều trị viêm gan B?', 0.8710027),\n",
       " ('Xét nghiệm viêm gan B ở đâu là tốt nhất?', 0.8566841),\n",
       " ('Các bước xét nghiệm viêm gan B bạn cần biết', 0.8566841),\n",
       " ('Nước tiểu vàng có phải do viêm gan B gây nên?', 0.85390073)]"
      ]
     },
     "metadata": {},
     "execution_count": 12
    }
   ],
   "source": [
    "%%time\n",
    "get_similary(\"bệnh viêm gan b là gì?\", 5)"
   ]
  },
  {
   "cell_type": "code",
   "execution_count": 13,
   "metadata": {},
   "outputs": [
    {
     "output_type": "stream",
     "name": "stdout",
     "text": [
      "CPU times: user 432 ms, sys: 12 µs, total: 432 ms\nWall time: 228 ms\n"
     ]
    },
    {
     "output_type": "execute_result",
     "data": {
      "text/plain": [
       "[('Hiểu như thế nào là đúng về ung thư', 1.0),\n",
       " (\"Những điều mà chỉ khi nào 'yêu' mới mang lại được\", 0.613156),\n",
       " ('Tất cả những điều bạn cần biết về ung thư đại tràng', 0.58304715),\n",
       " ('Một số vấn đề thường gặp khi cho con bú và cách xử lý', 0.5827609),\n",
       " ('Cách điều trị ung thư tuyến giáp', 0.56907916)]"
      ]
     },
     "metadata": {},
     "execution_count": 13
    }
   ],
   "source": [
    "%%time\n",
    "get_similary(\"làm gì khi bị ung thư?\", 5)"
   ]
  },
  {
   "cell_type": "code",
   "execution_count": 14,
   "metadata": {},
   "outputs": [
    {
     "output_type": "stream",
     "name": "stdout",
     "text": [
      "CPU times: user 428 ms, sys: 0 ns, total: 428 ms\nWall time: 221 ms\n"
     ]
    },
    {
     "output_type": "execute_result",
     "data": {
      "text/plain": [
       "[('Bệnh viện FV có tốt không?', 0.7750233),\n",
       " ('Cách tính tuổi thai IVF như thế nào là đúng?', 0.7496771),\n",
       " ('Tại sao HIV không lây qua vết đốt của muỗi?', 0.72318),\n",
       " ('Những điều cần biết về viêm VA ở trẻ nhỏ', 0.7177166),\n",
       " ('Xét nghiệm HIV ở đâu chính xác nhất tại TP. Hồ Chí Minh?', 0.70913696)]"
      ]
     },
     "metadata": {},
     "execution_count": 14
    }
   ],
   "source": [
    "%%time\n",
    "get_similary(\"tôi cảm thấy mình bị HIV? Tôi phải làm gì?\", 5)\n"
   ]
  },
  {
   "cell_type": "code",
   "execution_count": 15,
   "metadata": {},
   "outputs": [],
   "source": [
    "data['similary'] = data['question_clean']\n",
    "data['score'] = data['question_clean']"
   ]
  },
  {
   "cell_type": "code",
   "execution_count": 16,
   "metadata": {},
   "outputs": [],
   "source": [
    "# def find_similary(embed):\n",
    "#     max_score = 0\n",
    "#     best_similary = ''\n",
    "#     for j in range(len(data)):\n",
    "#         if data.iloc[j]['question_embed'] != embed:\n",
    "#             q2 = data.iloc[j]['question_embed']\n",
    "#             score = consine(q1, q2)\n",
    "#             if score > max_score:\n",
    "#                 max_score = score\n",
    "#                 best_similary = data.iloc[j]['question']\n",
    "#     return best_similary"
   ]
  },
  {
   "cell_type": "code",
   "execution_count": 17,
   "metadata": {},
   "outputs": [],
   "source": [
    "# data['similary'] = data['question_embed'].apply(lambda e: find_similary(e))"
   ]
  },
  {
   "cell_type": "code",
   "execution_count": 20,
   "metadata": {},
   "outputs": [
    {
     "output_type": "stream",
     "name": "stderr",
     "text": [
      "  0%|          | 0/10 [00:00<?, ?it/s]/home/thang/env/lib/python3.6/site-packages/ipykernel_launcher.py:14: SettingWithCopyWarning: \n",
      "A value is trying to be set on a copy of a slice from a DataFrame\n",
      "\n",
      "See the caveats in the documentation: https://pandas.pydata.org/pandas-docs/stable/user_guide/indexing.html#returning-a-view-versus-a-copy\n",
      "  \n",
      "/home/thang/env/lib/python3.6/site-packages/ipykernel_launcher.py:15: SettingWithCopyWarning: \n",
      "A value is trying to be set on a copy of a slice from a DataFrame\n",
      "\n",
      "See the caveats in the documentation: https://pandas.pydata.org/pandas-docs/stable/user_guide/indexing.html#returning-a-view-versus-a-copy\n",
      "  from ipykernel import kernelapp as app\n",
      " 10%|█         | 1/10 [00:01<00:12,  1.34s/it]0.8190004 Bệnh gì làm chỉ số CA 125 tăng cao?\n",
      " 20%|██        | 2/10 [00:02<00:10,  1.37s/it]0.8173846 5 mẹo nhỏ giúp chị em làm hồng vùng kín đơn giản tại nhà\n",
      " 30%|███       | 3/10 [00:04<00:09,  1.35s/it]0.8202158 Chi phí kiểm tra tổng quát định kì\n",
      " 40%|████      | 4/10 [00:05<00:08,  1.35s/it]0.69051695 Đừng đưa bé đi nong bao quy đầu quá sớm!\n",
      " 50%|█████     | 5/10 [00:06<00:06,  1.34s/it]0.7909797 10 lợi ích uống nước dưa chuột vào buổi sáng\n",
      " 60%|██████    | 6/10 [00:08<00:05,  1.34s/it]0.8032401 5 biến chứng sau khi cắt bao quy đầu thường gặp nhất\n",
      " 70%|███████   | 7/10 [00:09<00:04,  1.34s/it]0.9173462 Ung thư vòm họng các giai đoạn cụ thể\n",
      " 80%|████████  | 8/10 [00:10<00:02,  1.34s/it]0.7908016 Khi nào cần làm xét nghiệm acid uric trong máu?\n",
      " 90%|█████████ | 9/10 [00:11<00:01,  1.31s/it]0.8259696 Bệnh viêm họng mạn tính có nguy hiểm không?\n",
      "100%|██████████| 10/10 [00:13<00:00,  1.33s/it]0.81100625 Những loại trà thảo mộc hữu ích cho bà bầu\n",
      "\n"
     ]
    }
   ],
   "source": [
    "import tqdm\n",
    "for i in tqdm.tqdm(range(10)):\n",
    "    q1 = data.iloc[i]['question_embed']\n",
    "    max_score = 0\n",
    "    best_similary = ''\n",
    "    for j in range(len(data)):\n",
    "        if j != i:\n",
    "            q2 = data.iloc[j]['question_embed']\n",
    "            score = consine(q1, q2)\n",
    "            if score > max_score:\n",
    "                max_score = score\n",
    "                best_similary = data.iloc[j]['question']\n",
    "    print(max_score, best_similary)\n",
    "    data.iloc[i]['similary'] = best_similary\n",
    "    data.iloc[i]['score'] = max_score"
   ]
  },
  {
   "cell_type": "code",
   "execution_count": 21,
   "metadata": {},
   "outputs": [
    {
     "output_type": "execute_result",
     "data": {
      "text/plain": [
       "                                           question  \\\n",
       "0                   Chỉ số xét nghiệm ca 125 là gì?   \n",
       "1  3 món ăn đơn giản giúp ngực to một cách tự nhiên   \n",
       "2                        Giá khám tổng quát định kì   \n",
       "3   Đừng để bị giảm thị lực vĩnh viễn do viêm bờ mi   \n",
       "4             5 thời điểm vàng bạn nên uống mật ong   \n",
       "\n",
       "                                              answer  \\\n",
       "0  Xét nghiệm CA 125 chính là chỉ số kháng nguyên...   \n",
       "1  Có thể bạn không biết những món ăn đơn giản th...   \n",
       "2  Như các bạn biết thì chi phí khám sức khỏe tổn...   \n",
       "3  Bạn có thể gặp nhiều phiền toái, mất thẩm mĩ v...   \n",
       "4  Bạn dùng mật ong vào buổi sáng để lọc sạch cặn...   \n",
       "\n",
       "                         question_clean  \\\n",
       "0              chỉ_số xét_nghiệm ca 125   \n",
       "1  3 món đơn_giản giúp ngực to tự_nhiên   \n",
       "2            giá khám tổng_quát định_kì   \n",
       "3     đừng thị_lực vĩnh_viễn viêm bờ mi   \n",
       "4                   5 vàng uống mật_ong   \n",
       "\n",
       "                                        answer_clean  \\\n",
       "0  xét_nghiệm ca 125 chỉ_số kháng_nguyên ung_thư ...   \n",
       "1  món đơn_giản thường_ngày công_dụng ngực to căn...   \n",
       "2  chi_phí khám sức_khỏe tổng_quát khoản khám sức...   \n",
       "3  phiền_toái thẩm_mĩ mắt viêm bờ mi có_thể bị th...   \n",
       "4  mật_ong lọc sạch cặn bẩn đêm detox detox mật_o...   \n",
       "\n",
       "                                      question_embed  \\\n",
       "0  [tensor(0.2440), tensor(-0.0822), tensor(0.023...   \n",
       "1  [tensor(0.2420), tensor(0.1790), tensor(-0.089...   \n",
       "2  [tensor(0.2270), tensor(0.1865), tensor(-0.131...   \n",
       "3  [tensor(0.1708), tensor(0.2054), tensor(-0.122...   \n",
       "4  [tensor(0.1663), tensor(0.1690), tensor(0.0535...   \n",
       "\n",
       "                               similary                                 score  \n",
       "0              chỉ_số xét_nghiệm ca 125              chỉ_số xét_nghiệm ca 125  \n",
       "1  3 món đơn_giản giúp ngực to tự_nhiên  3 món đơn_giản giúp ngực to tự_nhiên  \n",
       "2            giá khám tổng_quát định_kì            giá khám tổng_quát định_kì  \n",
       "3     đừng thị_lực vĩnh_viễn viêm bờ mi     đừng thị_lực vĩnh_viễn viêm bờ mi  \n",
       "4                   5 vàng uống mật_ong                   5 vàng uống mật_ong  "
      ],
      "text/html": "<div>\n<style scoped>\n    .dataframe tbody tr th:only-of-type {\n        vertical-align: middle;\n    }\n\n    .dataframe tbody tr th {\n        vertical-align: top;\n    }\n\n    .dataframe thead th {\n        text-align: right;\n    }\n</style>\n<table border=\"1\" class=\"dataframe\">\n  <thead>\n    <tr style=\"text-align: right;\">\n      <th></th>\n      <th>question</th>\n      <th>answer</th>\n      <th>question_clean</th>\n      <th>answer_clean</th>\n      <th>question_embed</th>\n      <th>similary</th>\n      <th>score</th>\n    </tr>\n  </thead>\n  <tbody>\n    <tr>\n      <th>0</th>\n      <td>Chỉ số xét nghiệm ca 125 là gì?</td>\n      <td>Xét nghiệm CA 125 chính là chỉ số kháng nguyên...</td>\n      <td>chỉ_số xét_nghiệm ca 125</td>\n      <td>xét_nghiệm ca 125 chỉ_số kháng_nguyên ung_thư ...</td>\n      <td>[tensor(0.2440), tensor(-0.0822), tensor(0.023...</td>\n      <td>chỉ_số xét_nghiệm ca 125</td>\n      <td>chỉ_số xét_nghiệm ca 125</td>\n    </tr>\n    <tr>\n      <th>1</th>\n      <td>3 món ăn đơn giản giúp ngực to một cách tự nhiên</td>\n      <td>Có thể bạn không biết những món ăn đơn giản th...</td>\n      <td>3 món đơn_giản giúp ngực to tự_nhiên</td>\n      <td>món đơn_giản thường_ngày công_dụng ngực to căn...</td>\n      <td>[tensor(0.2420), tensor(0.1790), tensor(-0.089...</td>\n      <td>3 món đơn_giản giúp ngực to tự_nhiên</td>\n      <td>3 món đơn_giản giúp ngực to tự_nhiên</td>\n    </tr>\n    <tr>\n      <th>2</th>\n      <td>Giá khám tổng quát định kì</td>\n      <td>Như các bạn biết thì chi phí khám sức khỏe tổn...</td>\n      <td>giá khám tổng_quát định_kì</td>\n      <td>chi_phí khám sức_khỏe tổng_quát khoản khám sức...</td>\n      <td>[tensor(0.2270), tensor(0.1865), tensor(-0.131...</td>\n      <td>giá khám tổng_quát định_kì</td>\n      <td>giá khám tổng_quát định_kì</td>\n    </tr>\n    <tr>\n      <th>3</th>\n      <td>Đừng để bị giảm thị lực vĩnh viễn do viêm bờ mi</td>\n      <td>Bạn có thể gặp nhiều phiền toái, mất thẩm mĩ v...</td>\n      <td>đừng thị_lực vĩnh_viễn viêm bờ mi</td>\n      <td>phiền_toái thẩm_mĩ mắt viêm bờ mi có_thể bị th...</td>\n      <td>[tensor(0.1708), tensor(0.2054), tensor(-0.122...</td>\n      <td>đừng thị_lực vĩnh_viễn viêm bờ mi</td>\n      <td>đừng thị_lực vĩnh_viễn viêm bờ mi</td>\n    </tr>\n    <tr>\n      <th>4</th>\n      <td>5 thời điểm vàng bạn nên uống mật ong</td>\n      <td>Bạn dùng mật ong vào buổi sáng để lọc sạch cặn...</td>\n      <td>5 vàng uống mật_ong</td>\n      <td>mật_ong lọc sạch cặn bẩn đêm detox detox mật_o...</td>\n      <td>[tensor(0.1663), tensor(0.1690), tensor(0.0535...</td>\n      <td>5 vàng uống mật_ong</td>\n      <td>5 vàng uống mật_ong</td>\n    </tr>\n  </tbody>\n</table>\n</div>"
     },
     "metadata": {},
     "execution_count": 21
    }
   ],
   "source": [
    "data.head()"
   ]
  },
  {
   "cell_type": "code",
   "execution_count": null,
   "metadata": {},
   "outputs": [],
   "source": []
  }
 ]
}