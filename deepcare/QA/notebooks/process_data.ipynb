{
 "metadata": {
  "language_info": {
   "codemirror_mode": {
    "name": "ipython",
    "version": 3
   },
   "file_extension": ".py",
   "mimetype": "text/x-python",
   "name": "python",
   "nbconvert_exporter": "python",
   "pygments_lexer": "ipython3",
   "version": "3.6.9-final"
  },
  "orig_nbformat": 2,
  "kernelspec": {
   "name": "python3",
   "display_name": "Python 3",
   "language": "python"
  }
 },
 "nbformat": 4,
 "nbformat_minor": 2,
 "cells": [
  {
   "cell_type": "code",
   "execution_count": 17,
   "metadata": {},
   "outputs": [],
   "source": [
    "import pandas as pd"
   ]
  },
  {
   "cell_type": "code",
   "execution_count": 18,
   "metadata": {},
   "outputs": [],
   "source": [
    "f1 = open(\"./data/raw/questionsFinal.dat\")\n",
    "f2 = open(\"./data/raw/answersFinal.dat\")\n",
    "question = [line[:-1] for line in f1.readlines()]\n",
    "answer = [line[:-1] for line in f2.readlines()]"
   ]
  },
  {
   "cell_type": "code",
   "execution_count": 56,
   "metadata": {},
   "outputs": [],
   "source": [
    "question = question[:50]\n",
    "answer = answer[:50]\n",
    "with open(\"./temp/102.csv\", \"a\") as f:\n",
    "    f.write(\"text,label\\n\")\n",
    "    for q, a in zip(question, answer):\n",
    "        f.write(\"\\\"\"+q+\"\\\",\\\"\"+a+\"\\\"\\n\")"
   ]
  },
  {
   "cell_type": "code",
   "execution_count": 40,
   "metadata": {},
   "outputs": [],
   "source": [
    "question = question[:100]\n",
    "answer = answer[:100]\n",
    "with open(\"./temp/101.json\", \"a\") as f:\n",
    "    for q, a in zip(question, answer):\n",
    "        f.write(\"{\\\"text\\\":\\\"\"+q+\"\\\",\\\"labels\\\":[\\\"\"+a+\"\\\"]}\\n\")"
   ]
  },
  {
   "cell_type": "code",
   "execution_count": 19,
   "metadata": {},
   "outputs": [
    {
     "output_type": "execute_result",
     "data": {
      "text/plain": [
       "                                               text  \\\n",
       "0                   Chỉ số xét nghiệm ca 125 là gì?   \n",
       "1  3 món ăn đơn giản giúp ngực to một cách tự nhiên   \n",
       "2                        Giá khám tổng quát định kì   \n",
       "3   Đừng để bị giảm thị lực vĩnh viễn do viêm bờ mi   \n",
       "4             5 thời điểm vàng bạn nên uống mật ong   \n",
       "\n",
       "                                               label  \n",
       "0  Xét nghiệm CA 125 chính là chỉ số kháng nguyên...  \n",
       "1  Có thể bạn không biết những món ăn đơn giản th...  \n",
       "2  Như các bạn biết thì chi phí khám sức khỏe tổn...  \n",
       "3  Bạn có thể gặp nhiều phiền toái, mất thẩm mĩ v...  \n",
       "4  Bạn dùng mật ong vào buổi sáng để lọc sạch cặn...  "
      ],
      "text/html": "<div>\n<style scoped>\n    .dataframe tbody tr th:only-of-type {\n        vertical-align: middle;\n    }\n\n    .dataframe tbody tr th {\n        vertical-align: top;\n    }\n\n    .dataframe thead th {\n        text-align: right;\n    }\n</style>\n<table border=\"1\" class=\"dataframe\">\n  <thead>\n    <tr style=\"text-align: right;\">\n      <th></th>\n      <th>text</th>\n      <th>label</th>\n    </tr>\n  </thead>\n  <tbody>\n    <tr>\n      <th>0</th>\n      <td>Chỉ số xét nghiệm ca 125 là gì?</td>\n      <td>Xét nghiệm CA 125 chính là chỉ số kháng nguyên...</td>\n    </tr>\n    <tr>\n      <th>1</th>\n      <td>3 món ăn đơn giản giúp ngực to một cách tự nhiên</td>\n      <td>Có thể bạn không biết những món ăn đơn giản th...</td>\n    </tr>\n    <tr>\n      <th>2</th>\n      <td>Giá khám tổng quát định kì</td>\n      <td>Như các bạn biết thì chi phí khám sức khỏe tổn...</td>\n    </tr>\n    <tr>\n      <th>3</th>\n      <td>Đừng để bị giảm thị lực vĩnh viễn do viêm bờ mi</td>\n      <td>Bạn có thể gặp nhiều phiền toái, mất thẩm mĩ v...</td>\n    </tr>\n    <tr>\n      <th>4</th>\n      <td>5 thời điểm vàng bạn nên uống mật ong</td>\n      <td>Bạn dùng mật ong vào buổi sáng để lọc sạch cặn...</td>\n    </tr>\n  </tbody>\n</table>\n</div>"
     },
     "metadata": {},
     "execution_count": 19
    }
   ],
   "source": [
    "data = pd.DataFrame({\"text\":question, \"label\": answer})\n",
    "data.head()"
   ]
  },
  {
   "cell_type": "code",
   "execution_count": 31,
   "metadata": {},
   "outputs": [],
   "source": [
    "data['text'] = data['text'].astype('str')"
   ]
  },
  {
   "cell_type": "code",
   "execution_count": 32,
   "metadata": {},
   "outputs": [],
   "source": [
    "data = data[:100]"
   ]
  },
  {
   "cell_type": "code",
   "execution_count": 33,
   "metadata": {},
   "outputs": [
    {
     "output_type": "execute_result",
     "data": {
      "text/plain": [
       "100"
      ]
     },
     "metadata": {},
     "execution_count": 33
    }
   ],
   "source": [
    "len(data)"
   ]
  },
  {
   "cell_type": "code",
   "execution_count": 34,
   "metadata": {},
   "outputs": [],
   "source": [
    "data.to_csv(\"./temp/100.csv\", index=False)"
   ]
  },
  {
   "cell_type": "code",
   "execution_count": 35,
   "metadata": {},
   "outputs": [
    {
     "output_type": "execute_result",
     "data": {
      "text/plain": [
       "                                                 text  \\\n",
       "0                     Chỉ số xét nghiệm ca 125 là gì?   \n",
       "1    3 món ăn đơn giản giúp ngực to một cách tự nhiên   \n",
       "2                          Giá khám tổng quát định kì   \n",
       "3     Đừng để bị giảm thị lực vĩnh viễn do viêm bờ mi   \n",
       "4               5 thời điểm vàng bạn nên uống mật ong   \n",
       "..                                                ...   \n",
       "95                      Chữa hẹp bao quy đầu ở trẻ em   \n",
       "96  Vitamin E có tác dụng gì cho phụ nữ sau khi sinh?   \n",
       "97           Chọn vitamin tổng hợp loại nào tốt nhất?   \n",
       "98                  Tập Gym một ngày ăn mấy quả chuối   \n",
       "99                   Trẻ còi xương nên uống thuốc gì?   \n",
       "\n",
       "                                                label  \n",
       "0   Xét nghiệm CA 125 chính là chỉ số kháng nguyên...  \n",
       "1   Có thể bạn không biết những món ăn đơn giản th...  \n",
       "2   Như các bạn biết thì chi phí khám sức khỏe tổn...  \n",
       "3   Bạn có thể gặp nhiều phiền toái, mất thẩm mĩ v...  \n",
       "4   Bạn dùng mật ong vào buổi sáng để lọc sạch cặn...  \n",
       "..                                                ...  \n",
       "95  Hẹp bao quy đầu ở trẻ nhỏ là bệnh lý xảy ra kh...  \n",
       "96  Vitamin E là một chất xúc tác quan trọng, đóng...  \n",
       "97  Trên thị trường hiện nay có rất nhiều loại vit...  \n",
       "98  Trong thực đơn tập Gym, chuối chính là loại qu...  \n",
       "99  Còi xương là một trong những bệnh phổ biến ở t...  \n",
       "\n",
       "[100 rows x 2 columns]"
      ],
      "text/html": "<div>\n<style scoped>\n    .dataframe tbody tr th:only-of-type {\n        vertical-align: middle;\n    }\n\n    .dataframe tbody tr th {\n        vertical-align: top;\n    }\n\n    .dataframe thead th {\n        text-align: right;\n    }\n</style>\n<table border=\"1\" class=\"dataframe\">\n  <thead>\n    <tr style=\"text-align: right;\">\n      <th></th>\n      <th>text</th>\n      <th>label</th>\n    </tr>\n  </thead>\n  <tbody>\n    <tr>\n      <th>0</th>\n      <td>Chỉ số xét nghiệm ca 125 là gì?</td>\n      <td>Xét nghiệm CA 125 chính là chỉ số kháng nguyên...</td>\n    </tr>\n    <tr>\n      <th>1</th>\n      <td>3 món ăn đơn giản giúp ngực to một cách tự nhiên</td>\n      <td>Có thể bạn không biết những món ăn đơn giản th...</td>\n    </tr>\n    <tr>\n      <th>2</th>\n      <td>Giá khám tổng quát định kì</td>\n      <td>Như các bạn biết thì chi phí khám sức khỏe tổn...</td>\n    </tr>\n    <tr>\n      <th>3</th>\n      <td>Đừng để bị giảm thị lực vĩnh viễn do viêm bờ mi</td>\n      <td>Bạn có thể gặp nhiều phiền toái, mất thẩm mĩ v...</td>\n    </tr>\n    <tr>\n      <th>4</th>\n      <td>5 thời điểm vàng bạn nên uống mật ong</td>\n      <td>Bạn dùng mật ong vào buổi sáng để lọc sạch cặn...</td>\n    </tr>\n    <tr>\n      <th>...</th>\n      <td>...</td>\n      <td>...</td>\n    </tr>\n    <tr>\n      <th>95</th>\n      <td>Chữa hẹp bao quy đầu ở trẻ em</td>\n      <td>Hẹp bao quy đầu ở trẻ nhỏ là bệnh lý xảy ra kh...</td>\n    </tr>\n    <tr>\n      <th>96</th>\n      <td>Vitamin E có tác dụng gì cho phụ nữ sau khi sinh?</td>\n      <td>Vitamin E là một chất xúc tác quan trọng, đóng...</td>\n    </tr>\n    <tr>\n      <th>97</th>\n      <td>Chọn vitamin tổng hợp loại nào tốt nhất?</td>\n      <td>Trên thị trường hiện nay có rất nhiều loại vit...</td>\n    </tr>\n    <tr>\n      <th>98</th>\n      <td>Tập Gym một ngày ăn mấy quả chuối</td>\n      <td>Trong thực đơn tập Gym, chuối chính là loại qu...</td>\n    </tr>\n    <tr>\n      <th>99</th>\n      <td>Trẻ còi xương nên uống thuốc gì?</td>\n      <td>Còi xương là một trong những bệnh phổ biến ở t...</td>\n    </tr>\n  </tbody>\n</table>\n<p>100 rows × 2 columns</p>\n</div>"
     },
     "metadata": {},
     "execution_count": 35
    }
   ],
   "source": [
    "data"
   ]
  },
  {
   "cell_type": "code",
   "execution_count": null,
   "metadata": {},
   "outputs": [],
   "source": []
  }
 ]
}