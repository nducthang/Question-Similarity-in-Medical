{
 "metadata": {
  "language_info": {
   "codemirror_mode": {
    "name": "ipython",
    "version": 3
   },
   "file_extension": ".py",
   "mimetype": "text/x-python",
   "name": "python",
   "nbconvert_exporter": "python",
   "pygments_lexer": "ipython3",
   "version": "3.6.9-final"
  },
  "orig_nbformat": 2,
  "kernelspec": {
   "name": "python3",
   "display_name": "Python 3",
   "language": "python"
  }
 },
 "nbformat": 4,
 "nbformat_minor": 2,
 "cells": [
  {
   "cell_type": "code",
   "execution_count": 1,
   "metadata": {},
   "outputs": [
    {
     "output_type": "execute_result",
     "data": {
      "text/plain": [
       "                                           question  \\\n",
       "0                   Chỉ số xét nghiệm ca 125 là gì?   \n",
       "1  3 món ăn đơn giản giúp ngực to một cách tự nhiên   \n",
       "2                        Giá khám tổng quát định kì   \n",
       "3   Đừng để bị giảm thị lực vĩnh viễn do viêm bờ mi   \n",
       "4             5 thời điểm vàng bạn nên uống mật ong   \n",
       "\n",
       "                                              answer  \\\n",
       "0  Xét nghiệm CA 125 chính là chỉ số kháng nguyên...   \n",
       "1  Có thể bạn không biết những món ăn đơn giản th...   \n",
       "2  Như các bạn biết thì chi phí khám sức khỏe tổn...   \n",
       "3  Bạn có thể gặp nhiều phiền toái, mất thẩm mĩ v...   \n",
       "4  Bạn dùng mật ong vào buổi sáng để lọc sạch cặn...   \n",
       "\n",
       "                         question_clean  \\\n",
       "0              chỉ_số xét_nghiệm ca 125   \n",
       "1  3 món đơn_giản giúp ngực to tự_nhiên   \n",
       "2            giá khám tổng_quát định_kì   \n",
       "3     đừng thị_lực vĩnh_viễn viêm bờ mi   \n",
       "4                   5 vàng uống mật_ong   \n",
       "\n",
       "                                        answer_clean  \n",
       "0  xét_nghiệm ca 125 chỉ_số kháng_nguyên ung_thư ...  \n",
       "1  món đơn_giản thường_ngày công_dụng ngực to căn...  \n",
       "2  chi_phí khám sức_khỏe tổng_quát khoản khám sức...  \n",
       "3  phiền_toái thẩm_mĩ mắt viêm bờ mi có_thể bị th...  \n",
       "4  mật_ong lọc sạch cặn bẩn đêm detox detox mật_o...  "
      ],
      "text/html": "<div>\n<style scoped>\n    .dataframe tbody tr th:only-of-type {\n        vertical-align: middle;\n    }\n\n    .dataframe tbody tr th {\n        vertical-align: top;\n    }\n\n    .dataframe thead th {\n        text-align: right;\n    }\n</style>\n<table border=\"1\" class=\"dataframe\">\n  <thead>\n    <tr style=\"text-align: right;\">\n      <th></th>\n      <th>question</th>\n      <th>answer</th>\n      <th>question_clean</th>\n      <th>answer_clean</th>\n    </tr>\n  </thead>\n  <tbody>\n    <tr>\n      <th>0</th>\n      <td>Chỉ số xét nghiệm ca 125 là gì?</td>\n      <td>Xét nghiệm CA 125 chính là chỉ số kháng nguyên...</td>\n      <td>chỉ_số xét_nghiệm ca 125</td>\n      <td>xét_nghiệm ca 125 chỉ_số kháng_nguyên ung_thư ...</td>\n    </tr>\n    <tr>\n      <th>1</th>\n      <td>3 món ăn đơn giản giúp ngực to một cách tự nhiên</td>\n      <td>Có thể bạn không biết những món ăn đơn giản th...</td>\n      <td>3 món đơn_giản giúp ngực to tự_nhiên</td>\n      <td>món đơn_giản thường_ngày công_dụng ngực to căn...</td>\n    </tr>\n    <tr>\n      <th>2</th>\n      <td>Giá khám tổng quát định kì</td>\n      <td>Như các bạn biết thì chi phí khám sức khỏe tổn...</td>\n      <td>giá khám tổng_quát định_kì</td>\n      <td>chi_phí khám sức_khỏe tổng_quát khoản khám sức...</td>\n    </tr>\n    <tr>\n      <th>3</th>\n      <td>Đừng để bị giảm thị lực vĩnh viễn do viêm bờ mi</td>\n      <td>Bạn có thể gặp nhiều phiền toái, mất thẩm mĩ v...</td>\n      <td>đừng thị_lực vĩnh_viễn viêm bờ mi</td>\n      <td>phiền_toái thẩm_mĩ mắt viêm bờ mi có_thể bị th...</td>\n    </tr>\n    <tr>\n      <th>4</th>\n      <td>5 thời điểm vàng bạn nên uống mật ong</td>\n      <td>Bạn dùng mật ong vào buổi sáng để lọc sạch cặn...</td>\n      <td>5 vàng uống mật_ong</td>\n      <td>mật_ong lọc sạch cặn bẩn đêm detox detox mật_o...</td>\n    </tr>\n  </tbody>\n</table>\n</div>"
     },
     "metadata": {},
     "execution_count": 1
    }
   ],
   "source": [
    "import pandas as pd\n",
    "data = pd.read_csv(\"./data/processed/final.csv\")\n",
    "data.head()"
   ]
  },
  {
   "cell_type": "code",
   "execution_count": 2,
   "metadata": {},
   "outputs": [],
   "source": [
    "# !gzip -d ./notebooks/cc.vi.300.bin.gz"
   ]
  },
  {
   "cell_type": "code",
   "execution_count": 3,
   "metadata": {},
   "outputs": [
    {
     "output_type": "stream",
     "name": "stderr",
     "text": [
      "/home/thang/env/lib/python3.6/site-packages/ipykernel_launcher.py:3: DeprecationWarning: Call to deprecated `load_fasttext_format` (use load_facebook_vectors (to use pretrained embeddings) or load_facebook_model (to continue training with the loaded full model, more RAM) instead).\n  This is separate from the ipykernel package so we can avoid doing imports until\n"
     ]
    }
   ],
   "source": [
    "from gensim.models.fasttext import FastText\n",
    "\n",
    "model = FastText.load_fasttext_format('./notebooks/cc.vi.300.bin')"
   ]
  },
  {
   "cell_type": "code",
   "execution_count": 1,
   "metadata": {},
   "outputs": [],
   "source": [
    "cos_sim = lambda a,b: np.dot(a,b)/(np.linalg.norm(a)*np.linalg.norm(b))"
   ]
  },
  {
   "cell_type": "code",
   "execution_count": null,
   "metadata": {},
   "outputs": [],
   "source": [
    "text = 'trường đại_học bách_khoa hà_nội'\n",
    "print(model[text])"
   ]
  },
  {
   "cell_type": "code",
   "execution_count": null,
   "metadata": {},
   "outputs": [],
   "source": []
  }
 ]
}