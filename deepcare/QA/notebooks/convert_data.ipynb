{
 "metadata": {
  "language_info": {
   "codemirror_mode": {
    "name": "ipython",
    "version": 3
   },
   "file_extension": ".py",
   "mimetype": "text/x-python",
   "name": "python",
   "nbconvert_exporter": "python",
   "pygments_lexer": "ipython3",
   "version": "3.6.9-final"
  },
  "orig_nbformat": 2,
  "kernelspec": {
   "name": "python3",
   "display_name": "Python 3",
   "language": "python"
  }
 },
 "nbformat": 4,
 "nbformat_minor": 2,
 "cells": [
  {
   "source": [
    "# Convert data to csv"
   ],
   "cell_type": "markdown",
   "metadata": {}
  },
  {
   "cell_type": "code",
   "execution_count": 1,
   "metadata": {},
   "outputs": [],
   "source": [
    "import pandas as pd"
   ]
  },
  {
   "cell_type": "code",
   "execution_count": 2,
   "metadata": {},
   "outputs": [],
   "source": [
    "f1 = open(\"./data/raw/questionsFinal.dat\")\n",
    "f2 = open(\"./data/raw/answersFinal.dat\")"
   ]
  },
  {
   "cell_type": "code",
   "execution_count": 3,
   "metadata": {},
   "outputs": [],
   "source": [
    "question = [line[:-1] for line in f1.readlines()]\n",
    "answer = [line[:-1] for line in f2.readlines()]"
   ]
  },
  {
   "cell_type": "code",
   "execution_count": 4,
   "metadata": {},
   "outputs": [
    {
     "output_type": "execute_result",
     "data": {
      "text/plain": [
       "                                           question  \\\n",
       "0                   Chỉ số xét nghiệm ca 125 là gì?   \n",
       "1  3 món ăn đơn giản giúp ngực to một cách tự nhiên   \n",
       "2                        Giá khám tổng quát định kì   \n",
       "3   Đừng để bị giảm thị lực vĩnh viễn do viêm bờ mi   \n",
       "4             5 thời điểm vàng bạn nên uống mật ong   \n",
       "\n",
       "                                              answer  \n",
       "0  Xét nghiệm CA 125 chính là chỉ số kháng nguyên...  \n",
       "1  Có thể bạn không biết những món ăn đơn giản th...  \n",
       "2  Như các bạn biết thì chi phí khám sức khỏe tổn...  \n",
       "3  Bạn có thể gặp nhiều phiền toái, mất thẩm mĩ v...  \n",
       "4  Bạn dùng mật ong vào buổi sáng để lọc sạch cặn...  "
      ],
      "text/html": "<div>\n<style scoped>\n    .dataframe tbody tr th:only-of-type {\n        vertical-align: middle;\n    }\n\n    .dataframe tbody tr th {\n        vertical-align: top;\n    }\n\n    .dataframe thead th {\n        text-align: right;\n    }\n</style>\n<table border=\"1\" class=\"dataframe\">\n  <thead>\n    <tr style=\"text-align: right;\">\n      <th></th>\n      <th>question</th>\n      <th>answer</th>\n    </tr>\n  </thead>\n  <tbody>\n    <tr>\n      <th>0</th>\n      <td>Chỉ số xét nghiệm ca 125 là gì?</td>\n      <td>Xét nghiệm CA 125 chính là chỉ số kháng nguyên...</td>\n    </tr>\n    <tr>\n      <th>1</th>\n      <td>3 món ăn đơn giản giúp ngực to một cách tự nhiên</td>\n      <td>Có thể bạn không biết những món ăn đơn giản th...</td>\n    </tr>\n    <tr>\n      <th>2</th>\n      <td>Giá khám tổng quát định kì</td>\n      <td>Như các bạn biết thì chi phí khám sức khỏe tổn...</td>\n    </tr>\n    <tr>\n      <th>3</th>\n      <td>Đừng để bị giảm thị lực vĩnh viễn do viêm bờ mi</td>\n      <td>Bạn có thể gặp nhiều phiền toái, mất thẩm mĩ v...</td>\n    </tr>\n    <tr>\n      <th>4</th>\n      <td>5 thời điểm vàng bạn nên uống mật ong</td>\n      <td>Bạn dùng mật ong vào buổi sáng để lọc sạch cặn...</td>\n    </tr>\n  </tbody>\n</table>\n</div>"
     },
     "metadata": {},
     "execution_count": 4
    }
   ],
   "source": [
    "data = pd.DataFrame({\"question\":question, \"answer\": answer})\n",
    "data.head()"
   ]
  },
  {
   "cell_type": "code",
   "execution_count": 5,
   "metadata": {},
   "outputs": [],
   "source": [
    "data.to_csv(\"./data/interim/data.csv\", index=False)"
   ]
  },
  {
   "source": [
    "# Clean data"
   ],
   "cell_type": "markdown",
   "metadata": {}
  },
  {
   "cell_type": "code",
   "execution_count": 6,
   "metadata": {},
   "outputs": [],
   "source": [
    "from src.cleaner import Cleaner\n",
    "import pandas as pd"
   ]
  },
  {
   "cell_type": "code",
   "execution_count": 7,
   "metadata": {},
   "outputs": [],
   "source": [
    "cleaner = Cleaner()\n",
    "data = pd.read_csv(\"./data/interim/data.csv\")"
   ]
  },
  {
   "cell_type": "code",
   "execution_count": 8,
   "metadata": {},
   "outputs": [],
   "source": [
    "data['question_clean'] = data['question'].apply(lambda text: cleaner.run(text))\n",
    "data['answer_clean'] = data['answer'].apply(lambda text: cleaner.run(text))"
   ]
  },
  {
   "cell_type": "code",
   "execution_count": 9,
   "metadata": {},
   "outputs": [
    {
     "output_type": "execute_result",
     "data": {
      "text/plain": [
       "                                               question  \\\n",
       "0                       Chỉ số xét nghiệm ca 125 là gì?   \n",
       "1      3 món ăn đơn giản giúp ngực to một cách tự nhiên   \n",
       "2                            Giá khám tổng quát định kì   \n",
       "3       Đừng để bị giảm thị lực vĩnh viễn do viêm bờ mi   \n",
       "4                 5 thời điểm vàng bạn nên uống mật ong   \n",
       "...                                                 ...   \n",
       "9143  Những biến chứng thường gặp do hen suyễn ở trẻ em   \n",
       "9144               Nhiễm virus HPV dễ mắc ung thư miệng   \n",
       "9145           Hướng dẫn cần phải làm gì khi hiếm muộn?   \n",
       "9146      Sảy thai tự nhiên ra máu trong bao lâu sẽ hết   \n",
       "9147  Bạn đã biết thời gian ủ bệnh ung thư vòm họng ...   \n",
       "\n",
       "                                                 answer  \\\n",
       "0     Xét nghiệm CA 125 chính là chỉ số kháng nguyên...   \n",
       "1     Có thể bạn không biết những món ăn đơn giản th...   \n",
       "2     Như các bạn biết thì chi phí khám sức khỏe tổn...   \n",
       "3     Bạn có thể gặp nhiều phiền toái, mất thẩm mĩ v...   \n",
       "4     Bạn dùng mật ong vào buổi sáng để lọc sạch cặn...   \n",
       "...                                                 ...   \n",
       "9143  Hen suyễn là một căn bệnh mạn tính thường gặp ...   \n",
       "9144  Trên thế giới tỷ lệ mắc bệnh ung thư khoang mi...   \n",
       "9145  Có con là mong mỏi của mỗi cặp vợ chồng.  Thế ...   \n",
       "9146  Sảy thai là điều không ai mong muốn, ngoài nhữ...   \n",
       "9147  Bệnh ung thư vòm họng cũng giống như những bện...   \n",
       "\n",
       "                            question_clean  \\\n",
       "0                 chỉ_số xét_nghiệm ca 125   \n",
       "1     3 món đơn_giản giúp ngực to tự_nhiên   \n",
       "2               giá khám tổng_quát định_kì   \n",
       "3        đừng thị_lực vĩnh_viễn viêm bờ mi   \n",
       "4                      5 vàng uống mật_ong   \n",
       "...                                    ...   \n",
       "9143           biến_chứng hen_suyễn trẻ_em   \n",
       "9144     nhiễm virus hpv mắc ung_thư miệng   \n",
       "9145                   hướng_dẫn hiếm_muộn   \n",
       "9146                 sảy thai tự_nhiên máu   \n",
       "9147               ủ_bệnh ung_thư vòm họng   \n",
       "\n",
       "                                           answer_clean  \n",
       "0     xét_nghiệm ca 125 chỉ_số kháng_nguyên ung_thư ...  \n",
       "1     món đơn_giản thường_ngày công_dụng ngực to căn...  \n",
       "2     chi_phí khám sức_khỏe tổng_quát khoản khám sức...  \n",
       "3     phiền_toái thẩm_mĩ mắt viêm bờ mi có_thể bị th...  \n",
       "4     mật_ong lọc sạch cặn bẩn đêm detox detox mật_o...  \n",
       "...                                                 ...  \n",
       "9143  hen_suyễn căn_bệnh mạn giao mùa chênh_lệch nhi...  \n",
       "9144  thế_giới tỷ_lệ mắc bệnh ung_thư khoang miệng h...  \n",
       "9145  mong_mỏi cặp vợ_chồng trời thương bắt vất_vả đ...  \n",
       "9146  sảy thai mong_muốn ảnh_hưởng tâm_lý những ảnh_...  \n",
       "9147  bệnh ung_thư vòm họng bệnh ung_thư ủ_bệnh kéo_...  \n",
       "\n",
       "[9148 rows x 4 columns]"
      ],
      "text/html": "<div>\n<style scoped>\n    .dataframe tbody tr th:only-of-type {\n        vertical-align: middle;\n    }\n\n    .dataframe tbody tr th {\n        vertical-align: top;\n    }\n\n    .dataframe thead th {\n        text-align: right;\n    }\n</style>\n<table border=\"1\" class=\"dataframe\">\n  <thead>\n    <tr style=\"text-align: right;\">\n      <th></th>\n      <th>question</th>\n      <th>answer</th>\n      <th>question_clean</th>\n      <th>answer_clean</th>\n    </tr>\n  </thead>\n  <tbody>\n    <tr>\n      <th>0</th>\n      <td>Chỉ số xét nghiệm ca 125 là gì?</td>\n      <td>Xét nghiệm CA 125 chính là chỉ số kháng nguyên...</td>\n      <td>chỉ_số xét_nghiệm ca 125</td>\n      <td>xét_nghiệm ca 125 chỉ_số kháng_nguyên ung_thư ...</td>\n    </tr>\n    <tr>\n      <th>1</th>\n      <td>3 món ăn đơn giản giúp ngực to một cách tự nhiên</td>\n      <td>Có thể bạn không biết những món ăn đơn giản th...</td>\n      <td>3 món đơn_giản giúp ngực to tự_nhiên</td>\n      <td>món đơn_giản thường_ngày công_dụng ngực to căn...</td>\n    </tr>\n    <tr>\n      <th>2</th>\n      <td>Giá khám tổng quát định kì</td>\n      <td>Như các bạn biết thì chi phí khám sức khỏe tổn...</td>\n      <td>giá khám tổng_quát định_kì</td>\n      <td>chi_phí khám sức_khỏe tổng_quát khoản khám sức...</td>\n    </tr>\n    <tr>\n      <th>3</th>\n      <td>Đừng để bị giảm thị lực vĩnh viễn do viêm bờ mi</td>\n      <td>Bạn có thể gặp nhiều phiền toái, mất thẩm mĩ v...</td>\n      <td>đừng thị_lực vĩnh_viễn viêm bờ mi</td>\n      <td>phiền_toái thẩm_mĩ mắt viêm bờ mi có_thể bị th...</td>\n    </tr>\n    <tr>\n      <th>4</th>\n      <td>5 thời điểm vàng bạn nên uống mật ong</td>\n      <td>Bạn dùng mật ong vào buổi sáng để lọc sạch cặn...</td>\n      <td>5 vàng uống mật_ong</td>\n      <td>mật_ong lọc sạch cặn bẩn đêm detox detox mật_o...</td>\n    </tr>\n    <tr>\n      <th>...</th>\n      <td>...</td>\n      <td>...</td>\n      <td>...</td>\n      <td>...</td>\n    </tr>\n    <tr>\n      <th>9143</th>\n      <td>Những biến chứng thường gặp do hen suyễn ở trẻ em</td>\n      <td>Hen suyễn là một căn bệnh mạn tính thường gặp ...</td>\n      <td>biến_chứng hen_suyễn trẻ_em</td>\n      <td>hen_suyễn căn_bệnh mạn giao mùa chênh_lệch nhi...</td>\n    </tr>\n    <tr>\n      <th>9144</th>\n      <td>Nhiễm virus HPV dễ mắc ung thư miệng</td>\n      <td>Trên thế giới tỷ lệ mắc bệnh ung thư khoang mi...</td>\n      <td>nhiễm virus hpv mắc ung_thư miệng</td>\n      <td>thế_giới tỷ_lệ mắc bệnh ung_thư khoang miệng h...</td>\n    </tr>\n    <tr>\n      <th>9145</th>\n      <td>Hướng dẫn cần phải làm gì khi hiếm muộn?</td>\n      <td>Có con là mong mỏi của mỗi cặp vợ chồng.  Thế ...</td>\n      <td>hướng_dẫn hiếm_muộn</td>\n      <td>mong_mỏi cặp vợ_chồng trời thương bắt vất_vả đ...</td>\n    </tr>\n    <tr>\n      <th>9146</th>\n      <td>Sảy thai tự nhiên ra máu trong bao lâu sẽ hết</td>\n      <td>Sảy thai là điều không ai mong muốn, ngoài nhữ...</td>\n      <td>sảy thai tự_nhiên máu</td>\n      <td>sảy thai mong_muốn ảnh_hưởng tâm_lý những ảnh_...</td>\n    </tr>\n    <tr>\n      <th>9147</th>\n      <td>Bạn đã biết thời gian ủ bệnh ung thư vòm họng ...</td>\n      <td>Bệnh ung thư vòm họng cũng giống như những bện...</td>\n      <td>ủ_bệnh ung_thư vòm họng</td>\n      <td>bệnh ung_thư vòm họng bệnh ung_thư ủ_bệnh kéo_...</td>\n    </tr>\n  </tbody>\n</table>\n<p>9148 rows × 4 columns</p>\n</div>"
     },
     "metadata": {},
     "execution_count": 9
    }
   ],
   "source": [
    "data"
   ]
  },
  {
   "cell_type": "code",
   "execution_count": 10,
   "metadata": {},
   "outputs": [],
   "source": [
    "data.to_csv(\"./data/processed/final.csv\", index=False)"
   ]
  },
  {
   "cell_type": "code",
   "execution_count": null,
   "metadata": {},
   "outputs": [],
   "source": []
  }
 ]
}