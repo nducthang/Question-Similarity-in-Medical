{
 "metadata": {
  "language_info": {
   "codemirror_mode": {
    "name": "ipython",
    "version": 3
   },
   "file_extension": ".py",
   "mimetype": "text/x-python",
   "name": "python",
   "nbconvert_exporter": "python",
   "pygments_lexer": "ipython3",
   "version": "3.6.9-final"
  },
  "orig_nbformat": 2,
  "kernelspec": {
   "name": "python3",
   "display_name": "Python 3",
   "language": "python"
  }
 },
 "nbformat": 4,
 "nbformat_minor": 2,
 "cells": [
  {
   "source": [
    "# Convert data to csv"
   ],
   "cell_type": "markdown",
   "metadata": {}
  },
  {
   "cell_type": "code",
   "execution_count": 1,
   "metadata": {},
   "outputs": [],
   "source": [
    "import pandas as pd"
   ]
  },
  {
   "cell_type": "code",
   "execution_count": 4,
   "metadata": {},
   "outputs": [],
   "source": [
    "f1 = open(\"./data/raw/questionsFinal.dat\")\n",
    "f2 = open(\"./data/raw/answersFinal.dat\")"
   ]
  },
  {
   "cell_type": "code",
   "execution_count": 5,
   "metadata": {},
   "outputs": [],
   "source": [
    "question = [line[:-1] for line in f1.readlines()]\n",
    "answer = [line[:-1] for line in f2.readlines()]"
   ]
  },
  {
   "cell_type": "code",
   "execution_count": 7,
   "metadata": {},
   "outputs": [
    {
     "output_type": "execute_result",
     "data": {
      "text/plain": [
       "                                           question  \\\n",
       "0                   Chỉ số xét nghiệm ca 125 là gì?   \n",
       "1  3 món ăn đơn giản giúp ngực to một cách tự nhiên   \n",
       "2                        Giá khám tổng quát định kì   \n",
       "3   Đừng để bị giảm thị lực vĩnh viễn do viêm bờ mi   \n",
       "4             5 thời điểm vàng bạn nên uống mật ong   \n",
       "\n",
       "                                              answer  \n",
       "0  Xét nghiệm CA 125 chính là chỉ số kháng nguyên...  \n",
       "1  Có thể bạn không biết những món ăn đơn giản th...  \n",
       "2  Như các bạn biết thì chi phí khám sức khỏe tổn...  \n",
       "3  Bạn có thể gặp nhiều phiền toái, mất thẩm mĩ v...  \n",
       "4  Bạn dùng mật ong vào buổi sáng để lọc sạch cặn...  "
      ],
      "text/html": "<div>\n<style scoped>\n    .dataframe tbody tr th:only-of-type {\n        vertical-align: middle;\n    }\n\n    .dataframe tbody tr th {\n        vertical-align: top;\n    }\n\n    .dataframe thead th {\n        text-align: right;\n    }\n</style>\n<table border=\"1\" class=\"dataframe\">\n  <thead>\n    <tr style=\"text-align: right;\">\n      <th></th>\n      <th>question</th>\n      <th>answer</th>\n    </tr>\n  </thead>\n  <tbody>\n    <tr>\n      <th>0</th>\n      <td>Chỉ số xét nghiệm ca 125 là gì?</td>\n      <td>Xét nghiệm CA 125 chính là chỉ số kháng nguyên...</td>\n    </tr>\n    <tr>\n      <th>1</th>\n      <td>3 món ăn đơn giản giúp ngực to một cách tự nhiên</td>\n      <td>Có thể bạn không biết những món ăn đơn giản th...</td>\n    </tr>\n    <tr>\n      <th>2</th>\n      <td>Giá khám tổng quát định kì</td>\n      <td>Như các bạn biết thì chi phí khám sức khỏe tổn...</td>\n    </tr>\n    <tr>\n      <th>3</th>\n      <td>Đừng để bị giảm thị lực vĩnh viễn do viêm bờ mi</td>\n      <td>Bạn có thể gặp nhiều phiền toái, mất thẩm mĩ v...</td>\n    </tr>\n    <tr>\n      <th>4</th>\n      <td>5 thời điểm vàng bạn nên uống mật ong</td>\n      <td>Bạn dùng mật ong vào buổi sáng để lọc sạch cặn...</td>\n    </tr>\n  </tbody>\n</table>\n</div>"
     },
     "metadata": {},
     "execution_count": 7
    }
   ],
   "source": [
    "data = pd.DataFrame({\"question\":question, \"answer\": answer})\n",
    "data.head()"
   ]
  },
  {
   "cell_type": "code",
   "execution_count": 8,
   "metadata": {},
   "outputs": [],
   "source": [
    "data.to_csv(\"./data/interim/data.csv\", index=False)"
   ]
  },
  {
   "source": [
    "# Clean data"
   ],
   "cell_type": "markdown",
   "metadata": {}
  },
  {
   "cell_type": "code",
   "execution_count": 4,
   "metadata": {},
   "outputs": [],
   "source": [
    "from src.cleaner import Cleaner\n",
    "import pandas as pd"
   ]
  },
  {
   "cell_type": "code",
   "execution_count": 5,
   "metadata": {},
   "outputs": [],
   "source": [
    "cleaner = Cleaner()\n",
    "data = pd.read_csv(\"./data/interim/data.csv\")"
   ]
  },
  {
   "cell_type": "code",
   "execution_count": 6,
   "metadata": {},
   "outputs": [],
   "source": [
    "data['question'] = data['question'].apply(lambda text: cleaner.run(text))\n",
    "data['answer'] = data['answer'].apply(lambda text: cleaner.run(text))"
   ]
  },
  {
   "cell_type": "code",
   "execution_count": 7,
   "metadata": {},
   "outputs": [
    {
     "output_type": "execute_result",
     "data": {
      "text/plain": [
       "                                           question  \\\n",
       "0                   chỉ số xét nghiệm ca 125 là gì?   \n",
       "1  3 món ăn đơn giản giúp ngực to một cách tự nhiên   \n",
       "2                        giá khám tổng quát định kì   \n",
       "3   đừng để bị giảm thị lực vĩnh viễn do viêm bờ mi   \n",
       "4             5 thời điểm vàng bạn nên uống mật ong   \n",
       "\n",
       "                                              answer  \n",
       "0  xét nghiệm ca 125 chính là chỉ số kháng nguyên...  \n",
       "1  có thể bạn không biết những món ăn đơn giản th...  \n",
       "2  như các bạn biết thì chi phí khám sức khỏe tổn...  \n",
       "3  bạn có thể gặp nhiều phiền toái, mất thẩm mĩ v...  \n",
       "4  bạn dùng mật ong vào buổi sáng để lọc sạch cặn...  "
      ],
      "text/html": "<div>\n<style scoped>\n    .dataframe tbody tr th:only-of-type {\n        vertical-align: middle;\n    }\n\n    .dataframe tbody tr th {\n        vertical-align: top;\n    }\n\n    .dataframe thead th {\n        text-align: right;\n    }\n</style>\n<table border=\"1\" class=\"dataframe\">\n  <thead>\n    <tr style=\"text-align: right;\">\n      <th></th>\n      <th>question</th>\n      <th>answer</th>\n    </tr>\n  </thead>\n  <tbody>\n    <tr>\n      <th>0</th>\n      <td>chỉ số xét nghiệm ca 125 là gì?</td>\n      <td>xét nghiệm ca 125 chính là chỉ số kháng nguyên...</td>\n    </tr>\n    <tr>\n      <th>1</th>\n      <td>3 món ăn đơn giản giúp ngực to một cách tự nhiên</td>\n      <td>có thể bạn không biết những món ăn đơn giản th...</td>\n    </tr>\n    <tr>\n      <th>2</th>\n      <td>giá khám tổng quát định kì</td>\n      <td>như các bạn biết thì chi phí khám sức khỏe tổn...</td>\n    </tr>\n    <tr>\n      <th>3</th>\n      <td>đừng để bị giảm thị lực vĩnh viễn do viêm bờ mi</td>\n      <td>bạn có thể gặp nhiều phiền toái, mất thẩm mĩ v...</td>\n    </tr>\n    <tr>\n      <th>4</th>\n      <td>5 thời điểm vàng bạn nên uống mật ong</td>\n      <td>bạn dùng mật ong vào buổi sáng để lọc sạch cặn...</td>\n    </tr>\n  </tbody>\n</table>\n</div>"
     },
     "metadata": {},
     "execution_count": 7
    }
   ],
   "source": [
    "data.head()"
   ]
  },
  {
   "cell_type": "code",
   "execution_count": null,
   "metadata": {},
   "outputs": [],
   "source": []
  }
 ]
}