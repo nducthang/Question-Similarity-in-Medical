{
 "metadata": {
  "language_info": {
   "codemirror_mode": {
    "name": "ipython",
    "version": 3
   },
   "file_extension": ".py",
   "mimetype": "text/x-python",
   "name": "python",
   "nbconvert_exporter": "python",
   "pygments_lexer": "ipython3",
   "version": "3.6.9-final"
  },
  "orig_nbformat": 2,
  "kernelspec": {
   "name": "python3",
   "display_name": "Python 3",
   "language": "python"
  }
 },
 "nbformat": 4,
 "nbformat_minor": 2,
 "cells": [
  {
   "cell_type": "code",
   "execution_count": 22,
   "metadata": {},
   "outputs": [
    {
     "output_type": "execute_result",
     "data": {
      "text/plain": [
       "                                           question  \\\n",
       "0                   Chỉ số xét nghiệm ca 125 là gì?   \n",
       "1  3 món ăn đơn giản giúp ngực to một cách tự nhiên   \n",
       "2                        Giá khám tổng quát định kì   \n",
       "3   Đừng để bị giảm thị lực vĩnh viễn do viêm bờ mi   \n",
       "4             5 thời điểm vàng bạn nên uống mật ong   \n",
       "\n",
       "                                              answer  \\\n",
       "0  Xét nghiệm CA 125 chính là chỉ số kháng nguyên...   \n",
       "1  Có thể bạn không biết những món ăn đơn giản th...   \n",
       "2  Như các bạn biết thì chi phí khám sức khỏe tổn...   \n",
       "3  Bạn có thể gặp nhiều phiền toái, mất thẩm mĩ v...   \n",
       "4  Bạn dùng mật ong vào buổi sáng để lọc sạch cặn...   \n",
       "\n",
       "                         question_clean  \\\n",
       "0              chỉ_số xét_nghiệm ca 125   \n",
       "1  3 món đơn_giản giúp ngực to tự_nhiên   \n",
       "2            giá khám tổng_quát định_kì   \n",
       "3     đừng thị_lực vĩnh_viễn viêm bờ mi   \n",
       "4                   5 vàng uống mật_ong   \n",
       "\n",
       "                                        answer_clean  \n",
       "0  xét_nghiệm ca 125 chỉ_số kháng_nguyên ung_thư ...  \n",
       "1  món đơn_giản thường_ngày công_dụng ngực to căn...  \n",
       "2  chi_phí khám sức_khỏe tổng_quát khoản khám sức...  \n",
       "3  phiền_toái thẩm_mĩ mắt viêm bờ mi có_thể bị th...  \n",
       "4  mật_ong lọc sạch cặn bẩn đêm detox detox mật_o...  "
      ],
      "text/html": "<div>\n<style scoped>\n    .dataframe tbody tr th:only-of-type {\n        vertical-align: middle;\n    }\n\n    .dataframe tbody tr th {\n        vertical-align: top;\n    }\n\n    .dataframe thead th {\n        text-align: right;\n    }\n</style>\n<table border=\"1\" class=\"dataframe\">\n  <thead>\n    <tr style=\"text-align: right;\">\n      <th></th>\n      <th>question</th>\n      <th>answer</th>\n      <th>question_clean</th>\n      <th>answer_clean</th>\n    </tr>\n  </thead>\n  <tbody>\n    <tr>\n      <th>0</th>\n      <td>Chỉ số xét nghiệm ca 125 là gì?</td>\n      <td>Xét nghiệm CA 125 chính là chỉ số kháng nguyên...</td>\n      <td>chỉ_số xét_nghiệm ca 125</td>\n      <td>xét_nghiệm ca 125 chỉ_số kháng_nguyên ung_thư ...</td>\n    </tr>\n    <tr>\n      <th>1</th>\n      <td>3 món ăn đơn giản giúp ngực to một cách tự nhiên</td>\n      <td>Có thể bạn không biết những món ăn đơn giản th...</td>\n      <td>3 món đơn_giản giúp ngực to tự_nhiên</td>\n      <td>món đơn_giản thường_ngày công_dụng ngực to căn...</td>\n    </tr>\n    <tr>\n      <th>2</th>\n      <td>Giá khám tổng quát định kì</td>\n      <td>Như các bạn biết thì chi phí khám sức khỏe tổn...</td>\n      <td>giá khám tổng_quát định_kì</td>\n      <td>chi_phí khám sức_khỏe tổng_quát khoản khám sức...</td>\n    </tr>\n    <tr>\n      <th>3</th>\n      <td>Đừng để bị giảm thị lực vĩnh viễn do viêm bờ mi</td>\n      <td>Bạn có thể gặp nhiều phiền toái, mất thẩm mĩ v...</td>\n      <td>đừng thị_lực vĩnh_viễn viêm bờ mi</td>\n      <td>phiền_toái thẩm_mĩ mắt viêm bờ mi có_thể bị th...</td>\n    </tr>\n    <tr>\n      <th>4</th>\n      <td>5 thời điểm vàng bạn nên uống mật ong</td>\n      <td>Bạn dùng mật ong vào buổi sáng để lọc sạch cặn...</td>\n      <td>5 vàng uống mật_ong</td>\n      <td>mật_ong lọc sạch cặn bẩn đêm detox detox mật_o...</td>\n    </tr>\n  </tbody>\n</table>\n</div>"
     },
     "metadata": {},
     "execution_count": 22
    }
   ],
   "source": [
    "import pandas as pd\n",
    "data = pd.read_csv(\"./data/processed/final.csv\")\n",
    "data.head()"
   ]
  },
  {
   "cell_type": "code",
   "execution_count": 23,
   "metadata": {},
   "outputs": [],
   "source": [
    "import multiprocessing\n",
    "num_cores = multiprocessing.cpu_count() # số core cpu máy tính"
   ]
  },
  {
   "cell_type": "code",
   "execution_count": 24,
   "metadata": {},
   "outputs": [
    {
     "output_type": "execute_result",
     "data": {
      "text/plain": [
       "8"
      ]
     },
     "metadata": {},
     "execution_count": 24
    }
   ],
   "source": [
    "num_cores"
   ]
  },
  {
   "cell_type": "code",
   "execution_count": 25,
   "metadata": {},
   "outputs": [],
   "source": [
    "# Mô hình gensim Doc2Vec bao gồm vector word cũng như vector document\n",
    "from gensim.models.doc2vec import TaggedDocument, Doc2Vec"
   ]
  },
  {
   "cell_type": "code",
   "execution_count": 26,
   "metadata": {},
   "outputs": [],
   "source": [
    "# simple_preprocess là xử lý bỏ qua ký hiệu và dấu chấm câu ...\n",
    "from gensim.utils import simple_preprocess"
   ]
  },
  {
   "cell_type": "code",
   "execution_count": 27,
   "metadata": {},
   "outputs": [],
   "source": [
    "training_corpus = []\n",
    "for i, text in enumerate(data['question_clean']):\n",
    "    tagged_doc = TaggedDocument(text, [i])\n",
    "    training_corpus.append(tagged_doc)"
   ]
  },
  {
   "cell_type": "code",
   "execution_count": 28,
   "metadata": {},
   "outputs": [
    {
     "output_type": "stream",
     "name": "stderr",
     "text": [
      "/home/thang/env/lib/python3.6/site-packages/gensim/models/doc2vec.py:315: UserWarning: The parameter `iter` is deprecated, will be removed in 4.0.0, use `epochs` instead.\n  warnings.warn(\"The parameter `iter` is deprecated, will be removed in 4.0.0, use `epochs` instead.\")\n/home/thang/env/lib/python3.6/site-packages/gensim/models/doc2vec.py:319: UserWarning: The parameter `size` is deprecated, will be removed in 4.0.0, use `vector_size` instead.\n  warnings.warn(\"The parameter `size` is deprecated, will be removed in 4.0.0, use `vector_size` instead.\")\n"
     ]
    }
   ],
   "source": [
    "model = Doc2Vec(size=300, min_count=2, workers=num_cores, iter=1000)"
   ]
  },
  {
   "cell_type": "code",
   "execution_count": 29,
   "metadata": {},
   "outputs": [],
   "source": [
    "model.build_vocab(training_corpus)"
   ]
  },
  {
   "cell_type": "code",
   "execution_count": 30,
   "metadata": {},
   "outputs": [
    {
     "output_type": "stream",
     "name": "stderr",
     "text": [
      "/home/thang/env/lib/python3.6/site-packages/ipykernel_launcher.py:1: DeprecationWarning: Call to deprecated `iter` (Attribute will be removed in 4.0.0, use self.epochs instead).\n  \"\"\"Entry point for launching an IPython kernel.\n"
     ]
    }
   ],
   "source": [
    "model.train(training_corpus, total_examples=model.corpus_count, epochs=model.iter)"
   ]
  },
  {
   "cell_type": "code",
   "execution_count": 31,
   "metadata": {},
   "outputs": [
    {
     "output_type": "execute_result",
     "data": {
      "text/plain": [
       "9148"
      ]
     },
     "metadata": {},
     "execution_count": 31
    }
   ],
   "source": [
    "len(model.docvecs)"
   ]
  },
  {
   "cell_type": "code",
   "execution_count": 32,
   "metadata": {},
   "outputs": [],
   "source": [
    "from src.cleaner import Cleaner\n",
    "clean = Cleaner()"
   ]
  },
  {
   "cell_type": "code",
   "execution_count": 33,
   "metadata": {},
   "outputs": [],
   "source": [
    "import numpy as np\n",
    "def consine(x,y):\n",
    "    x = np.array(x)\n",
    "    y = np.array(y)\n",
    "    return x.dot(y)/(np.linalg.norm(x)*np.linalg.norm(y))"
   ]
  },
  {
   "cell_type": "code",
   "execution_count": 34,
   "metadata": {},
   "outputs": [],
   "source": [
    "def get_similary(text, n):\n",
    "    \"\"\" Select n question that similary with text \"\"\"\n",
    "    text = clean.run(text)\n",
    "    input_embed = model.infer_vector([text], steps=1000)\n",
    "    result = {}\n",
    "    for i, q in enumerate(data['question']):\n",
    "        result[q] = consine(input_embed, model.docvecs[i])\n",
    "    return sorted(result.items(), key=lambda x: x[1], reverse=True)[:n]"
   ]
  },
  {
   "cell_type": "code",
   "execution_count": 35,
   "metadata": {},
   "outputs": [
    {
     "output_type": "stream",
     "name": "stdout",
     "text": [
      "CPU times: user 175 ms, sys: 0 ns, total: 175 ms\nWall time: 174 ms\n"
     ]
    },
    {
     "output_type": "execute_result",
     "data": {
      "text/plain": [
       "[('Nhiễm khuẩn đường tiết niệu rất dễ xảy ra khi mang thai', 0.20854746),\n",
       " ('Phòng ngừa và điều trị tiểu đường thai kỳ', 0.20776266),\n",
       " ('Tại sao mọi người vẫn thường xuyên đi làm khi bị ốm', 0.20190729),\n",
       " ('Niềng răng móm có đau nhiều không?', 0.196333),\n",
       " ('Thường xuyên bị nổi mề đay buổi tối có nguy hiểm không?', 0.1894921)]"
      ]
     },
     "metadata": {},
     "execution_count": 35
    }
   ],
   "source": [
    "%%time\n",
    "get_similary(\"bệnh viêm gan b là gì?\", 5)"
   ]
  },
  {
   "cell_type": "code",
   "execution_count": 36,
   "metadata": {},
   "outputs": [
    {
     "output_type": "stream",
     "name": "stdout",
     "text": [
      "CPU times: user 163 ms, sys: 0 ns, total: 163 ms\nWall time: 163 ms\n"
     ]
    },
    {
     "output_type": "execute_result",
     "data": {
      "text/plain": [
       "[('Tại sao không nên trì hoãn lịch tiêm chủng', 0.15889555),\n",
       " ('Bao lâu thì nên lấy cao răng một lần?', 0.15339643),\n",
       " ('Vì sao thị lực của mẹ bầu giảm?', 0.15177925),\n",
       " ('Những lợi ích về sức khỏe của gạo lứt', 0.14693294),\n",
       " ('Các loại bao cao su chất lượng nên dùng', 0.14648248)]"
      ]
     },
     "metadata": {},
     "execution_count": 36
    }
   ],
   "source": [
    "%%time\n",
    "get_similary(\"làm gì khi bị ung thư?\", 5)"
   ]
  },
  {
   "cell_type": "code",
   "execution_count": 37,
   "metadata": {},
   "outputs": [
    {
     "output_type": "stream",
     "name": "stdout",
     "text": [
      "CPU times: user 178 ms, sys: 5.23 ms, total: 183 ms\nWall time: 178 ms\n"
     ]
    },
    {
     "output_type": "execute_result",
     "data": {
      "text/plain": [
       "[('Chia sẻ kinh nghiệm cắt trĩ bằng phương pháp Longo', 0.16473188),\n",
       " ('Những thức ăn bổ sung kẽm tốt cho cơ thể', 0.15822855),\n",
       " ('12 loại thực phẩm bà bầu ăn giúp \\\\', 0.1530132),\n",
       " ('Giải đáp thắc mắc: Dùng lăn khử mùi có gây ung thư vú không?', 0.15151656),\n",
       " ('Những biến chứng của trĩ hậu sản các mẹ cần biết', 0.14782003)]"
      ]
     },
     "metadata": {},
     "execution_count": 37
    }
   ],
   "source": [
    "%%time\n",
    "get_similary(\"tôi cảm thấy mình bị HIV? Tôi phải làm gì?\", 5)"
   ]
  },
  {
   "cell_type": "code",
   "execution_count": null,
   "metadata": {},
   "outputs": [],
   "source": []
  }
 ]
}