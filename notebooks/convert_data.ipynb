{
 "metadata": {
  "language_info": {
   "codemirror_mode": {
    "name": "ipython",
    "version": 3
   },
   "file_extension": ".py",
   "mimetype": "text/x-python",
   "name": "python",
   "nbconvert_exporter": "python",
   "pygments_lexer": "ipython3",
   "version": "3.6.9"
  },
  "orig_nbformat": 2,
  "kernelspec": {
   "name": "python3",
   "display_name": "Python 3",
   "language": "python"
  }
 },
 "nbformat": 4,
 "nbformat_minor": 2,
 "cells": [
  {
   "source": [
    "# Đọc dữ liệu và lấy positive"
   ],
   "cell_type": "markdown",
   "metadata": {}
  },
  {
   "cell_type": "code",
   "execution_count": 2,
   "metadata": {},
   "outputs": [
    {
     "output_type": "execute_result",
     "data": {
      "text/plain": [
       "                                              answer  \\\n",
       "0  Trong những tình huống rất hiếm, nếu có một kh...   \n",
       "1  Triệu chứng lâm sàng của u gan thường nghèo nà...   \n",
       "2  U máu gan là dị dạng mạch máu bẩm sinh và là k...   \n",
       "3  – Ung thư túi mật gặp nhiều ở nữ, tuổi cao, tỷ...   \n",
       "4  Trong hầu hết các trường hợp trước mổ do đau, ...   \n",
       "\n",
       "                                            question  is_labeled  \\\n",
       "0  Trong tình huống nào thì người bệnh u máu gan ...           1   \n",
       "1  Triệu chứng lâm sàng của bệnh u máu gan là gì ...           1   \n",
       "2    Thưa bác sĩ, bệnh u máu gan có hay gặp không ạ?           0   \n",
       "3      Ai có nguy cơ cao mắc bệnh ung thư túi mật ạ?           0   \n",
       "4  Sau thay khớp háng nhân tạo, người bệnh cần ch...           0   \n",
       "\n",
       "                                 question_similaries  \n",
       "0  ['Người bệnh u máu gan được cấy ghép gan khi n...  \n",
       "1  ['Các triệu chứng của bệnh u máu gan?', 'Dấu h...  \n",
       "2                                                 []  \n",
       "3                                                 []  \n",
       "4                                                 []  "
      ],
      "text/html": "<div>\n<style scoped>\n    .dataframe tbody tr th:only-of-type {\n        vertical-align: middle;\n    }\n\n    .dataframe tbody tr th {\n        vertical-align: top;\n    }\n\n    .dataframe thead th {\n        text-align: right;\n    }\n</style>\n<table border=\"1\" class=\"dataframe\">\n  <thead>\n    <tr style=\"text-align: right;\">\n      <th></th>\n      <th>answer</th>\n      <th>question</th>\n      <th>is_labeled</th>\n      <th>question_similaries</th>\n    </tr>\n  </thead>\n  <tbody>\n    <tr>\n      <th>0</th>\n      <td>Trong những tình huống rất hiếm, nếu có một kh...</td>\n      <td>Trong tình huống nào thì người bệnh u máu gan ...</td>\n      <td>1</td>\n      <td>['Người bệnh u máu gan được cấy ghép gan khi n...</td>\n    </tr>\n    <tr>\n      <th>1</th>\n      <td>Triệu chứng lâm sàng của u gan thường nghèo nà...</td>\n      <td>Triệu chứng lâm sàng của bệnh u máu gan là gì ...</td>\n      <td>1</td>\n      <td>['Các triệu chứng của bệnh u máu gan?', 'Dấu h...</td>\n    </tr>\n    <tr>\n      <th>2</th>\n      <td>U máu gan là dị dạng mạch máu bẩm sinh và là k...</td>\n      <td>Thưa bác sĩ, bệnh u máu gan có hay gặp không ạ?</td>\n      <td>0</td>\n      <td>[]</td>\n    </tr>\n    <tr>\n      <th>3</th>\n      <td>– Ung thư túi mật gặp nhiều ở nữ, tuổi cao, tỷ...</td>\n      <td>Ai có nguy cơ cao mắc bệnh ung thư túi mật ạ?</td>\n      <td>0</td>\n      <td>[]</td>\n    </tr>\n    <tr>\n      <th>4</th>\n      <td>Trong hầu hết các trường hợp trước mổ do đau, ...</td>\n      <td>Sau thay khớp háng nhân tạo, người bệnh cần ch...</td>\n      <td>0</td>\n      <td>[]</td>\n    </tr>\n  </tbody>\n</table>\n</div>"
     },
     "metadata": {},
     "execution_count": 2
    }
   ],
   "source": [
    "import pandas as pd\n",
    "data = pd.read_csv('./tool-labels/data/data.csv')\n",
    "data.head()"
   ]
  },
  {
   "cell_type": "code",
   "execution_count": 5,
   "metadata": {},
   "outputs": [
    {
     "output_type": "execute_result",
     "data": {
      "text/plain": [
       "(22, 4)"
      ]
     },
     "metadata": {},
     "execution_count": 5
    }
   ],
   "source": [
    "data_labeled = data[data['is_labeled']==1]\n",
    "data_labeled.shape"
   ]
  },
  {
   "cell_type": "code",
   "execution_count": 6,
   "metadata": {},
   "outputs": [
    {
     "output_type": "execute_result",
     "data": {
      "text/plain": [
       "                                                answer  \\\n",
       "0    Trong những tình huống rất hiếm, nếu có một kh...   \n",
       "1    Triệu chứng lâm sàng của u gan thường nghèo nà...   \n",
       "139  Uống rượu vang trắng hàng ngày có thể tăng thê...   \n",
       "140  Xét nghiệm CA 125 chính là chỉ số kháng nguyên...   \n",
       "141  1. Ù tai, nghe rất khó, thậm chí bị điếc. \\n2....   \n",
       "\n",
       "                                              question  is_labeled  \\\n",
       "0    Trong tình huống nào thì người bệnh u máu gan ...           1   \n",
       "1    Triệu chứng lâm sàng của bệnh u máu gan là gì ...           1   \n",
       "139  Rượu vang trắng có liên quan tới ung thư da ác...           1   \n",
       "140                    Chỉ số xét nghiệm ca 125 là gì?           1   \n",
       "141    Dấu hiệu ung thư vòm họng giai đoạn cuối là gì?           1   \n",
       "\n",
       "                                   question_similaries  \n",
       "0    ['Người bệnh u máu gan được cấy ghép gan khi n...  \n",
       "1    ['Các triệu chứng của bệnh u máu gan?', 'Dấu h...  \n",
       "139  ['Rượu vang trắng có liên quan tới ung thư da ...  \n",
       "140  ['Chỉ số xét nghiệm CA 125 có ý nghĩa gì?', 'C...  \n",
       "141  ['Ung thư vòm họng giai đoạn cuối biểu hiện nh...  "
      ],
      "text/html": "<div>\n<style scoped>\n    .dataframe tbody tr th:only-of-type {\n        vertical-align: middle;\n    }\n\n    .dataframe tbody tr th {\n        vertical-align: top;\n    }\n\n    .dataframe thead th {\n        text-align: right;\n    }\n</style>\n<table border=\"1\" class=\"dataframe\">\n  <thead>\n    <tr style=\"text-align: right;\">\n      <th></th>\n      <th>answer</th>\n      <th>question</th>\n      <th>is_labeled</th>\n      <th>question_similaries</th>\n    </tr>\n  </thead>\n  <tbody>\n    <tr>\n      <th>0</th>\n      <td>Trong những tình huống rất hiếm, nếu có một kh...</td>\n      <td>Trong tình huống nào thì người bệnh u máu gan ...</td>\n      <td>1</td>\n      <td>['Người bệnh u máu gan được cấy ghép gan khi n...</td>\n    </tr>\n    <tr>\n      <th>1</th>\n      <td>Triệu chứng lâm sàng của u gan thường nghèo nà...</td>\n      <td>Triệu chứng lâm sàng của bệnh u máu gan là gì ...</td>\n      <td>1</td>\n      <td>['Các triệu chứng của bệnh u máu gan?', 'Dấu h...</td>\n    </tr>\n    <tr>\n      <th>139</th>\n      <td>Uống rượu vang trắng hàng ngày có thể tăng thê...</td>\n      <td>Rượu vang trắng có liên quan tới ung thư da ác...</td>\n      <td>1</td>\n      <td>['Rượu vang trắng có liên quan tới ung thư da ...</td>\n    </tr>\n    <tr>\n      <th>140</th>\n      <td>Xét nghiệm CA 125 chính là chỉ số kháng nguyên...</td>\n      <td>Chỉ số xét nghiệm ca 125 là gì?</td>\n      <td>1</td>\n      <td>['Chỉ số xét nghiệm CA 125 có ý nghĩa gì?', 'C...</td>\n    </tr>\n    <tr>\n      <th>141</th>\n      <td>1. Ù tai, nghe rất khó, thậm chí bị điếc. \\n2....</td>\n      <td>Dấu hiệu ung thư vòm họng giai đoạn cuối là gì?</td>\n      <td>1</td>\n      <td>['Ung thư vòm họng giai đoạn cuối biểu hiện nh...</td>\n    </tr>\n  </tbody>\n</table>\n</div>"
     },
     "metadata": {},
     "execution_count": 6
    }
   ],
   "source": [
    "data_labeled.head()"
   ]
  },
  {
   "cell_type": "code",
   "execution_count": 7,
   "metadata": {},
   "outputs": [
    {
     "output_type": "stream",
     "name": "stderr",
     "text": [
      "/home/thang/env/lib/python3.6/site-packages/ipykernel_launcher.py:1: SettingWithCopyWarning: \nA value is trying to be set on a copy of a slice from a DataFrame.\nTry using .loc[row_indexer,col_indexer] = value instead\n\nSee the caveats in the documentation: https://pandas.pydata.org/pandas-docs/stable/user_guide/indexing.html#returning-a-view-versus-a-copy\n  \"\"\"Entry point for launching an IPython kernel.\n"
     ]
    }
   ],
   "source": [
    "data_labeled['question_similaries'] = data_labeled['question_similaries'].apply(eval)"
   ]
  },
  {
   "cell_type": "code",
   "execution_count": 14,
   "metadata": {},
   "outputs": [
    {
     "output_type": "stream",
     "name": "stderr",
     "text": [
      "100%|██████████| 22/22 [00:00<00:00, 1281.20it/s]\n"
     ]
    }
   ],
   "source": [
    "import tqdm\n",
    "\n",
    "with open('./data/positive/p.csv', 'w') as f:\n",
    "    f.write('question1,question2,label\\n')\n",
    "    for i in tqdm.tqdm(range(len(data_labeled))):\n",
    "        for q in data_labeled.iloc[i]['question_similaries']:\n",
    "            f.write(\"{},{},{}\\n\".format(data_labeled.iloc[i]['question'], q, 1))"
   ]
  },
  {
   "cell_type": "code",
   "execution_count": 17,
   "metadata": {},
   "outputs": [
    {
     "output_type": "execute_result",
     "data": {
      "text/plain": [
       "                                            question1  \\\n",
       "0   Trong tình huống nào thì người bệnh u máu gan ...   \n",
       "1   Trong tình huống nào thì người bệnh u máu gan ...   \n",
       "2   Triệu chứng lâm sàng của bệnh u máu gan là gì ...   \n",
       "3   Triệu chứng lâm sàng của bệnh u máu gan là gì ...   \n",
       "4   Rượu vang trắng có liên quan tới ung thư da ác...   \n",
       "..                                                ...   \n",
       "61      Tìm hiểu về 6 dưỡng chất cần thiết cho phụ nữ   \n",
       "62      Tìm hiểu về 6 dưỡng chất cần thiết cho phụ nữ   \n",
       "63      Tìm hiểu về 6 dưỡng chất cần thiết cho phụ nữ   \n",
       "64      Tìm hiểu về 6 dưỡng chất cần thiết cho phụ nữ   \n",
       "65      Tìm hiểu về 6 dưỡng chất cần thiết cho phụ nữ   \n",
       "\n",
       "                                            question2  label  \n",
       "0     Người bệnh u máu gan được cấy ghép gan khi nào?      1  \n",
       "1    Khi nào người bệnh u máu gan sẽ được phẫu thuật?      1  \n",
       "2                 Các triệu chứng của bệnh u máu gan?      1  \n",
       "3                             Dấu hiệu của u máu gan?      1  \n",
       "4   Rượu vang trắng có liên quan tới ung thư da ác...      1  \n",
       "..                                                ...    ...  \n",
       "61               Sáu dưỡng chất thiết yếu cho phụ nữ?      1  \n",
       "62           Phụ nữ cần cung cấp đủ 6 dưỡng chất này?      1  \n",
       "63         Phụ nữ cần bổ sung gì trước khi mang thai?      1  \n",
       "64             Phụ nữ cần bổ sung các dưỡng chất nào?      1  \n",
       "65                 Các loạt thực phẩm tốt cho phụ nữ?      1  \n",
       "\n",
       "[66 rows x 3 columns]"
      ],
      "text/html": "<div>\n<style scoped>\n    .dataframe tbody tr th:only-of-type {\n        vertical-align: middle;\n    }\n\n    .dataframe tbody tr th {\n        vertical-align: top;\n    }\n\n    .dataframe thead th {\n        text-align: right;\n    }\n</style>\n<table border=\"1\" class=\"dataframe\">\n  <thead>\n    <tr style=\"text-align: right;\">\n      <th></th>\n      <th>question1</th>\n      <th>question2</th>\n      <th>label</th>\n    </tr>\n  </thead>\n  <tbody>\n    <tr>\n      <th>0</th>\n      <td>Trong tình huống nào thì người bệnh u máu gan ...</td>\n      <td>Người bệnh u máu gan được cấy ghép gan khi nào?</td>\n      <td>1</td>\n    </tr>\n    <tr>\n      <th>1</th>\n      <td>Trong tình huống nào thì người bệnh u máu gan ...</td>\n      <td>Khi nào người bệnh u máu gan sẽ được phẫu thuật?</td>\n      <td>1</td>\n    </tr>\n    <tr>\n      <th>2</th>\n      <td>Triệu chứng lâm sàng của bệnh u máu gan là gì ...</td>\n      <td>Các triệu chứng của bệnh u máu gan?</td>\n      <td>1</td>\n    </tr>\n    <tr>\n      <th>3</th>\n      <td>Triệu chứng lâm sàng của bệnh u máu gan là gì ...</td>\n      <td>Dấu hiệu của u máu gan?</td>\n      <td>1</td>\n    </tr>\n    <tr>\n      <th>4</th>\n      <td>Rượu vang trắng có liên quan tới ung thư da ác...</td>\n      <td>Rượu vang trắng có liên quan tới ung thư da ác...</td>\n      <td>1</td>\n    </tr>\n    <tr>\n      <th>...</th>\n      <td>...</td>\n      <td>...</td>\n      <td>...</td>\n    </tr>\n    <tr>\n      <th>61</th>\n      <td>Tìm hiểu về 6 dưỡng chất cần thiết cho phụ nữ</td>\n      <td>Sáu dưỡng chất thiết yếu cho phụ nữ?</td>\n      <td>1</td>\n    </tr>\n    <tr>\n      <th>62</th>\n      <td>Tìm hiểu về 6 dưỡng chất cần thiết cho phụ nữ</td>\n      <td>Phụ nữ cần cung cấp đủ 6 dưỡng chất này?</td>\n      <td>1</td>\n    </tr>\n    <tr>\n      <th>63</th>\n      <td>Tìm hiểu về 6 dưỡng chất cần thiết cho phụ nữ</td>\n      <td>Phụ nữ cần bổ sung gì trước khi mang thai?</td>\n      <td>1</td>\n    </tr>\n    <tr>\n      <th>64</th>\n      <td>Tìm hiểu về 6 dưỡng chất cần thiết cho phụ nữ</td>\n      <td>Phụ nữ cần bổ sung các dưỡng chất nào?</td>\n      <td>1</td>\n    </tr>\n    <tr>\n      <th>65</th>\n      <td>Tìm hiểu về 6 dưỡng chất cần thiết cho phụ nữ</td>\n      <td>Các loạt thực phẩm tốt cho phụ nữ?</td>\n      <td>1</td>\n    </tr>\n  </tbody>\n</table>\n<p>66 rows × 3 columns</p>\n</div>"
     },
     "metadata": {},
     "execution_count": 17
    }
   ],
   "source": [
    "positive = pd.read_csv('./data/positive/p.csv')\n",
    "positive"
   ]
  },
  {
   "source": [
    "# Tạo negative"
   ],
   "cell_type": "markdown",
   "metadata": {}
  },
  {
   "cell_type": "code",
   "execution_count": 1,
   "metadata": {},
   "outputs": [
    {
     "output_type": "stream",
     "name": "stderr",
     "text": [
      "/home/thang/env/lib/python3.6/site-packages/ipykernel_launcher.py:4: SettingWithCopyWarning: \nA value is trying to be set on a copy of a slice from a DataFrame.\nTry using .loc[row_indexer,col_indexer] = value instead\n\nSee the caveats in the documentation: https://pandas.pydata.org/pandas-docs/stable/user_guide/indexing.html#returning-a-view-versus-a-copy\n  after removing the cwd from sys.path.\n"
     ]
    },
    {
     "output_type": "execute_result",
     "data": {
      "text/plain": [
       "                                                answer  \\\n",
       "0    Trong những tình huống rất hiếm, nếu có một kh...   \n",
       "1    Triệu chứng lâm sàng của u gan thường nghèo nà...   \n",
       "139  Uống rượu vang trắng hàng ngày có thể tăng thê...   \n",
       "140  Xét nghiệm CA 125 chính là chỉ số kháng nguyên...   \n",
       "141  1. Ù tai, nghe rất khó, thậm chí bị điếc. \\n2....   \n",
       "142  Các di chứng thường thấy nhất từ việc ngạt sơ ...   \n",
       "143  Khi mắc phải căn bệnh này thì cũng có thể mang...   \n",
       "144  Thời gian thích hợp để tắm cho trẻ sơ sinh là ...   \n",
       "145  Việc xét nghiệm HIV để tìm xem cơ thể có chứa ...   \n",
       "146  Những dấu hiệu chứng tỏ bạn bị tinh trùng yếu:...   \n",
       "147  Nếu như con bạn có những biểu hiện như thở khò...   \n",
       "148  Gan nhiễm mỡ nhẹ thường không có triệu chứng r...   \n",
       "149  Để cơ thể tăng trưởng một cách cân đối nhất th...   \n",
       "150  Các loại phô mai ngon, mềm như: Brie, camember...   \n",
       "151  Công thức detox từ dưa chuột và trái cây họ ca...   \n",
       "152  Thận yếu là nguyên nhân dẫn tới hiện tượng lãn...   \n",
       "153  Vitamin E giúp duy trì chức năng cơ quan sinh ...   \n",
       "154  Trong Đông y có những bài thuốc trị chứng tiểu...   \n",
       "155  Hiện tượng nhói tim có thể là dấu hiệu cảnh bá...   \n",
       "156  Nguyên nhân gây khô da ở trẻ sơ sinh Da là cơ ...   \n",
       "157  Với những chị em chưa mang thai, bệnh sùi mào ...   \n",
       "158  1.  Vitamin B12 được chứng minh rằng chúng khô...   \n",
       "\n",
       "                                              question  is_labeled  \\\n",
       "0    Trong tình huống nào thì người bệnh u máu gan ...           1   \n",
       "1    Triệu chứng lâm sàng của bệnh u máu gan là gì ...           1   \n",
       "139  Rượu vang trắng có liên quan tới ung thư da ác...           1   \n",
       "140                    Chỉ số xét nghiệm ca 125 là gì?           1   \n",
       "141    Dấu hiệu ung thư vòm họng giai đoạn cuối là gì?           1   \n",
       "142  Ung thư vòm họng giai đoạn cuối biểu hiện như ...           1   \n",
       "143       Bị bệnh viêm âm đạo có mang thai được không?           1   \n",
       "144              Những điểm cần lưu ý khi tắm cho trẻ?           1   \n",
       "145         Xét nghiệm HIV sau mấy tháng là chính xác?           1   \n",
       "146  Những dấu hiệu nào chứng tỏ bạn bị tinh trùng ...           1   \n",
       "147                        Làm sao để biết trẻ bị hen?           1   \n",
       "148  Tại sao bị bệnh gan nhiễm mỡ dù nhẹ cũng rất n...           1   \n",
       "149  Chế độ ăn uống cho tuổi dậy thì phát triển cân...           1   \n",
       "150                     Một số món ăn mẹ bầu cần tránh           1   \n",
       "151    5 công thức detox cứu tinh cho cân nặng của bạn           1   \n",
       "152  Yếu thận ở phụ nữ ảnh hưởng tới chất lượng sin...           1   \n",
       "153  Vitamin E có tác dụng gì cho phụ nữ sau khi sinh?           1   \n",
       "154  Thuốc trị tiểu đêm ở người già có những loại nào?           1   \n",
       "155                 Nhói tim là biểu hiện của bệnh gì?           1   \n",
       "156  Khô da ở trẻ sơ sinh và những điều mẹ bỉm sữa ...           1   \n",
       "157     Bị bệnh sùi mào gà có thể sinh con được không?           1   \n",
       "158      Tìm hiểu về 6 dưỡng chất cần thiết cho phụ nữ           1   \n",
       "\n",
       "                                   question_similaries  \n",
       "0    [Người bệnh u máu gan được cấy ghép gan khi nà...  \n",
       "1    [Các triệu chứng của bệnh u máu gan?, Dấu hiệu...  \n",
       "139  [Rượu vang trắng có liên quan tới ung thư da á...  \n",
       "140  [Chỉ số xét nghiệm CA 125 có ý nghĩa gì?, Chỉ ...  \n",
       "141  [Ung thư vòm họng giai đoạn cuối biểu hiện như...  \n",
       "142  [Sặc nước ối để lại di chứng gì ở trẻ?, Sặc nư...  \n",
       "143  [Bị viêm âm đạo mang thai gây ảnh hưởng gì?, V...  \n",
       "144  [Tắm bé như thế nào cho đúng?, Cách tắm bé tại...  \n",
       "145  [Thời gian xét nghiệm HIV chính xác nhất là kh...  \n",
       "146  [Dấu hiệu tinh trùng yếu là gì?, Tinh trùng kh...  \n",
       "147  [Những dấu hiệu hen ở trẻ nhỏ?, Cách nhận biết...  \n",
       "148  [Gan nhiễm mỡ nguy hiểm như thế nào?, Tại sao ...  \n",
       "149  [Tuổi dậy thì nên ăn uống như thế nào?, Chế độ...  \n",
       "150  [Mẹ bầu cần tránh ăn những loại đồ ăn nào?, Nh...  \n",
       "151  [Làm nước detox như thế nào?, Cách làm nước de...  \n",
       "152  [Thận yếu gây vô sinh ở nữ không?, Thận yếu ở ...  \n",
       "153  [Vitamin E có tác dụng gì cho phụ nữ sau khi s...  \n",
       "154  [Trị tiểu đêm ở người già có những loại thuốc ...  \n",
       "155  [Nhói tim cảnh báo những bệnh gì?, Bị nhói tim...  \n",
       "156  [Khô da ở trẻ sơ sinh do những nguyên nhân nào...  \n",
       "157  [Bệnh sùi mào gà có gây vô sinh không?, Bệnh s...  \n",
       "158  [Sáu dưỡng chất thiết yếu cho phụ nữ?, Phụ nữ ...  "
      ],
      "text/html": "<div>\n<style scoped>\n    .dataframe tbody tr th:only-of-type {\n        vertical-align: middle;\n    }\n\n    .dataframe tbody tr th {\n        vertical-align: top;\n    }\n\n    .dataframe thead th {\n        text-align: right;\n    }\n</style>\n<table border=\"1\" class=\"dataframe\">\n  <thead>\n    <tr style=\"text-align: right;\">\n      <th></th>\n      <th>answer</th>\n      <th>question</th>\n      <th>is_labeled</th>\n      <th>question_similaries</th>\n    </tr>\n  </thead>\n  <tbody>\n    <tr>\n      <th>0</th>\n      <td>Trong những tình huống rất hiếm, nếu có một kh...</td>\n      <td>Trong tình huống nào thì người bệnh u máu gan ...</td>\n      <td>1</td>\n      <td>[Người bệnh u máu gan được cấy ghép gan khi nà...</td>\n    </tr>\n    <tr>\n      <th>1</th>\n      <td>Triệu chứng lâm sàng của u gan thường nghèo nà...</td>\n      <td>Triệu chứng lâm sàng của bệnh u máu gan là gì ...</td>\n      <td>1</td>\n      <td>[Các triệu chứng của bệnh u máu gan?, Dấu hiệu...</td>\n    </tr>\n    <tr>\n      <th>139</th>\n      <td>Uống rượu vang trắng hàng ngày có thể tăng thê...</td>\n      <td>Rượu vang trắng có liên quan tới ung thư da ác...</td>\n      <td>1</td>\n      <td>[Rượu vang trắng có liên quan tới ung thư da á...</td>\n    </tr>\n    <tr>\n      <th>140</th>\n      <td>Xét nghiệm CA 125 chính là chỉ số kháng nguyên...</td>\n      <td>Chỉ số xét nghiệm ca 125 là gì?</td>\n      <td>1</td>\n      <td>[Chỉ số xét nghiệm CA 125 có ý nghĩa gì?, Chỉ ...</td>\n    </tr>\n    <tr>\n      <th>141</th>\n      <td>1. Ù tai, nghe rất khó, thậm chí bị điếc. \\n2....</td>\n      <td>Dấu hiệu ung thư vòm họng giai đoạn cuối là gì?</td>\n      <td>1</td>\n      <td>[Ung thư vòm họng giai đoạn cuối biểu hiện như...</td>\n    </tr>\n    <tr>\n      <th>142</th>\n      <td>Các di chứng thường thấy nhất từ việc ngạt sơ ...</td>\n      <td>Ung thư vòm họng giai đoạn cuối biểu hiện như ...</td>\n      <td>1</td>\n      <td>[Sặc nước ối để lại di chứng gì ở trẻ?, Sặc nư...</td>\n    </tr>\n    <tr>\n      <th>143</th>\n      <td>Khi mắc phải căn bệnh này thì cũng có thể mang...</td>\n      <td>Bị bệnh viêm âm đạo có mang thai được không?</td>\n      <td>1</td>\n      <td>[Bị viêm âm đạo mang thai gây ảnh hưởng gì?, V...</td>\n    </tr>\n    <tr>\n      <th>144</th>\n      <td>Thời gian thích hợp để tắm cho trẻ sơ sinh là ...</td>\n      <td>Những điểm cần lưu ý khi tắm cho trẻ?</td>\n      <td>1</td>\n      <td>[Tắm bé như thế nào cho đúng?, Cách tắm bé tại...</td>\n    </tr>\n    <tr>\n      <th>145</th>\n      <td>Việc xét nghiệm HIV để tìm xem cơ thể có chứa ...</td>\n      <td>Xét nghiệm HIV sau mấy tháng là chính xác?</td>\n      <td>1</td>\n      <td>[Thời gian xét nghiệm HIV chính xác nhất là kh...</td>\n    </tr>\n    <tr>\n      <th>146</th>\n      <td>Những dấu hiệu chứng tỏ bạn bị tinh trùng yếu:...</td>\n      <td>Những dấu hiệu nào chứng tỏ bạn bị tinh trùng ...</td>\n      <td>1</td>\n      <td>[Dấu hiệu tinh trùng yếu là gì?, Tinh trùng kh...</td>\n    </tr>\n    <tr>\n      <th>147</th>\n      <td>Nếu như con bạn có những biểu hiện như thở khò...</td>\n      <td>Làm sao để biết trẻ bị hen?</td>\n      <td>1</td>\n      <td>[Những dấu hiệu hen ở trẻ nhỏ?, Cách nhận biết...</td>\n    </tr>\n    <tr>\n      <th>148</th>\n      <td>Gan nhiễm mỡ nhẹ thường không có triệu chứng r...</td>\n      <td>Tại sao bị bệnh gan nhiễm mỡ dù nhẹ cũng rất n...</td>\n      <td>1</td>\n      <td>[Gan nhiễm mỡ nguy hiểm như thế nào?, Tại sao ...</td>\n    </tr>\n    <tr>\n      <th>149</th>\n      <td>Để cơ thể tăng trưởng một cách cân đối nhất th...</td>\n      <td>Chế độ ăn uống cho tuổi dậy thì phát triển cân...</td>\n      <td>1</td>\n      <td>[Tuổi dậy thì nên ăn uống như thế nào?, Chế độ...</td>\n    </tr>\n    <tr>\n      <th>150</th>\n      <td>Các loại phô mai ngon, mềm như: Brie, camember...</td>\n      <td>Một số món ăn mẹ bầu cần tránh</td>\n      <td>1</td>\n      <td>[Mẹ bầu cần tránh ăn những loại đồ ăn nào?, Nh...</td>\n    </tr>\n    <tr>\n      <th>151</th>\n      <td>Công thức detox từ dưa chuột và trái cây họ ca...</td>\n      <td>5 công thức detox cứu tinh cho cân nặng của bạn</td>\n      <td>1</td>\n      <td>[Làm nước detox như thế nào?, Cách làm nước de...</td>\n    </tr>\n    <tr>\n      <th>152</th>\n      <td>Thận yếu là nguyên nhân dẫn tới hiện tượng lãn...</td>\n      <td>Yếu thận ở phụ nữ ảnh hưởng tới chất lượng sin...</td>\n      <td>1</td>\n      <td>[Thận yếu gây vô sinh ở nữ không?, Thận yếu ở ...</td>\n    </tr>\n    <tr>\n      <th>153</th>\n      <td>Vitamin E giúp duy trì chức năng cơ quan sinh ...</td>\n      <td>Vitamin E có tác dụng gì cho phụ nữ sau khi sinh?</td>\n      <td>1</td>\n      <td>[Vitamin E có tác dụng gì cho phụ nữ sau khi s...</td>\n    </tr>\n    <tr>\n      <th>154</th>\n      <td>Trong Đông y có những bài thuốc trị chứng tiểu...</td>\n      <td>Thuốc trị tiểu đêm ở người già có những loại nào?</td>\n      <td>1</td>\n      <td>[Trị tiểu đêm ở người già có những loại thuốc ...</td>\n    </tr>\n    <tr>\n      <th>155</th>\n      <td>Hiện tượng nhói tim có thể là dấu hiệu cảnh bá...</td>\n      <td>Nhói tim là biểu hiện của bệnh gì?</td>\n      <td>1</td>\n      <td>[Nhói tim cảnh báo những bệnh gì?, Bị nhói tim...</td>\n    </tr>\n    <tr>\n      <th>156</th>\n      <td>Nguyên nhân gây khô da ở trẻ sơ sinh Da là cơ ...</td>\n      <td>Khô da ở trẻ sơ sinh và những điều mẹ bỉm sữa ...</td>\n      <td>1</td>\n      <td>[Khô da ở trẻ sơ sinh do những nguyên nhân nào...</td>\n    </tr>\n    <tr>\n      <th>157</th>\n      <td>Với những chị em chưa mang thai, bệnh sùi mào ...</td>\n      <td>Bị bệnh sùi mào gà có thể sinh con được không?</td>\n      <td>1</td>\n      <td>[Bệnh sùi mào gà có gây vô sinh không?, Bệnh s...</td>\n    </tr>\n    <tr>\n      <th>158</th>\n      <td>1.  Vitamin B12 được chứng minh rằng chúng khô...</td>\n      <td>Tìm hiểu về 6 dưỡng chất cần thiết cho phụ nữ</td>\n      <td>1</td>\n      <td>[Sáu dưỡng chất thiết yếu cho phụ nữ?, Phụ nữ ...</td>\n    </tr>\n  </tbody>\n</table>\n</div>"
     },
     "metadata": {},
     "execution_count": 1
    }
   ],
   "source": [
    "import pandas as pd\n",
    "data = pd.read_csv('./tool-labels/data/data.csv')\n",
    "data_labeled = data[data['is_labeled']==1]\n",
    "data_labeled['question_similaries'] = data_labeled['question_similaries'].apply(eval)\n",
    "data_labeled"
   ]
  },
  {
   "cell_type": "code",
   "execution_count": 7,
   "metadata": {
    "tags": []
   },
   "outputs": [],
   "source": [
    "import random\n",
    "number_of_negative = 66\n",
    "_n = len(data_labeled) - 1\n",
    "_i = 0\n",
    "\n",
    "f = open('./data/negative/n.csv','a')\n",
    "\n",
    "while _i < number_of_negative:\n",
    "    _idx1 = random.randint(0, _n)\n",
    "    _idx2 = random.randint(0, _n)\n",
    "    if _idx1 != _idx2:\n",
    "        _c1 = random.randint(0, len(data_labeled.iloc[_idx1]['question_similaries']) - 1)\n",
    "        _c2 = random.randint(0, len(data_labeled.iloc[_idx2]['question_similaries']) - 1)\n",
    "        \n",
    "        f.write(\"{},{},0\\n\".format(data_labeled.iloc[_idx1]['question_similaries'][_c1], data_labeled.iloc[_idx2]['question_similaries'][_c2]))\n",
    "        _i += 1"
   ]
  },
  {
   "cell_type": "code",
   "execution_count": 8,
   "metadata": {},
   "outputs": [
    {
     "output_type": "execute_result",
     "data": {
      "text/plain": [
       "                                            question1  \\\n",
       "0   Ung thư vòm họng giai đoạn cuối biểu hiện như ...   \n",
       "1                        Tắm bé như thế nào cho đúng?   \n",
       "2           Mẹ bầu cần tránh ăn những loại đồ ăn nào?   \n",
       "3                Sáu dưỡng chất thiết yếu cho phụ nữ?   \n",
       "4            Phụ nữ cần cung cấp đủ 6 dưỡng chất này?   \n",
       "..                                                ...   \n",
       "62  Bổ sung vitamin E sau sinh như thế nào là hiệu...   \n",
       "63   Khi nào người bệnh u máu gan sẽ được phẫu thuật?   \n",
       "64  Ung thư vòm họng giai đoạn cuối biểu hiện như ...   \n",
       "65          Những loại đồ ăn nào bà bầu không nên ăn?   \n",
       "66                    Cách tắm bé tại nhà chuẩn nhất?   \n",
       "\n",
       "                                         question2  label  \n",
       "0                    Những dấu hiệu hen ở trẻ nhỏ?      0  \n",
       "1                    Những dấu hiệu hen ở trẻ nhỏ?      0  \n",
       "2                        Cách nhận biết hen ở trẻ?      0  \n",
       "3                      Nên xét nghiệm HIV khi nào?      0  \n",
       "4   Khô da ở trẻ sơ sinh do những nguyên nhân nào?      0  \n",
       "..                                             ...    ...  \n",
       "62                         Dấu hiệu của u máu gan?      0  \n",
       "63       Mẹ bầu cần tránh ăn những loại đồ ăn nào?      0  \n",
       "64        Thận yếu ở phụ nữ biểu hiện như thế nào?      0  \n",
       "65       Lời khuyên từ chuyên gia khi tắm cho trẻ?      0  \n",
       "66                         Dấu hiệu của u máu gan?      0  \n",
       "\n",
       "[67 rows x 3 columns]"
      ],
      "text/html": "<div>\n<style scoped>\n    .dataframe tbody tr th:only-of-type {\n        vertical-align: middle;\n    }\n\n    .dataframe tbody tr th {\n        vertical-align: top;\n    }\n\n    .dataframe thead th {\n        text-align: right;\n    }\n</style>\n<table border=\"1\" class=\"dataframe\">\n  <thead>\n    <tr style=\"text-align: right;\">\n      <th></th>\n      <th>question1</th>\n      <th>question2</th>\n      <th>label</th>\n    </tr>\n  </thead>\n  <tbody>\n    <tr>\n      <th>0</th>\n      <td>Ung thư vòm họng giai đoạn cuối biểu hiện như ...</td>\n      <td>Những dấu hiệu hen ở trẻ nhỏ?</td>\n      <td>0</td>\n    </tr>\n    <tr>\n      <th>1</th>\n      <td>Tắm bé như thế nào cho đúng?</td>\n      <td>Những dấu hiệu hen ở trẻ nhỏ?</td>\n      <td>0</td>\n    </tr>\n    <tr>\n      <th>2</th>\n      <td>Mẹ bầu cần tránh ăn những loại đồ ăn nào?</td>\n      <td>Cách nhận biết hen ở trẻ?</td>\n      <td>0</td>\n    </tr>\n    <tr>\n      <th>3</th>\n      <td>Sáu dưỡng chất thiết yếu cho phụ nữ?</td>\n      <td>Nên xét nghiệm HIV khi nào?</td>\n      <td>0</td>\n    </tr>\n    <tr>\n      <th>4</th>\n      <td>Phụ nữ cần cung cấp đủ 6 dưỡng chất này?</td>\n      <td>Khô da ở trẻ sơ sinh do những nguyên nhân nào?</td>\n      <td>0</td>\n    </tr>\n    <tr>\n      <th>...</th>\n      <td>...</td>\n      <td>...</td>\n      <td>...</td>\n    </tr>\n    <tr>\n      <th>62</th>\n      <td>Bổ sung vitamin E sau sinh như thế nào là hiệu...</td>\n      <td>Dấu hiệu của u máu gan?</td>\n      <td>0</td>\n    </tr>\n    <tr>\n      <th>63</th>\n      <td>Khi nào người bệnh u máu gan sẽ được phẫu thuật?</td>\n      <td>Mẹ bầu cần tránh ăn những loại đồ ăn nào?</td>\n      <td>0</td>\n    </tr>\n    <tr>\n      <th>64</th>\n      <td>Ung thư vòm họng giai đoạn cuối biểu hiện như ...</td>\n      <td>Thận yếu ở phụ nữ biểu hiện như thế nào?</td>\n      <td>0</td>\n    </tr>\n    <tr>\n      <th>65</th>\n      <td>Những loại đồ ăn nào bà bầu không nên ăn?</td>\n      <td>Lời khuyên từ chuyên gia khi tắm cho trẻ?</td>\n      <td>0</td>\n    </tr>\n    <tr>\n      <th>66</th>\n      <td>Cách tắm bé tại nhà chuẩn nhất?</td>\n      <td>Dấu hiệu của u máu gan?</td>\n      <td>0</td>\n    </tr>\n  </tbody>\n</table>\n<p>67 rows × 3 columns</p>\n</div>"
     },
     "metadata": {},
     "execution_count": 8
    }
   ],
   "source": [
    "data_negative = pd.read_csv('./data/negative/n.csv')\n",
    "data_negative"
   ]
  },
  {
   "source": [
    "# Nối dữ liệu postive và negative"
   ],
   "cell_type": "markdown",
   "metadata": {}
  },
  {
   "cell_type": "code",
   "execution_count": 10,
   "metadata": {},
   "outputs": [],
   "source": [
    "data_positive = pd.read_csv('./data/positive/p.csv')\n",
    "data_negative = pd.read_csv('./data/negative/n.csv')"
   ]
  },
  {
   "cell_type": "code",
   "execution_count": 18,
   "metadata": {},
   "outputs": [
    {
     "output_type": "stream",
     "name": "stdout",
     "text": [
      "(66, 3)\n(67, 3)\n"
     ]
    }
   ],
   "source": [
    "print(data_positive.shape)\n",
    "print(data_negative.shape)"
   ]
  },
  {
   "cell_type": "code",
   "execution_count": 22,
   "metadata": {},
   "outputs": [],
   "source": [
    "train_data = data_positive.append(data_negative,ignore_index=True)"
   ]
  },
  {
   "cell_type": "code",
   "execution_count": 23,
   "metadata": {},
   "outputs": [
    {
     "output_type": "execute_result",
     "data": {
      "text/plain": [
       "                                             question1  \\\n",
       "0    Trong tình huống nào thì người bệnh u máu gan ...   \n",
       "1    Trong tình huống nào thì người bệnh u máu gan ...   \n",
       "2    Triệu chứng lâm sàng của bệnh u máu gan là gì ...   \n",
       "3    Triệu chứng lâm sàng của bệnh u máu gan là gì ...   \n",
       "4    Rượu vang trắng có liên quan tới ung thư da ác...   \n",
       "..                                                 ...   \n",
       "128  Bổ sung vitamin E sau sinh như thế nào là hiệu...   \n",
       "129   Khi nào người bệnh u máu gan sẽ được phẫu thuật?   \n",
       "130  Ung thư vòm họng giai đoạn cuối biểu hiện như ...   \n",
       "131          Những loại đồ ăn nào bà bầu không nên ăn?   \n",
       "132                    Cách tắm bé tại nhà chuẩn nhất?   \n",
       "\n",
       "                                             question2  label  \n",
       "0      Người bệnh u máu gan được cấy ghép gan khi nào?      1  \n",
       "1     Khi nào người bệnh u máu gan sẽ được phẫu thuật?      1  \n",
       "2                  Các triệu chứng của bệnh u máu gan?      1  \n",
       "3                              Dấu hiệu của u máu gan?      1  \n",
       "4    Rượu vang trắng có liên quan tới ung thư da ác...      1  \n",
       "..                                                 ...    ...  \n",
       "128                            Dấu hiệu của u máu gan?      0  \n",
       "129          Mẹ bầu cần tránh ăn những loại đồ ăn nào?      0  \n",
       "130           Thận yếu ở phụ nữ biểu hiện như thế nào?      0  \n",
       "131          Lời khuyên từ chuyên gia khi tắm cho trẻ?      0  \n",
       "132                            Dấu hiệu của u máu gan?      0  \n",
       "\n",
       "[133 rows x 3 columns]"
      ],
      "text/html": "<div>\n<style scoped>\n    .dataframe tbody tr th:only-of-type {\n        vertical-align: middle;\n    }\n\n    .dataframe tbody tr th {\n        vertical-align: top;\n    }\n\n    .dataframe thead th {\n        text-align: right;\n    }\n</style>\n<table border=\"1\" class=\"dataframe\">\n  <thead>\n    <tr style=\"text-align: right;\">\n      <th></th>\n      <th>question1</th>\n      <th>question2</th>\n      <th>label</th>\n    </tr>\n  </thead>\n  <tbody>\n    <tr>\n      <th>0</th>\n      <td>Trong tình huống nào thì người bệnh u máu gan ...</td>\n      <td>Người bệnh u máu gan được cấy ghép gan khi nào?</td>\n      <td>1</td>\n    </tr>\n    <tr>\n      <th>1</th>\n      <td>Trong tình huống nào thì người bệnh u máu gan ...</td>\n      <td>Khi nào người bệnh u máu gan sẽ được phẫu thuật?</td>\n      <td>1</td>\n    </tr>\n    <tr>\n      <th>2</th>\n      <td>Triệu chứng lâm sàng của bệnh u máu gan là gì ...</td>\n      <td>Các triệu chứng của bệnh u máu gan?</td>\n      <td>1</td>\n    </tr>\n    <tr>\n      <th>3</th>\n      <td>Triệu chứng lâm sàng của bệnh u máu gan là gì ...</td>\n      <td>Dấu hiệu của u máu gan?</td>\n      <td>1</td>\n    </tr>\n    <tr>\n      <th>4</th>\n      <td>Rượu vang trắng có liên quan tới ung thư da ác...</td>\n      <td>Rượu vang trắng có liên quan tới ung thư da ác...</td>\n      <td>1</td>\n    </tr>\n    <tr>\n      <th>...</th>\n      <td>...</td>\n      <td>...</td>\n      <td>...</td>\n    </tr>\n    <tr>\n      <th>128</th>\n      <td>Bổ sung vitamin E sau sinh như thế nào là hiệu...</td>\n      <td>Dấu hiệu của u máu gan?</td>\n      <td>0</td>\n    </tr>\n    <tr>\n      <th>129</th>\n      <td>Khi nào người bệnh u máu gan sẽ được phẫu thuật?</td>\n      <td>Mẹ bầu cần tránh ăn những loại đồ ăn nào?</td>\n      <td>0</td>\n    </tr>\n    <tr>\n      <th>130</th>\n      <td>Ung thư vòm họng giai đoạn cuối biểu hiện như ...</td>\n      <td>Thận yếu ở phụ nữ biểu hiện như thế nào?</td>\n      <td>0</td>\n    </tr>\n    <tr>\n      <th>131</th>\n      <td>Những loại đồ ăn nào bà bầu không nên ăn?</td>\n      <td>Lời khuyên từ chuyên gia khi tắm cho trẻ?</td>\n      <td>0</td>\n    </tr>\n    <tr>\n      <th>132</th>\n      <td>Cách tắm bé tại nhà chuẩn nhất?</td>\n      <td>Dấu hiệu của u máu gan?</td>\n      <td>0</td>\n    </tr>\n  </tbody>\n</table>\n<p>133 rows × 3 columns</p>\n</div>"
     },
     "metadata": {},
     "execution_count": 23
    }
   ],
   "source": [
    "train_data"
   ]
  },
  {
   "cell_type": "code",
   "execution_count": 24,
   "metadata": {},
   "outputs": [],
   "source": [
    "train_data.to_csv('./data/processed/train.csv', index=False)"
   ]
  },
  {
   "cell_type": "code",
   "execution_count": null,
   "metadata": {},
   "outputs": [],
   "source": []
  }
 ]
}