{
 "metadata": {
  "orig_nbformat": 4,
  "kernelspec": {
   "name": "python3",
   "display_name": "Python 3",
   "language": "python"
  }
 },
 "nbformat": 4,
 "nbformat_minor": 2,
 "cells": [
  {
   "cell_type": "code",
   "execution_count": 1,
   "metadata": {},
   "outputs": [],
   "source": [
    "import pandas as pd"
   ]
  },
  {
   "cell_type": "code",
   "execution_count": 2,
   "metadata": {},
   "outputs": [
    {
     "output_type": "execute_result",
     "data": {
      "text/plain": [
       "                                                 answer  \\\n",
       "0     Trong những tình huống rất hiếm, nếu có một kh...   \n",
       "1     Triệu chứng lâm sàng của u gan thường nghèo nà...   \n",
       "2     U máu gan là dị dạng mạch máu bẩm sinh và là k...   \n",
       "3     – Ung thư túi mật gặp nhiều ở nữ, tuổi cao, tỷ...   \n",
       "4     Trong hầu hết các trường hợp trước mổ do đau, ...   \n",
       "...                                                 ...   \n",
       "9113  Hen suyễn là một căn bệnh mạn tính thường gặp ...   \n",
       "9114  Trên thế giới tỷ lệ mắc bệnh ung thư khoang mi...   \n",
       "9115  Có con là mong mỏi của mỗi cặp vợ chồng.  Thế ...   \n",
       "9116  Sảy thai là điều không ai mong muốn, ngoài nhữ...   \n",
       "9117  Bệnh ung thư vòm họng cũng giống như những bện...   \n",
       "\n",
       "                                               question  is_labeled  \\\n",
       "0     Trong tình huống nào thì người bệnh u máu gan ...           1   \n",
       "1     Triệu chứng lâm sàng của bệnh u máu gan là gì ...           1   \n",
       "2       Thưa bác sĩ, bệnh u máu gan có hay gặp không ạ?           1   \n",
       "3         Ai có nguy cơ cao mắc bệnh ung thư túi mật ạ?           1   \n",
       "4     Sau thay khớp háng nhân tạo, người bệnh cần ch...           1   \n",
       "...                                                 ...         ...   \n",
       "9113  Những biến chứng thường gặp do hen suyễn ở trẻ em           0   \n",
       "9114               Nhiễm virus HPV dễ mắc ung thư miệng           0   \n",
       "9115           Hướng dẫn cần phải làm gì khi hiếm muộn?           0   \n",
       "9116      Sảy thai tự nhiên ra máu trong bao lâu sẽ hết           0   \n",
       "9117  Bạn đã biết thời gian ủ bệnh ung thư vòm họng ...           0   \n",
       "\n",
       "                                    question_similaries  \n",
       "0     ['Người bệnh u máu gan được cấy ghép gan khi n...  \n",
       "1     ['Các triệu chứng của bệnh u máu gan?', 'Dấu h...  \n",
       "2     ['Bệnh  U máu gan là bệnh gì ?', 'Nguyên nhân ...  \n",
       "3     ['Độ tuổi nào có nguy cơ mắc bệnh Ung thư túi ...  \n",
       "4     ['Những biến chứng hay gặp sau thay khớp hánh ...  \n",
       "...                                                 ...  \n",
       "9113                                                 []  \n",
       "9114                                                 []  \n",
       "9115                                                 []  \n",
       "9116                                                 []  \n",
       "9117                                                 []  \n",
       "\n",
       "[9118 rows x 4 columns]"
      ],
      "text/html": "<div>\n<style scoped>\n    .dataframe tbody tr th:only-of-type {\n        vertical-align: middle;\n    }\n\n    .dataframe tbody tr th {\n        vertical-align: top;\n    }\n\n    .dataframe thead th {\n        text-align: right;\n    }\n</style>\n<table border=\"1\" class=\"dataframe\">\n  <thead>\n    <tr style=\"text-align: right;\">\n      <th></th>\n      <th>answer</th>\n      <th>question</th>\n      <th>is_labeled</th>\n      <th>question_similaries</th>\n    </tr>\n  </thead>\n  <tbody>\n    <tr>\n      <th>0</th>\n      <td>Trong những tình huống rất hiếm, nếu có một kh...</td>\n      <td>Trong tình huống nào thì người bệnh u máu gan ...</td>\n      <td>1</td>\n      <td>['Người bệnh u máu gan được cấy ghép gan khi n...</td>\n    </tr>\n    <tr>\n      <th>1</th>\n      <td>Triệu chứng lâm sàng của u gan thường nghèo nà...</td>\n      <td>Triệu chứng lâm sàng của bệnh u máu gan là gì ...</td>\n      <td>1</td>\n      <td>['Các triệu chứng của bệnh u máu gan?', 'Dấu h...</td>\n    </tr>\n    <tr>\n      <th>2</th>\n      <td>U máu gan là dị dạng mạch máu bẩm sinh và là k...</td>\n      <td>Thưa bác sĩ, bệnh u máu gan có hay gặp không ạ?</td>\n      <td>1</td>\n      <td>['Bệnh  U máu gan là bệnh gì ?', 'Nguyên nhân ...</td>\n    </tr>\n    <tr>\n      <th>3</th>\n      <td>– Ung thư túi mật gặp nhiều ở nữ, tuổi cao, tỷ...</td>\n      <td>Ai có nguy cơ cao mắc bệnh ung thư túi mật ạ?</td>\n      <td>1</td>\n      <td>['Độ tuổi nào có nguy cơ mắc bệnh Ung thư túi ...</td>\n    </tr>\n    <tr>\n      <th>4</th>\n      <td>Trong hầu hết các trường hợp trước mổ do đau, ...</td>\n      <td>Sau thay khớp háng nhân tạo, người bệnh cần ch...</td>\n      <td>1</td>\n      <td>['Những biến chứng hay gặp sau thay khớp hánh ...</td>\n    </tr>\n    <tr>\n      <th>...</th>\n      <td>...</td>\n      <td>...</td>\n      <td>...</td>\n      <td>...</td>\n    </tr>\n    <tr>\n      <th>9113</th>\n      <td>Hen suyễn là một căn bệnh mạn tính thường gặp ...</td>\n      <td>Những biến chứng thường gặp do hen suyễn ở trẻ em</td>\n      <td>0</td>\n      <td>[]</td>\n    </tr>\n    <tr>\n      <th>9114</th>\n      <td>Trên thế giới tỷ lệ mắc bệnh ung thư khoang mi...</td>\n      <td>Nhiễm virus HPV dễ mắc ung thư miệng</td>\n      <td>0</td>\n      <td>[]</td>\n    </tr>\n    <tr>\n      <th>9115</th>\n      <td>Có con là mong mỏi của mỗi cặp vợ chồng.  Thế ...</td>\n      <td>Hướng dẫn cần phải làm gì khi hiếm muộn?</td>\n      <td>0</td>\n      <td>[]</td>\n    </tr>\n    <tr>\n      <th>9116</th>\n      <td>Sảy thai là điều không ai mong muốn, ngoài nhữ...</td>\n      <td>Sảy thai tự nhiên ra máu trong bao lâu sẽ hết</td>\n      <td>0</td>\n      <td>[]</td>\n    </tr>\n    <tr>\n      <th>9117</th>\n      <td>Bệnh ung thư vòm họng cũng giống như những bện...</td>\n      <td>Bạn đã biết thời gian ủ bệnh ung thư vòm họng ...</td>\n      <td>0</td>\n      <td>[]</td>\n    </tr>\n  </tbody>\n</table>\n<p>9118 rows × 4 columns</p>\n</div>"
     },
     "metadata": {},
     "execution_count": 2
    }
   ],
   "source": [
    "df = pd.read_csv('./data/data.csv')\n",
    "df"
   ]
  },
  {
   "cell_type": "code",
   "execution_count": 3,
   "metadata": {},
   "outputs": [
    {
     "output_type": "execute_result",
     "data": {
      "text/plain": [
       "                                                answer  \\\n",
       "0    Trong những tình huống rất hiếm, nếu có một kh...   \n",
       "1    Triệu chứng lâm sàng của u gan thường nghèo nà...   \n",
       "2    U máu gan là dị dạng mạch máu bẩm sinh và là k...   \n",
       "3    – Ung thư túi mật gặp nhiều ở nữ, tuổi cao, tỷ...   \n",
       "4    Trong hầu hết các trường hợp trước mổ do đau, ...   \n",
       "..                                                 ...   \n",
       "969  Theo thống kê của Dự án phòng chống ung thư Qu...   \n",
       "971  Viêm niệu đạo mạn tính ở nam giới là hệ quả củ...   \n",
       "972  Hắc lào là một trong những căn bệnh về da thườ...   \n",
       "973  Tầm soát ung thư tiền liệt tuyến là vấn đề vô ...   \n",
       "974  Cả hai hoạt động bổ sung chế độ dinh dưỡng trư...   \n",
       "\n",
       "                                              question  is_labeled  \\\n",
       "0    Trong tình huống nào thì người bệnh u máu gan ...           1   \n",
       "1    Triệu chứng lâm sàng của bệnh u máu gan là gì ...           1   \n",
       "2      Thưa bác sĩ, bệnh u máu gan có hay gặp không ạ?           1   \n",
       "3        Ai có nguy cơ cao mắc bệnh ung thư túi mật ạ?           1   \n",
       "4    Sau thay khớp háng nhân tạo, người bệnh cần ch...           1   \n",
       "..                                                 ...         ...   \n",
       "969  Chế độ ăn uống lành mạnh giúp ngăn ngừa ung th...           1   \n",
       "971      Bệnh viêm niệu đạo mạn tính ở nam giới là gì?           1   \n",
       "972                   Bệnh hắc lào có nguy hiểm không?           1   \n",
       "973       Khám tầm soát ung thư tiền liệt tuyến ở đâu?           1   \n",
       "974  Dinh dưỡng trước giờ tập phát huy tối đa hiệu ...           1   \n",
       "\n",
       "                                   question_similaries  \n",
       "0    ['Người bệnh u máu gan được cấy ghép gan khi n...  \n",
       "1    ['Các triệu chứng của bệnh u máu gan?', 'Dấu h...  \n",
       "2    ['Bệnh  U máu gan là bệnh gì ?', 'Nguyên nhân ...  \n",
       "3    ['Độ tuổi nào có nguy cơ mắc bệnh Ung thư túi ...  \n",
       "4    ['Những biến chứng hay gặp sau thay khớp hánh ...  \n",
       "..                                                 ...  \n",
       "969  ['Các thực phẩm nào có khả năng chống lại các ...  \n",
       "971  ['Niệu đạo ở nam giới là bộ phận gì ?', 'Nguyê...  \n",
       "972  ['Hắc lào là bệnh gì ?', 'Triệu chứng của bệnh...  \n",
       "973  ['Đối tượng nào nên tầm soát bệnh Ung thư tuyế...  \n",
       "974  ['Carbohydrate có tác dụng gì cho việc tập luy...  \n",
       "\n",
       "[974 rows x 4 columns]"
      ],
      "text/html": "<div>\n<style scoped>\n    .dataframe tbody tr th:only-of-type {\n        vertical-align: middle;\n    }\n\n    .dataframe tbody tr th {\n        vertical-align: top;\n    }\n\n    .dataframe thead th {\n        text-align: right;\n    }\n</style>\n<table border=\"1\" class=\"dataframe\">\n  <thead>\n    <tr style=\"text-align: right;\">\n      <th></th>\n      <th>answer</th>\n      <th>question</th>\n      <th>is_labeled</th>\n      <th>question_similaries</th>\n    </tr>\n  </thead>\n  <tbody>\n    <tr>\n      <th>0</th>\n      <td>Trong những tình huống rất hiếm, nếu có một kh...</td>\n      <td>Trong tình huống nào thì người bệnh u máu gan ...</td>\n      <td>1</td>\n      <td>['Người bệnh u máu gan được cấy ghép gan khi n...</td>\n    </tr>\n    <tr>\n      <th>1</th>\n      <td>Triệu chứng lâm sàng của u gan thường nghèo nà...</td>\n      <td>Triệu chứng lâm sàng của bệnh u máu gan là gì ...</td>\n      <td>1</td>\n      <td>['Các triệu chứng của bệnh u máu gan?', 'Dấu h...</td>\n    </tr>\n    <tr>\n      <th>2</th>\n      <td>U máu gan là dị dạng mạch máu bẩm sinh và là k...</td>\n      <td>Thưa bác sĩ, bệnh u máu gan có hay gặp không ạ?</td>\n      <td>1</td>\n      <td>['Bệnh  U máu gan là bệnh gì ?', 'Nguyên nhân ...</td>\n    </tr>\n    <tr>\n      <th>3</th>\n      <td>– Ung thư túi mật gặp nhiều ở nữ, tuổi cao, tỷ...</td>\n      <td>Ai có nguy cơ cao mắc bệnh ung thư túi mật ạ?</td>\n      <td>1</td>\n      <td>['Độ tuổi nào có nguy cơ mắc bệnh Ung thư túi ...</td>\n    </tr>\n    <tr>\n      <th>4</th>\n      <td>Trong hầu hết các trường hợp trước mổ do đau, ...</td>\n      <td>Sau thay khớp háng nhân tạo, người bệnh cần ch...</td>\n      <td>1</td>\n      <td>['Những biến chứng hay gặp sau thay khớp hánh ...</td>\n    </tr>\n    <tr>\n      <th>...</th>\n      <td>...</td>\n      <td>...</td>\n      <td>...</td>\n      <td>...</td>\n    </tr>\n    <tr>\n      <th>969</th>\n      <td>Theo thống kê của Dự án phòng chống ung thư Qu...</td>\n      <td>Chế độ ăn uống lành mạnh giúp ngăn ngừa ung th...</td>\n      <td>1</td>\n      <td>['Các thực phẩm nào có khả năng chống lại các ...</td>\n    </tr>\n    <tr>\n      <th>971</th>\n      <td>Viêm niệu đạo mạn tính ở nam giới là hệ quả củ...</td>\n      <td>Bệnh viêm niệu đạo mạn tính ở nam giới là gì?</td>\n      <td>1</td>\n      <td>['Niệu đạo ở nam giới là bộ phận gì ?', 'Nguyê...</td>\n    </tr>\n    <tr>\n      <th>972</th>\n      <td>Hắc lào là một trong những căn bệnh về da thườ...</td>\n      <td>Bệnh hắc lào có nguy hiểm không?</td>\n      <td>1</td>\n      <td>['Hắc lào là bệnh gì ?', 'Triệu chứng của bệnh...</td>\n    </tr>\n    <tr>\n      <th>973</th>\n      <td>Tầm soát ung thư tiền liệt tuyến là vấn đề vô ...</td>\n      <td>Khám tầm soát ung thư tiền liệt tuyến ở đâu?</td>\n      <td>1</td>\n      <td>['Đối tượng nào nên tầm soát bệnh Ung thư tuyế...</td>\n    </tr>\n    <tr>\n      <th>974</th>\n      <td>Cả hai hoạt động bổ sung chế độ dinh dưỡng trư...</td>\n      <td>Dinh dưỡng trước giờ tập phát huy tối đa hiệu ...</td>\n      <td>1</td>\n      <td>['Carbohydrate có tác dụng gì cho việc tập luy...</td>\n    </tr>\n  </tbody>\n</table>\n<p>974 rows × 4 columns</p>\n</div>"
     },
     "metadata": {},
     "execution_count": 3
    }
   ],
   "source": [
    "df_labeled = df[df['question_similaries']!='[]']\n",
    "df_labeled"
   ]
  },
  {
   "source": [
    "# Create positive"
   ],
   "cell_type": "markdown",
   "metadata": {}
  },
  {
   "cell_type": "code",
   "execution_count": 4,
   "metadata": {},
   "outputs": [
    {
     "output_type": "stream",
     "name": "stderr",
     "text": [
      "/home/thang/env/lib/python3.6/site-packages/ipykernel_launcher.py:1: SettingWithCopyWarning: \nA value is trying to be set on a copy of a slice from a DataFrame.\nTry using .loc[row_indexer,col_indexer] = value instead\n\nSee the caveats in the documentation: https://pandas.pydata.org/pandas-docs/stable/user_guide/indexing.html#returning-a-view-versus-a-copy\n  \"\"\"Entry point for launching an IPython kernel.\n"
     ]
    }
   ],
   "source": [
    "df_labeled['question_similaries'] = df_labeled['question_similaries'].apply(eval)"
   ]
  },
  {
   "cell_type": "code",
   "execution_count": 5,
   "metadata": {},
   "outputs": [
    {
     "output_type": "stream",
     "name": "stderr",
     "text": [
      "974it [00:00, 6833.89it/s]\n"
     ]
    }
   ],
   "source": [
    "import tqdm\n",
    "questions = []\n",
    "for i, item in tqdm.tqdm(df_labeled.iterrows()):\n",
    "    lst = [item.question]\n",
    "    lst += item.question_similaries\n",
    "    questions.append(lst)"
   ]
  },
  {
   "cell_type": "code",
   "execution_count": 11,
   "metadata": {},
   "outputs": [
    {
     "output_type": "stream",
     "name": "stderr",
     "text": [
      "100%|██████████| 974/974 [00:00<00:00, 25552.15it/s]\n"
     ]
    }
   ],
   "source": [
    "with open('./data/positive.csv', 'w') as f:\n",
    "    f.write('question1,question2,label\\n')\n",
    "    for lst_question in tqdm.tqdm(questions):\n",
    "        for i in range(len(lst_question)-1):\n",
    "            for j in range(i+1, len(lst_question)):\n",
    "                f.write(\"\\\"{}\\\",\\\"{}\\\",{}\\n\".format(lst_question[i], lst_question[j], 1))"
   ]
  },
  {
   "cell_type": "code",
   "execution_count": 13,
   "metadata": {},
   "outputs": [
    {
     "output_type": "execute_result",
     "data": {
      "text/plain": [
       "                                              question1  \\\n",
       "0     Trong tình huống nào thì người bệnh u máu gan ...   \n",
       "1     Trong tình huống nào thì người bệnh u máu gan ...   \n",
       "2       Người bệnh u máu gan được cấy ghép gan khi nào?   \n",
       "3     Triệu chứng lâm sàng của bệnh u máu gan là gì ...   \n",
       "4     Triệu chứng lâm sàng của bệnh u máu gan là gì ...   \n",
       "...                                                 ...   \n",
       "9497  Dinh dưỡng trước giờ tập phát huy tối đa hiệu ...   \n",
       "9498  Dinh dưỡng trước giờ tập phát huy tối đa hiệu ...   \n",
       "9499   Carbohydrate có tác dụng gì cho việc tập luyện ?   \n",
       "9500   Carbohydrate có tác dụng gì cho việc tập luyện ?   \n",
       "9501  Một bữa ăn có chứa Protein trước giờ tập có tá...   \n",
       "\n",
       "                                              question2  label  \n",
       "0       Người bệnh u máu gan được cấy ghép gan khi nào?      1  \n",
       "1      Khi nào người bệnh u máu gan sẽ được phẫu thuật?      1  \n",
       "2      Khi nào người bệnh u máu gan sẽ được phẫu thuật?      1  \n",
       "3                   Các triệu chứng của bệnh u máu gan?      1  \n",
       "4                               Dấu hiệu của u máu gan?      1  \n",
       "...                                                 ...    ...  \n",
       "9497  Một bữa ăn có chứa Protein trước giờ tập có tá...      1  \n",
       "9498  Cơ chế chuyển hóa năng lượng khi vận động là gì ?      1  \n",
       "9499  Một bữa ăn có chứa Protein trước giờ tập có tá...      1  \n",
       "9500  Cơ chế chuyển hóa năng lượng khi vận động là gì ?      1  \n",
       "9501  Cơ chế chuyển hóa năng lượng khi vận động là gì ?      1  \n",
       "\n",
       "[9502 rows x 3 columns]"
      ],
      "text/html": "<div>\n<style scoped>\n    .dataframe tbody tr th:only-of-type {\n        vertical-align: middle;\n    }\n\n    .dataframe tbody tr th {\n        vertical-align: top;\n    }\n\n    .dataframe thead th {\n        text-align: right;\n    }\n</style>\n<table border=\"1\" class=\"dataframe\">\n  <thead>\n    <tr style=\"text-align: right;\">\n      <th></th>\n      <th>question1</th>\n      <th>question2</th>\n      <th>label</th>\n    </tr>\n  </thead>\n  <tbody>\n    <tr>\n      <th>0</th>\n      <td>Trong tình huống nào thì người bệnh u máu gan ...</td>\n      <td>Người bệnh u máu gan được cấy ghép gan khi nào?</td>\n      <td>1</td>\n    </tr>\n    <tr>\n      <th>1</th>\n      <td>Trong tình huống nào thì người bệnh u máu gan ...</td>\n      <td>Khi nào người bệnh u máu gan sẽ được phẫu thuật?</td>\n      <td>1</td>\n    </tr>\n    <tr>\n      <th>2</th>\n      <td>Người bệnh u máu gan được cấy ghép gan khi nào?</td>\n      <td>Khi nào người bệnh u máu gan sẽ được phẫu thuật?</td>\n      <td>1</td>\n    </tr>\n    <tr>\n      <th>3</th>\n      <td>Triệu chứng lâm sàng của bệnh u máu gan là gì ...</td>\n      <td>Các triệu chứng của bệnh u máu gan?</td>\n      <td>1</td>\n    </tr>\n    <tr>\n      <th>4</th>\n      <td>Triệu chứng lâm sàng của bệnh u máu gan là gì ...</td>\n      <td>Dấu hiệu của u máu gan?</td>\n      <td>1</td>\n    </tr>\n    <tr>\n      <th>...</th>\n      <td>...</td>\n      <td>...</td>\n      <td>...</td>\n    </tr>\n    <tr>\n      <th>9497</th>\n      <td>Dinh dưỡng trước giờ tập phát huy tối đa hiệu ...</td>\n      <td>Một bữa ăn có chứa Protein trước giờ tập có tá...</td>\n      <td>1</td>\n    </tr>\n    <tr>\n      <th>9498</th>\n      <td>Dinh dưỡng trước giờ tập phát huy tối đa hiệu ...</td>\n      <td>Cơ chế chuyển hóa năng lượng khi vận động là gì ?</td>\n      <td>1</td>\n    </tr>\n    <tr>\n      <th>9499</th>\n      <td>Carbohydrate có tác dụng gì cho việc tập luyện ?</td>\n      <td>Một bữa ăn có chứa Protein trước giờ tập có tá...</td>\n      <td>1</td>\n    </tr>\n    <tr>\n      <th>9500</th>\n      <td>Carbohydrate có tác dụng gì cho việc tập luyện ?</td>\n      <td>Cơ chế chuyển hóa năng lượng khi vận động là gì ?</td>\n      <td>1</td>\n    </tr>\n    <tr>\n      <th>9501</th>\n      <td>Một bữa ăn có chứa Protein trước giờ tập có tá...</td>\n      <td>Cơ chế chuyển hóa năng lượng khi vận động là gì ?</td>\n      <td>1</td>\n    </tr>\n  </tbody>\n</table>\n<p>9502 rows × 3 columns</p>\n</div>"
     },
     "metadata": {},
     "execution_count": 13
    }
   ],
   "source": [
    "df_positive = pd.read_csv('./data/positive.csv')\n",
    "df_positive"
   ]
  },
  {
   "source": [
    "# Create negative"
   ],
   "cell_type": "markdown",
   "metadata": {}
  },
  {
   "cell_type": "code",
   "execution_count": 19,
   "metadata": {},
   "outputs": [
    {
     "output_type": "execute_result",
     "data": {
      "text/plain": [
       "['Những biểu hiện không ngờ gây nên ung thư vòm họng',\n",
       " 'Nguyên nhân gây ra Ung thư vòm họng là gì ?',\n",
       " 'Ung thư vòm họng có tác hại như thế nào ?',\n",
       " 'Các triệu chứng của bệnh Ung thư vòm họng biểu hiện như thế nào ?']"
      ]
     },
     "metadata": {},
     "execution_count": 19
    }
   ],
   "source": [
    "random.choice(questions)"
   ]
  },
  {
   "cell_type": "code",
   "execution_count": 23,
   "metadata": {},
   "outputs": [],
   "source": [
    "import numpy as np\n",
    "import random\n",
    "\n",
    "num_sample = 0\n",
    "with open('./data/negative.csv', 'w') as f:\n",
    "    f.write('question1,question2,label\\n')\n",
    "    while num_sample != 9500:\n",
    "        lst_quesion1 = random.choice(questions)\n",
    "        lst_quesion2 = random.choice(questions)\n",
    "        if lst_quesion1 == lst_quesion2:\n",
    "            continue\n",
    "        else:\n",
    "            question1 = random.choice(lst_quesion1)\n",
    "            question2 = random.choice(lst_quesion2)\n",
    "            f.write(\"\\\"{}\\\",\\\"{}\\\",{}\\n\".format(question1, question2, 0))\n",
    "            num_sample += 1"
   ]
  },
  {
   "cell_type": "code",
   "execution_count": 24,
   "metadata": {},
   "outputs": [
    {
     "output_type": "execute_result",
     "data": {
      "text/plain": [
       "                                              question1  \\\n",
       "0                  Bệnh hắc lào khởi phát như thế nào ?   \n",
       "1                                    Chửa trứng là gì ?   \n",
       "2         Nên ăn những loại thực phẩm nào để giảm cân ?   \n",
       "3     Triệu chứng của bệnh sùi mào gà biểu hiện như ...   \n",
       "4        Điều trị bệnh tâm thần phân liệt như thế nào ?   \n",
       "...                                                 ...   \n",
       "9495          Yếu sinh lý ở nam giới là tình trạng gì ?   \n",
       "9496                                  Rong kinh là gì ?   \n",
       "9497  Cần vệ sinh như thế nào trong điều trị viêm lộ...   \n",
       "9498  Nên chuẩn bị những loại thuốc gì khi đi du lịc...   \n",
       "9499                              Khi nào cần làm IUI ?   \n",
       "\n",
       "                                              question2  label  \n",
       "0                   Viêm kết mạc thực chất là bệnh gì ?      0  \n",
       "1                  Các kem chữa hăm tã có tác dụng gì ?      0  \n",
       "2     Có nên dùng nhiều đồ có cồn trong ngày Tết khô...      0  \n",
       "3     Triệu chứng của bệnh viêm phế quản biểu hiện n...      0  \n",
       "4           Xử trí bệnh nhân tai biến nhẹ như thế nào ?      0  \n",
       "...                                                 ...    ...  \n",
       "9495       Dinh dưỡng cho người bệnh mắc ung thư amidan      0  \n",
       "9496   Tại sao Việt nam lại có tỷ lệ nạo phá thai cao ?      0  \n",
       "9497      Bài tập cùng con giúp mẹ có vóc dáng hoàn hảo      0  \n",
       "9498          Tỷ lệ chữa khỏi Ung thư da là bao nhiêu ?      0  \n",
       "9499  Ung thư buồng trứng ảnh hưởng tới cơ thể như t...      0  \n",
       "\n",
       "[9500 rows x 3 columns]"
      ],
      "text/html": "<div>\n<style scoped>\n    .dataframe tbody tr th:only-of-type {\n        vertical-align: middle;\n    }\n\n    .dataframe tbody tr th {\n        vertical-align: top;\n    }\n\n    .dataframe thead th {\n        text-align: right;\n    }\n</style>\n<table border=\"1\" class=\"dataframe\">\n  <thead>\n    <tr style=\"text-align: right;\">\n      <th></th>\n      <th>question1</th>\n      <th>question2</th>\n      <th>label</th>\n    </tr>\n  </thead>\n  <tbody>\n    <tr>\n      <th>0</th>\n      <td>Bệnh hắc lào khởi phát như thế nào ?</td>\n      <td>Viêm kết mạc thực chất là bệnh gì ?</td>\n      <td>0</td>\n    </tr>\n    <tr>\n      <th>1</th>\n      <td>Chửa trứng là gì ?</td>\n      <td>Các kem chữa hăm tã có tác dụng gì ?</td>\n      <td>0</td>\n    </tr>\n    <tr>\n      <th>2</th>\n      <td>Nên ăn những loại thực phẩm nào để giảm cân ?</td>\n      <td>Có nên dùng nhiều đồ có cồn trong ngày Tết khô...</td>\n      <td>0</td>\n    </tr>\n    <tr>\n      <th>3</th>\n      <td>Triệu chứng của bệnh sùi mào gà biểu hiện như ...</td>\n      <td>Triệu chứng của bệnh viêm phế quản biểu hiện n...</td>\n      <td>0</td>\n    </tr>\n    <tr>\n      <th>4</th>\n      <td>Điều trị bệnh tâm thần phân liệt như thế nào ?</td>\n      <td>Xử trí bệnh nhân tai biến nhẹ như thế nào ?</td>\n      <td>0</td>\n    </tr>\n    <tr>\n      <th>...</th>\n      <td>...</td>\n      <td>...</td>\n      <td>...</td>\n    </tr>\n    <tr>\n      <th>9495</th>\n      <td>Yếu sinh lý ở nam giới là tình trạng gì ?</td>\n      <td>Dinh dưỡng cho người bệnh mắc ung thư amidan</td>\n      <td>0</td>\n    </tr>\n    <tr>\n      <th>9496</th>\n      <td>Rong kinh là gì ?</td>\n      <td>Tại sao Việt nam lại có tỷ lệ nạo phá thai cao ?</td>\n      <td>0</td>\n    </tr>\n    <tr>\n      <th>9497</th>\n      <td>Cần vệ sinh như thế nào trong điều trị viêm lộ...</td>\n      <td>Bài tập cùng con giúp mẹ có vóc dáng hoàn hảo</td>\n      <td>0</td>\n    </tr>\n    <tr>\n      <th>9498</th>\n      <td>Nên chuẩn bị những loại thuốc gì khi đi du lịc...</td>\n      <td>Tỷ lệ chữa khỏi Ung thư da là bao nhiêu ?</td>\n      <td>0</td>\n    </tr>\n    <tr>\n      <th>9499</th>\n      <td>Khi nào cần làm IUI ?</td>\n      <td>Ung thư buồng trứng ảnh hưởng tới cơ thể như t...</td>\n      <td>0</td>\n    </tr>\n  </tbody>\n</table>\n<p>9500 rows × 3 columns</p>\n</div>"
     },
     "metadata": {},
     "execution_count": 24
    }
   ],
   "source": [
    "df_negative = pd.read_csv('./data/negative.csv')\n",
    "df_negative"
   ]
  },
  {
   "source": [
    "# Join to train data"
   ],
   "cell_type": "markdown",
   "metadata": {}
  },
  {
   "cell_type": "code",
   "execution_count": 1,
   "metadata": {},
   "outputs": [],
   "source": [
    "import pandas as pd\n",
    "df_pos = pd.read_csv('./data/positive.csv')\n",
    "df_neg = pd.read_csv('./data/negative.csv')"
   ]
  },
  {
   "cell_type": "code",
   "execution_count": 2,
   "metadata": {},
   "outputs": [
    {
     "output_type": "execute_result",
     "data": {
      "text/plain": [
       "                                              question1  \\\n",
       "0     Trong tình huống nào thì người bệnh u máu gan ...   \n",
       "1     Trong tình huống nào thì người bệnh u máu gan ...   \n",
       "2       Người bệnh u máu gan được cấy ghép gan khi nào?   \n",
       "3     Triệu chứng lâm sàng của bệnh u máu gan là gì ...   \n",
       "4     Triệu chứng lâm sàng của bệnh u máu gan là gì ...   \n",
       "...                                                 ...   \n",
       "9497  Dinh dưỡng trước giờ tập phát huy tối đa hiệu ...   \n",
       "9498  Dinh dưỡng trước giờ tập phát huy tối đa hiệu ...   \n",
       "9499   Carbohydrate có tác dụng gì cho việc tập luyện ?   \n",
       "9500   Carbohydrate có tác dụng gì cho việc tập luyện ?   \n",
       "9501  Một bữa ăn có chứa Protein trước giờ tập có tá...   \n",
       "\n",
       "                                              question2  label  \n",
       "0       Người bệnh u máu gan được cấy ghép gan khi nào?      1  \n",
       "1      Khi nào người bệnh u máu gan sẽ được phẫu thuật?      1  \n",
       "2      Khi nào người bệnh u máu gan sẽ được phẫu thuật?      1  \n",
       "3                   Các triệu chứng của bệnh u máu gan?      1  \n",
       "4                               Dấu hiệu của u máu gan?      1  \n",
       "...                                                 ...    ...  \n",
       "9497  Một bữa ăn có chứa Protein trước giờ tập có tá...      1  \n",
       "9498  Cơ chế chuyển hóa năng lượng khi vận động là gì ?      1  \n",
       "9499  Một bữa ăn có chứa Protein trước giờ tập có tá...      1  \n",
       "9500  Cơ chế chuyển hóa năng lượng khi vận động là gì ?      1  \n",
       "9501  Cơ chế chuyển hóa năng lượng khi vận động là gì ?      1  \n",
       "\n",
       "[9502 rows x 3 columns]"
      ],
      "text/html": "<div>\n<style scoped>\n    .dataframe tbody tr th:only-of-type {\n        vertical-align: middle;\n    }\n\n    .dataframe tbody tr th {\n        vertical-align: top;\n    }\n\n    .dataframe thead th {\n        text-align: right;\n    }\n</style>\n<table border=\"1\" class=\"dataframe\">\n  <thead>\n    <tr style=\"text-align: right;\">\n      <th></th>\n      <th>question1</th>\n      <th>question2</th>\n      <th>label</th>\n    </tr>\n  </thead>\n  <tbody>\n    <tr>\n      <th>0</th>\n      <td>Trong tình huống nào thì người bệnh u máu gan ...</td>\n      <td>Người bệnh u máu gan được cấy ghép gan khi nào?</td>\n      <td>1</td>\n    </tr>\n    <tr>\n      <th>1</th>\n      <td>Trong tình huống nào thì người bệnh u máu gan ...</td>\n      <td>Khi nào người bệnh u máu gan sẽ được phẫu thuật?</td>\n      <td>1</td>\n    </tr>\n    <tr>\n      <th>2</th>\n      <td>Người bệnh u máu gan được cấy ghép gan khi nào?</td>\n      <td>Khi nào người bệnh u máu gan sẽ được phẫu thuật?</td>\n      <td>1</td>\n    </tr>\n    <tr>\n      <th>3</th>\n      <td>Triệu chứng lâm sàng của bệnh u máu gan là gì ...</td>\n      <td>Các triệu chứng của bệnh u máu gan?</td>\n      <td>1</td>\n    </tr>\n    <tr>\n      <th>4</th>\n      <td>Triệu chứng lâm sàng của bệnh u máu gan là gì ...</td>\n      <td>Dấu hiệu của u máu gan?</td>\n      <td>1</td>\n    </tr>\n    <tr>\n      <th>...</th>\n      <td>...</td>\n      <td>...</td>\n      <td>...</td>\n    </tr>\n    <tr>\n      <th>9497</th>\n      <td>Dinh dưỡng trước giờ tập phát huy tối đa hiệu ...</td>\n      <td>Một bữa ăn có chứa Protein trước giờ tập có tá...</td>\n      <td>1</td>\n    </tr>\n    <tr>\n      <th>9498</th>\n      <td>Dinh dưỡng trước giờ tập phát huy tối đa hiệu ...</td>\n      <td>Cơ chế chuyển hóa năng lượng khi vận động là gì ?</td>\n      <td>1</td>\n    </tr>\n    <tr>\n      <th>9499</th>\n      <td>Carbohydrate có tác dụng gì cho việc tập luyện ?</td>\n      <td>Một bữa ăn có chứa Protein trước giờ tập có tá...</td>\n      <td>1</td>\n    </tr>\n    <tr>\n      <th>9500</th>\n      <td>Carbohydrate có tác dụng gì cho việc tập luyện ?</td>\n      <td>Cơ chế chuyển hóa năng lượng khi vận động là gì ?</td>\n      <td>1</td>\n    </tr>\n    <tr>\n      <th>9501</th>\n      <td>Một bữa ăn có chứa Protein trước giờ tập có tá...</td>\n      <td>Cơ chế chuyển hóa năng lượng khi vận động là gì ?</td>\n      <td>1</td>\n    </tr>\n  </tbody>\n</table>\n<p>9502 rows × 3 columns</p>\n</div>"
     },
     "metadata": {},
     "execution_count": 2
    }
   ],
   "source": [
    "df_pos"
   ]
  },
  {
   "cell_type": "code",
   "execution_count": 3,
   "metadata": {},
   "outputs": [
    {
     "output_type": "execute_result",
     "data": {
      "text/plain": [
       "                                              question1  \\\n",
       "0                  Bệnh hắc lào khởi phát như thế nào ?   \n",
       "1                                    Chửa trứng là gì ?   \n",
       "2         Nên ăn những loại thực phẩm nào để giảm cân ?   \n",
       "3     Triệu chứng của bệnh sùi mào gà biểu hiện như ...   \n",
       "4        Điều trị bệnh tâm thần phân liệt như thế nào ?   \n",
       "...                                                 ...   \n",
       "9495          Yếu sinh lý ở nam giới là tình trạng gì ?   \n",
       "9496                                  Rong kinh là gì ?   \n",
       "9497  Cần vệ sinh như thế nào trong điều trị viêm lộ...   \n",
       "9498  Nên chuẩn bị những loại thuốc gì khi đi du lịc...   \n",
       "9499                              Khi nào cần làm IUI ?   \n",
       "\n",
       "                                              question2  label  \n",
       "0                   Viêm kết mạc thực chất là bệnh gì ?      0  \n",
       "1                  Các kem chữa hăm tã có tác dụng gì ?      0  \n",
       "2     Có nên dùng nhiều đồ có cồn trong ngày Tết khô...      0  \n",
       "3     Triệu chứng của bệnh viêm phế quản biểu hiện n...      0  \n",
       "4           Xử trí bệnh nhân tai biến nhẹ như thế nào ?      0  \n",
       "...                                                 ...    ...  \n",
       "9495       Dinh dưỡng cho người bệnh mắc ung thư amidan      0  \n",
       "9496   Tại sao Việt nam lại có tỷ lệ nạo phá thai cao ?      0  \n",
       "9497      Bài tập cùng con giúp mẹ có vóc dáng hoàn hảo      0  \n",
       "9498          Tỷ lệ chữa khỏi Ung thư da là bao nhiêu ?      0  \n",
       "9499  Ung thư buồng trứng ảnh hưởng tới cơ thể như t...      0  \n",
       "\n",
       "[9500 rows x 3 columns]"
      ],
      "text/html": "<div>\n<style scoped>\n    .dataframe tbody tr th:only-of-type {\n        vertical-align: middle;\n    }\n\n    .dataframe tbody tr th {\n        vertical-align: top;\n    }\n\n    .dataframe thead th {\n        text-align: right;\n    }\n</style>\n<table border=\"1\" class=\"dataframe\">\n  <thead>\n    <tr style=\"text-align: right;\">\n      <th></th>\n      <th>question1</th>\n      <th>question2</th>\n      <th>label</th>\n    </tr>\n  </thead>\n  <tbody>\n    <tr>\n      <th>0</th>\n      <td>Bệnh hắc lào khởi phát như thế nào ?</td>\n      <td>Viêm kết mạc thực chất là bệnh gì ?</td>\n      <td>0</td>\n    </tr>\n    <tr>\n      <th>1</th>\n      <td>Chửa trứng là gì ?</td>\n      <td>Các kem chữa hăm tã có tác dụng gì ?</td>\n      <td>0</td>\n    </tr>\n    <tr>\n      <th>2</th>\n      <td>Nên ăn những loại thực phẩm nào để giảm cân ?</td>\n      <td>Có nên dùng nhiều đồ có cồn trong ngày Tết khô...</td>\n      <td>0</td>\n    </tr>\n    <tr>\n      <th>3</th>\n      <td>Triệu chứng của bệnh sùi mào gà biểu hiện như ...</td>\n      <td>Triệu chứng của bệnh viêm phế quản biểu hiện n...</td>\n      <td>0</td>\n    </tr>\n    <tr>\n      <th>4</th>\n      <td>Điều trị bệnh tâm thần phân liệt như thế nào ?</td>\n      <td>Xử trí bệnh nhân tai biến nhẹ như thế nào ?</td>\n      <td>0</td>\n    </tr>\n    <tr>\n      <th>...</th>\n      <td>...</td>\n      <td>...</td>\n      <td>...</td>\n    </tr>\n    <tr>\n      <th>9495</th>\n      <td>Yếu sinh lý ở nam giới là tình trạng gì ?</td>\n      <td>Dinh dưỡng cho người bệnh mắc ung thư amidan</td>\n      <td>0</td>\n    </tr>\n    <tr>\n      <th>9496</th>\n      <td>Rong kinh là gì ?</td>\n      <td>Tại sao Việt nam lại có tỷ lệ nạo phá thai cao ?</td>\n      <td>0</td>\n    </tr>\n    <tr>\n      <th>9497</th>\n      <td>Cần vệ sinh như thế nào trong điều trị viêm lộ...</td>\n      <td>Bài tập cùng con giúp mẹ có vóc dáng hoàn hảo</td>\n      <td>0</td>\n    </tr>\n    <tr>\n      <th>9498</th>\n      <td>Nên chuẩn bị những loại thuốc gì khi đi du lịc...</td>\n      <td>Tỷ lệ chữa khỏi Ung thư da là bao nhiêu ?</td>\n      <td>0</td>\n    </tr>\n    <tr>\n      <th>9499</th>\n      <td>Khi nào cần làm IUI ?</td>\n      <td>Ung thư buồng trứng ảnh hưởng tới cơ thể như t...</td>\n      <td>0</td>\n    </tr>\n  </tbody>\n</table>\n<p>9500 rows × 3 columns</p>\n</div>"
     },
     "metadata": {},
     "execution_count": 3
    }
   ],
   "source": [
    "df_neg"
   ]
  },
  {
   "cell_type": "code",
   "execution_count": 6,
   "metadata": {},
   "outputs": [
    {
     "output_type": "execute_result",
     "data": {
      "text/plain": [
       "                                              question1  \\\n",
       "0     Trong tình huống nào thì người bệnh u máu gan ...   \n",
       "1     Trong tình huống nào thì người bệnh u máu gan ...   \n",
       "2       Người bệnh u máu gan được cấy ghép gan khi nào?   \n",
       "3     Triệu chứng lâm sàng của bệnh u máu gan là gì ...   \n",
       "4     Triệu chứng lâm sàng của bệnh u máu gan là gì ...   \n",
       "...                                                 ...   \n",
       "9495          Yếu sinh lý ở nam giới là tình trạng gì ?   \n",
       "9496                                  Rong kinh là gì ?   \n",
       "9497  Cần vệ sinh như thế nào trong điều trị viêm lộ...   \n",
       "9498  Nên chuẩn bị những loại thuốc gì khi đi du lịc...   \n",
       "9499                              Khi nào cần làm IUI ?   \n",
       "\n",
       "                                              question2  label  \n",
       "0       Người bệnh u máu gan được cấy ghép gan khi nào?      1  \n",
       "1      Khi nào người bệnh u máu gan sẽ được phẫu thuật?      1  \n",
       "2      Khi nào người bệnh u máu gan sẽ được phẫu thuật?      1  \n",
       "3                   Các triệu chứng của bệnh u máu gan?      1  \n",
       "4                               Dấu hiệu của u máu gan?      1  \n",
       "...                                                 ...    ...  \n",
       "9495       Dinh dưỡng cho người bệnh mắc ung thư amidan      0  \n",
       "9496   Tại sao Việt nam lại có tỷ lệ nạo phá thai cao ?      0  \n",
       "9497      Bài tập cùng con giúp mẹ có vóc dáng hoàn hảo      0  \n",
       "9498          Tỷ lệ chữa khỏi Ung thư da là bao nhiêu ?      0  \n",
       "9499  Ung thư buồng trứng ảnh hưởng tới cơ thể như t...      0  \n",
       "\n",
       "[19002 rows x 3 columns]"
      ],
      "text/html": "<div>\n<style scoped>\n    .dataframe tbody tr th:only-of-type {\n        vertical-align: middle;\n    }\n\n    .dataframe tbody tr th {\n        vertical-align: top;\n    }\n\n    .dataframe thead th {\n        text-align: right;\n    }\n</style>\n<table border=\"1\" class=\"dataframe\">\n  <thead>\n    <tr style=\"text-align: right;\">\n      <th></th>\n      <th>question1</th>\n      <th>question2</th>\n      <th>label</th>\n    </tr>\n  </thead>\n  <tbody>\n    <tr>\n      <th>0</th>\n      <td>Trong tình huống nào thì người bệnh u máu gan ...</td>\n      <td>Người bệnh u máu gan được cấy ghép gan khi nào?</td>\n      <td>1</td>\n    </tr>\n    <tr>\n      <th>1</th>\n      <td>Trong tình huống nào thì người bệnh u máu gan ...</td>\n      <td>Khi nào người bệnh u máu gan sẽ được phẫu thuật?</td>\n      <td>1</td>\n    </tr>\n    <tr>\n      <th>2</th>\n      <td>Người bệnh u máu gan được cấy ghép gan khi nào?</td>\n      <td>Khi nào người bệnh u máu gan sẽ được phẫu thuật?</td>\n      <td>1</td>\n    </tr>\n    <tr>\n      <th>3</th>\n      <td>Triệu chứng lâm sàng của bệnh u máu gan là gì ...</td>\n      <td>Các triệu chứng của bệnh u máu gan?</td>\n      <td>1</td>\n    </tr>\n    <tr>\n      <th>4</th>\n      <td>Triệu chứng lâm sàng của bệnh u máu gan là gì ...</td>\n      <td>Dấu hiệu của u máu gan?</td>\n      <td>1</td>\n    </tr>\n    <tr>\n      <th>...</th>\n      <td>...</td>\n      <td>...</td>\n      <td>...</td>\n    </tr>\n    <tr>\n      <th>9495</th>\n      <td>Yếu sinh lý ở nam giới là tình trạng gì ?</td>\n      <td>Dinh dưỡng cho người bệnh mắc ung thư amidan</td>\n      <td>0</td>\n    </tr>\n    <tr>\n      <th>9496</th>\n      <td>Rong kinh là gì ?</td>\n      <td>Tại sao Việt nam lại có tỷ lệ nạo phá thai cao ?</td>\n      <td>0</td>\n    </tr>\n    <tr>\n      <th>9497</th>\n      <td>Cần vệ sinh như thế nào trong điều trị viêm lộ...</td>\n      <td>Bài tập cùng con giúp mẹ có vóc dáng hoàn hảo</td>\n      <td>0</td>\n    </tr>\n    <tr>\n      <th>9498</th>\n      <td>Nên chuẩn bị những loại thuốc gì khi đi du lịc...</td>\n      <td>Tỷ lệ chữa khỏi Ung thư da là bao nhiêu ?</td>\n      <td>0</td>\n    </tr>\n    <tr>\n      <th>9499</th>\n      <td>Khi nào cần làm IUI ?</td>\n      <td>Ung thư buồng trứng ảnh hưởng tới cơ thể như t...</td>\n      <td>0</td>\n    </tr>\n  </tbody>\n</table>\n<p>19002 rows × 3 columns</p>\n</div>"
     },
     "metadata": {},
     "execution_count": 6
    }
   ],
   "source": [
    "df_train = df_pos.append(df_neg)\n",
    "df_train"
   ]
  },
  {
   "cell_type": "code",
   "execution_count": 8,
   "metadata": {},
   "outputs": [
    {
     "output_type": "execute_result",
     "data": {
      "text/plain": [
       "                                              question1  \\\n",
       "5673  Chia sẻ kinh nghiệm kiểm tra làm xét nghiệm un...   \n",
       "2731  Những dấu hiệu nguy hiểm khi mang thai 3 tháng...   \n",
       "3259  Những lưu ý chăm sóc trẻ khi bị sốt virus mẹ c...   \n",
       "4889  Tại sao uống sữa trong 3 tháng cuối lại cần th...   \n",
       "8569  Thừa cân và béo phì có ảnh hưởng tới khả năng ...   \n",
       "...                                                 ...   \n",
       "6233             Thuốc giảm cân hoạt động như thế nào ?   \n",
       "6985                     Vitamin E có các tác dụng gì ?   \n",
       "7208  Có các phương pháp điều trị ung thư cổ tử cung...   \n",
       "7275  Mách mẹ cách vệ sinh rửa mũi an toàn cho trẻ s...   \n",
       "6746                      Loạn thị bao nhiêu độ là nặng   \n",
       "\n",
       "                                              question2  label  \n",
       "5673                    Ung thư cổ tử cung là bệnh gì ?      1  \n",
       "2731  Thực hư chuyện uống vitamin E làm tăng khả năn...      0  \n",
       "3259  Cha mẹ không có thói quen học tập đọc sách sẽ ...      0  \n",
       "4889              Sữa có các thành phần dinh dưỡng gì ?      1  \n",
       "8569                            Ăn lựu có tác dụng gì ?      0  \n",
       "...                                                 ...    ...  \n",
       "6233   Thuốc gây chán ăn có phải thuốc giảm cân không ?      1  \n",
       "6985                    Vitamin E có tốt cho da không ?      1  \n",
       "7208    Nguyên nhân gây ra khí hư khi mang thai là gì ?      0  \n",
       "7275  Bệnh nhiễm khuẩn hô hấp cấp tính là căn bệnh gì ?      1  \n",
       "6746                    Điều trị loạn thị như thế nào ?      1  \n",
       "\n",
       "[19002 rows x 3 columns]"
      ],
      "text/html": "<div>\n<style scoped>\n    .dataframe tbody tr th:only-of-type {\n        vertical-align: middle;\n    }\n\n    .dataframe tbody tr th {\n        vertical-align: top;\n    }\n\n    .dataframe thead th {\n        text-align: right;\n    }\n</style>\n<table border=\"1\" class=\"dataframe\">\n  <thead>\n    <tr style=\"text-align: right;\">\n      <th></th>\n      <th>question1</th>\n      <th>question2</th>\n      <th>label</th>\n    </tr>\n  </thead>\n  <tbody>\n    <tr>\n      <th>5673</th>\n      <td>Chia sẻ kinh nghiệm kiểm tra làm xét nghiệm un...</td>\n      <td>Ung thư cổ tử cung là bệnh gì ?</td>\n      <td>1</td>\n    </tr>\n    <tr>\n      <th>2731</th>\n      <td>Những dấu hiệu nguy hiểm khi mang thai 3 tháng...</td>\n      <td>Thực hư chuyện uống vitamin E làm tăng khả năn...</td>\n      <td>0</td>\n    </tr>\n    <tr>\n      <th>3259</th>\n      <td>Những lưu ý chăm sóc trẻ khi bị sốt virus mẹ c...</td>\n      <td>Cha mẹ không có thói quen học tập đọc sách sẽ ...</td>\n      <td>0</td>\n    </tr>\n    <tr>\n      <th>4889</th>\n      <td>Tại sao uống sữa trong 3 tháng cuối lại cần th...</td>\n      <td>Sữa có các thành phần dinh dưỡng gì ?</td>\n      <td>1</td>\n    </tr>\n    <tr>\n      <th>8569</th>\n      <td>Thừa cân và béo phì có ảnh hưởng tới khả năng ...</td>\n      <td>Ăn lựu có tác dụng gì ?</td>\n      <td>0</td>\n    </tr>\n    <tr>\n      <th>...</th>\n      <td>...</td>\n      <td>...</td>\n      <td>...</td>\n    </tr>\n    <tr>\n      <th>6233</th>\n      <td>Thuốc giảm cân hoạt động như thế nào ?</td>\n      <td>Thuốc gây chán ăn có phải thuốc giảm cân không ?</td>\n      <td>1</td>\n    </tr>\n    <tr>\n      <th>6985</th>\n      <td>Vitamin E có các tác dụng gì ?</td>\n      <td>Vitamin E có tốt cho da không ?</td>\n      <td>1</td>\n    </tr>\n    <tr>\n      <th>7208</th>\n      <td>Có các phương pháp điều trị ung thư cổ tử cung...</td>\n      <td>Nguyên nhân gây ra khí hư khi mang thai là gì ?</td>\n      <td>0</td>\n    </tr>\n    <tr>\n      <th>7275</th>\n      <td>Mách mẹ cách vệ sinh rửa mũi an toàn cho trẻ s...</td>\n      <td>Bệnh nhiễm khuẩn hô hấp cấp tính là căn bệnh gì ?</td>\n      <td>1</td>\n    </tr>\n    <tr>\n      <th>6746</th>\n      <td>Loạn thị bao nhiêu độ là nặng</td>\n      <td>Điều trị loạn thị như thế nào ?</td>\n      <td>1</td>\n    </tr>\n  </tbody>\n</table>\n<p>19002 rows × 3 columns</p>\n</div>"
     },
     "metadata": {},
     "execution_count": 8
    }
   ],
   "source": [
    "from sklearn.utils import shuffle\n",
    "df_train = shuffle(df_train)\n",
    "df_train"
   ]
  },
  {
   "cell_type": "code",
   "execution_count": null,
   "metadata": {},
   "outputs": [],
   "source": []
  }
 ]
}