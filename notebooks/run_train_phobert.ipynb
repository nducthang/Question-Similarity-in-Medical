{
 "metadata": {
  "orig_nbformat": 4,
  "kernelspec": {
   "name": "python3",
   "display_name": "Python 3",
   "language": "python"
  }
 },
 "nbformat": 4,
 "nbformat_minor": 2,
 "cells": [
  {
   "cell_type": "code",
   "execution_count": 1,
   "metadata": {},
   "outputs": [
    {
     "output_type": "stream",
     "name": "stdout",
     "text": [
      "2021-06-22 15:46:39.762610: I tensorflow/stream_executor/platform/default/dso_loader.cc:48] Successfully opened dynamic library libcudart.so.10.1\n",
      "Special tokens have been added in the vocabulary, make sure the associated word embedding are fine-tuned or trained.\n",
      "  0%|                                                 | 0/15201 [00:00<?, ?it/s]\n",
      "Traceback (most recent call last):\n",
      "  File \"src/PhoBert/run.py\", line 31, in <module>\n",
      "    train(model, dataloaders_dict, config['EPOCHS'], optimizer, loss_fn,  config, device)\n",
      "  File \"/media/thang/New Volume/Question-Similarity-in-Medical/experiments/src/PhoBert/PhoBertTrain.py\", line 44, in train\n",
      "    optimizer.step()\n",
      "  File \"/home/thang/env/lib/python3.6/site-packages/torch/optim/optimizer.py\", line 88, in wrapper\n",
      "    return func(*args, **kwargs)\n",
      "  File \"/home/thang/env/lib/python3.6/site-packages/torch/autograd/grad_mode.py\", line 28, in decorate_context\n",
      "    return func(*args, **kwargs)\n",
      "  File \"/home/thang/env/lib/python3.6/site-packages/torch/optim/adamw.py\", line 121, in step\n",
      "    eps=group['eps'])\n",
      "  File \"/home/thang/env/lib/python3.6/site-packages/torch/optim/_functional.py\", line 139, in adamw\n",
      "    denom = (exp_avg_sq.sqrt() / math.sqrt(bias_correction2)).add_(eps)\n",
      "RuntimeError: CUDA out of memory. Tried to allocate 188.00 MiB (GPU 0; 3.95 GiB total capacity; 2.20 GiB already allocated; 262.06 MiB free; 2.38 GiB reserved in total by PyTorch)\n"
     ]
    }
   ],
   "source": [
    "!python3 src/PhoBert/run.py"
   ]
  },
  {
   "cell_type": "code",
   "execution_count": null,
   "metadata": {},
   "outputs": [],
   "source": []
  }
 ]
}